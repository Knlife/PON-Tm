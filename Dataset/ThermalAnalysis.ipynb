{
 "cells": [
  {
   "cell_type": "code",
   "id": "initial_id",
   "metadata": {
    "collapsed": true,
    "ExecuteTime": {
     "end_time": "2024-07-27T13:40:14.110088Z",
     "start_time": "2024-07-27T13:40:11.301973Z"
    }
   },
   "source": [
    "import pandas as pd\n",
    "import numpy as np\n",
    "import matplotlib.pyplot as plt\n",
    "import os\n",
    "os.chdir(\"D:/WorkPath/PycharmProjects/MutTm-pred\")\n",
    "from Dataset.Process4Dataset.DatasetCeator4PonDT import Dataset4MutTm\n",
    "from MachineLearning.Util import train_validation_test, train_test, test"
   ],
   "outputs": [],
   "execution_count": 2
  },
  {
   "metadata": {
    "ExecuteTime": {
     "end_time": "2024-07-27T13:42:44.642156Z",
     "start_time": "2024-07-27T13:40:14.111240Z"
    }
   },
   "cell_type": "code",
   "source": [
    "dataset = Dataset4MutTm(package_path=r\"D:\\WorkPath\\PycharmProjects\\MutTm-pred\\Dataset\\Process4Dataset\",\n",
    "                          train_dataset_path=r\"D:\\WorkPath\\PycharmProjects\\MutTm-pred\\Dataset\\BasicData\\PonDB\\pH-Tm\\PonDB.csv\",\n",
    "                          test_dataset_path=r\"D:\\WorkPath\\PycharmProjects\\MutTm-pred\\Dataset\\BasicData\\ProThermDB\\pH-Tm\\excllent_ProThermDB_Testing.csv\",\n",
    "                          training_version=\"PonDB_withpHTm\",\n",
    "                          testing_version=\"ProThermDBTest_withpHTm\",\n",
    "                          selected_columns=[\"UniProt_ID\", \"Mutation\", \"pH\", \"Tm\", \"ΔTm\"],\n",
    "                          features=[\"neighbor\", \"aaindex\", \"group\", \"param\", \"rpm\", \"hydrop\", \"GO\", \"context_embedding\"],\n",
    "                          context_length=25,\n",
    "                          embedding_model_path=\"DeepLearning/EmbeddingModels/ESM-2/esm2_t33_650M_UR50D\",\n",
    "                          embedding_model_name=\"ESM-2-650M\",\n",
    "                          embedding_method=\"add\")"
   ],
   "id": "be86568c633cba59",
   "outputs": [
    {
     "name": "stdout",
     "output_type": "stream",
     "text": [
      "当前使用设备：  NVIDIA GeForce RTX 4070 Ti SUPER\n",
      "===正在从训练集版本为PonDB_withpHTm、测试集版本为ProThermDBTest_withpHTm的原始数据集中进行数据清洗和生物特征提取工作===\n",
      "1.预处理训练集数据...\n",
      "-删除数据缺失行及非法行共计0行\n",
      "-丢弃pH/Tm的缺失值\n",
      "-前一数据集采用了后一数据集中的0条数据，现已删除\n",
      "-获取[序列]信息.....该数据集已经经过处理，直接使用缓存文件\n",
      "-删除了49个UniProtID无法获取序列的数据\n",
      "-删除了15条非法长度的数据，当前蛋白质长度被限制在(50, 5000)\n",
      "-删除条875个突变位点对应错误的数据\n",
      "2.预处理测试集数据...\n",
      "-删除数据缺失行及非法行共计0行\n",
      "-丢弃pH/Tm的缺失值\n",
      "-获取[序列]信息.....该数据集已经经过处理，直接使用缓存文件\n",
      "-删除了0个UniProtID无法获取序列的数据\n",
      "-删除了0条非法长度的数据，当前蛋白质长度被限制在(50, 5000)\n",
      "-删除条16个突变位点对应错误的数据\n",
      "3.为训练集数据提取生物特征...\n",
      "-获取[neighbor特征].....该数据集已经经过处理，直接使用缓存文件\n",
      "-获取[aaindex特征].....该数据集已经经过处理，直接使用缓存文件\n",
      "-获取[group特征].....该数据集已经经过处理，直接使用缓存文件\n",
      "-获取[param]特征.....该数据集已经经过处理，直接使用缓存文件\n",
      "-获取[pssm]特征.....该数据集已经经过处理，直接使用缓存文件\n",
      "-获取[hydrop]特征.....该数据集已经经过处理，直接使用缓存文件\n",
      "-获取[context_embedding]特征,该特征没有缓存文件，直接生成...\n"
     ]
    },
    {
     "name": "stderr",
     "output_type": "stream",
     "text": [
      "Some weights of EsmModel were not initialized from the model checkpoint at DeepLearning/EmbeddingModels/ESM-2/esm2_t33_650M_UR50D and are newly initialized: ['esm.pooler.dense.bias', 'esm.pooler.dense.weight']\n",
      "You should probably TRAIN this model on a down-stream task to be able to use it for predictions and inference.\n"
     ]
    },
    {
     "name": "stdout",
     "output_type": "stream",
     "text": [
      "嵌入模型后显存使用量:  2.494685649871826\n",
      "-释放模型后显存用量: 0.008752822875976562\n",
      "4.为测试集数据提取生物特征...\n",
      "-获取[neighbor特征].....该数据集已经经过处理，直接使用缓存文件\n",
      "-获取[aaindex特征].....该数据集已经经过处理，直接使用缓存文件\n",
      "-获取[group特征].....该数据集已经经过处理，直接使用缓存文件\n",
      "-获取[param]特征.....该数据集已经经过处理，直接使用缓存文件\n",
      "-获取[pssm]特征.....该数据集已经经过处理，直接使用缓存文件\n",
      "-获取[hydrop]特征.....该数据集已经经过处理，直接使用缓存文件\n",
      "-获取[context_embedding]特征,该特征没有缓存文件，直接生成...\n"
     ]
    },
    {
     "name": "stderr",
     "output_type": "stream",
     "text": [
      "Some weights of EsmModel were not initialized from the model checkpoint at DeepLearning/EmbeddingModels/ESM-2/esm2_t33_650M_UR50D and are newly initialized: ['esm.pooler.dense.bias', 'esm.pooler.dense.weight']\n",
      "You should probably TRAIN this model on a down-stream task to be able to use it for predictions and inference.\n"
     ]
    },
    {
     "name": "stdout",
     "output_type": "stream",
     "text": [
      "嵌入模型后显存使用量:  2.503221035003662\n",
      "-释放模型后显存用量: 0.008752822875976562\n",
      "5.利用GO富集分析从训练集和测试集中提取LR与PA值\n",
      "-获取[GO]特征....."
     ]
    },
    {
     "name": "stderr",
     "output_type": "stream",
     "text": [
      "100%|██████████| 6137/6137 [00:00<00:00, 22731.12it/s]\n",
      "100%|██████████| 344/344 [00:00<00:00, 25368.18it/s]\n",
      "100%|██████████| 6137/6137 [00:00<00:00, 9630.71it/s] \n",
      "100%|██████████| 344/344 [00:00<00:00, 9700.88it/s]\n"
     ]
    },
    {
     "name": "stdout",
     "output_type": "stream",
     "text": [
      "6.从全数据集中提取生物特征集、标签集和基本信息集...\n",
      "7.数据清洗和生物特征提取工作完成==>当前显存用量:0.0079345703125\n"
     ]
    }
   ],
   "execution_count": 3
  },
  {
   "metadata": {
    "ExecuteTime": {
     "end_time": "2024-07-27T13:51:56.676608Z",
     "start_time": "2024-07-27T13:51:56.670816Z"
    }
   },
   "cell_type": "code",
   "source": [
    "Tm = pd.DataFrame(data=pd.concat([dataset.train_feature_set[\"Tm\"], dataset\n",
    "                                 .test_feature_set[\"Tm\"]]), columns=[\"Tm\"])\n",
    "Tm"
   ],
   "id": "3445a328ba0f9326",
   "outputs": [
    {
     "data": {
      "text/plain": [
       "       Tm\n",
       "0    84.3\n",
       "1    77.6\n",
       "2    77.4\n",
       "3    75.8\n",
       "4    76.5\n",
       "..    ...\n",
       "339  42.8\n",
       "340  50.1\n",
       "341  50.8\n",
       "342  44.8\n",
       "343  81.4\n",
       "\n",
       "[6481 rows x 1 columns]"
      ],
      "text/html": [
       "<div>\n",
       "<style scoped>\n",
       "    .dataframe tbody tr th:only-of-type {\n",
       "        vertical-align: middle;\n",
       "    }\n",
       "\n",
       "    .dataframe tbody tr th {\n",
       "        vertical-align: top;\n",
       "    }\n",
       "\n",
       "    .dataframe thead th {\n",
       "        text-align: right;\n",
       "    }\n",
       "</style>\n",
       "<table border=\"1\" class=\"dataframe\">\n",
       "  <thead>\n",
       "    <tr style=\"text-align: right;\">\n",
       "      <th></th>\n",
       "      <th>Tm</th>\n",
       "    </tr>\n",
       "  </thead>\n",
       "  <tbody>\n",
       "    <tr>\n",
       "      <th>0</th>\n",
       "      <td>84.3</td>\n",
       "    </tr>\n",
       "    <tr>\n",
       "      <th>1</th>\n",
       "      <td>77.6</td>\n",
       "    </tr>\n",
       "    <tr>\n",
       "      <th>2</th>\n",
       "      <td>77.4</td>\n",
       "    </tr>\n",
       "    <tr>\n",
       "      <th>3</th>\n",
       "      <td>75.8</td>\n",
       "    </tr>\n",
       "    <tr>\n",
       "      <th>4</th>\n",
       "      <td>76.5</td>\n",
       "    </tr>\n",
       "    <tr>\n",
       "      <th>...</th>\n",
       "      <td>...</td>\n",
       "    </tr>\n",
       "    <tr>\n",
       "      <th>339</th>\n",
       "      <td>42.8</td>\n",
       "    </tr>\n",
       "    <tr>\n",
       "      <th>340</th>\n",
       "      <td>50.1</td>\n",
       "    </tr>\n",
       "    <tr>\n",
       "      <th>341</th>\n",
       "      <td>50.8</td>\n",
       "    </tr>\n",
       "    <tr>\n",
       "      <th>342</th>\n",
       "      <td>44.8</td>\n",
       "    </tr>\n",
       "    <tr>\n",
       "      <th>343</th>\n",
       "      <td>81.4</td>\n",
       "    </tr>\n",
       "  </tbody>\n",
       "</table>\n",
       "<p>6481 rows × 1 columns</p>\n",
       "</div>"
      ]
     },
     "execution_count": 21,
     "metadata": {},
     "output_type": "execute_result"
    }
   ],
   "execution_count": 21
  },
  {
   "metadata": {
    "ExecuteTime": {
     "end_time": "2024-07-27T14:01:15.543503Z",
     "start_time": "2024-07-27T14:01:15.490259Z"
    }
   },
   "cell_type": "code",
   "source": [
    "# 计算每部分的数量\n",
    "count_11 = Tm[Tm[\"Tm\"] >= 60].shape[0]\n",
    "count_60 = Tm[(Tm[\"Tm\"] >= 50) & (Tm[\"Tm\"] < 60)].shape[0]\n",
    "count_50 = Tm[(Tm[\"Tm\"] >= 40) & (Tm[\"Tm\"] < 50)].shape[0]\n",
    "count_20 = Tm[Tm[\"Tm\"] < 40].shape[0]\n",
    "\n",
    "# 准备绘图数据\n",
    "data = [count_20, count_50, count_60, count_11]\n",
    "labels = [\"Tm < 40\", \"40 <= Tm < 50\", \"50 <= Tm < 60\", \"Tm >= 60\"]\n",
    "\n",
    "# 绘制柱状图\n",
    "fig, ax = plt.subplots()\n",
    "bars = ax.bar(labels, data, color=['blue', 'orange', 'brown', 'red'])\n",
    "\n",
    "# 在每个柱子上方添加标签\n",
    "for bar in bars:\n",
    "    yval = bar.get_height()\n",
    "    ax.text(bar.get_x() + bar.get_width()/2, yval, int(yval), ha='center', va='bottom')\n",
    "    \n",
    "# plt.bar(labels, data, color=['blue', 'orange', 'brown', 'red'])\n",
    "plt.xlabel('Tm Range')\n",
    "plt.ylabel('Frequency')\n",
    "plt.title('Distribution of Tm Values')\n",
    "plt.show()"
   ],
   "id": "460838bfa7a70441",
   "outputs": [
    {
     "data": {
      "text/plain": [
       "<Figure size 640x480 with 1 Axes>"
      ],
      "image/png": "[encoded data removed]"
     },
     "metadata": {},
     "output_type": "display_data"
    }
   ],
   "execution_count": 29
  }
 ],
 "metadata": {
  "kernelspec": {
   "display_name": "Python 3",
   "language": "python",
   "name": "python3"
  },
  "language_info": {
   "codemirror_mode": {
    "name": "ipython",
    "version": 2
   },
   "file_extension": ".py",
   "mimetype": "text/x-python",
   "name": "python",
   "nbconvert_exporter": "python",
   "pygments_lexer": "ipython2",
   "version": "2.7.6"
  }
 },
 "nbformat": 4,
 "nbformat_minor": 5
}
