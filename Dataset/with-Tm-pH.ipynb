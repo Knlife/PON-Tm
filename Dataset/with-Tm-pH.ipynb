{
 "cells": [
  {
   "cell_type": "markdown",
   "id": "b9a5b6af42b61d12",
   "metadata": {
    "collapsed": false
   },
   "source": [
    "# 单突变数据库[ProThermDB-single MPTherm-pred]"
   ]
  },
  {
   "cell_type": "code",
   "source": [
    "import json\n",
    "import os\n",
    "import pandas as pd\n",
    "import matplotlib.pyplot as plt\n",
    "import matplotlib.ticker as ticker\n",
    "import tqdm\n",
    "from sklearn.model_selection import train_test_split"
   ],
   "metadata": {
    "collapsed": false,
    "ExecuteTime": {
     "end_time": "2024-07-23T03:44:45.216739Z",
     "start_time": "2024-07-23T03:44:44.073472Z"
    }
   },
   "id": "7aceb3dd9ba37467",
   "outputs": [],
   "execution_count": 1
  },
  {
   "cell_type": "markdown",
   "source": [
    "# 0.data preprocessing functions"
   ],
   "metadata": {
    "collapsed": false
   },
   "id": "847520ed119c007b"
  },
  {
   "cell_type": "code",
   "source": "from Process4Dataset.initializor4PonDT import wash4MutTm, check4mult, duplicate4MutTm, delete4Dup, select4Dup",
   "metadata": {
    "collapsed": false,
    "ExecuteTime": {
     "end_time": "2024-07-23T03:44:45.222355Z",
     "start_time": "2024-07-23T03:44:45.217738Z"
    }
   },
   "id": "a67f0389941e2e6d",
   "outputs": [],
   "execution_count": 2
  },
  {
   "cell_type": "markdown",
   "source": [
    "# 常规情况——不关注Tm与pH"
   ],
   "metadata": {
    "collapsed": false
   },
   "id": "fd0495dcaecdef88"
  },
  {
   "cell_type": "code",
   "source": [
    "columns = [\"UniProt_ID\", \"Mutation\", \"Tm\", \"pH\"]"
   ],
   "metadata": {
    "collapsed": false,
    "ExecuteTime": {
     "end_time": "2024-07-23T03:44:45.225174Z",
     "start_time": "2024-07-23T03:44:45.222355Z"
    }
   },
   "id": "5bdb86aa212b7e7a",
   "outputs": [],
   "execution_count": 3
  },
  {
   "cell_type": "markdown",
   "source": [
    "## 1.ProThermDB"
   ],
   "metadata": {
    "collapsed": false
   },
   "id": "3fca5e0472950985"
  },
  {
   "cell_type": "code",
   "source": [
    "ProThermDB = pd.read_csv(\"BasicData/InitializationDataset/ProThermDB.tsv\", sep=\"\\t\")[columns + [\"ΔTm\"]]\n",
    "ProThermDB.sort_values(by=columns, inplace=True, ascending=False)\n",
    "ProThermDB.reset_index(drop=True, inplace=True)\n",
    "ProThermDB"
   ],
   "metadata": {
    "collapsed": false,
    "ExecuteTime": {
     "end_time": "2024-07-23T03:44:45.271617Z",
     "start_time": "2024-07-23T03:44:45.225174Z"
    }
   },
   "id": "5abc105369a89f24",
   "outputs": [
    {
     "data": {
      "text/plain": [
       "     UniProt_ID                  Mutation Tm   pH   ΔTm\n",
       "0        W0TJ64  S176A (Based on Uniprot)  -  8.0  80.4\n",
       "1        W0TJ64  S176A (Based on Uniprot)  -  8.0  78.2\n",
       "2        W0TJ64  S176A (Based on Uniprot)  -  8.0  78.4\n",
       "3        W0TJ64  S176A (Based on Uniprot)  -  8.0  79.8\n",
       "4        W0TJ64  S176A (Based on Uniprot)  -  8.0  80.4\n",
       "...         ...                       ... ..  ...   ...\n",
       "9731          -                         -  -  7.0     -\n",
       "9732          -                         -  -  7.0     -\n",
       "9733          -                         -  -  5.0     -\n",
       "9734          -                         -  -  5.0     -\n",
       "9735          -                         -  -  5.0     -\n",
       "\n",
       "[9736 rows x 5 columns]"
      ],
      "text/html": [
       "<div>\n",
       "<style scoped>\n",
       "    .dataframe tbody tr th:only-of-type {\n",
       "        vertical-align: middle;\n",
       "    }\n",
       "\n",
       "    .dataframe tbody tr th {\n",
       "        vertical-align: top;\n",
       "    }\n",
       "\n",
       "    .dataframe thead th {\n",
       "        text-align: right;\n",
       "    }\n",
       "</style>\n",
       "<table border=\"1\" class=\"dataframe\">\n",
       "  <thead>\n",
       "    <tr style=\"text-align: right;\">\n",
       "      <th></th>\n",
       "      <th>UniProt_ID</th>\n",
       "      <th>Mutation</th>\n",
       "      <th>Tm</th>\n",
       "      <th>pH</th>\n",
       "      <th>ΔTm</th>\n",
       "    </tr>\n",
       "  </thead>\n",
       "  <tbody>\n",
       "    <tr>\n",
       "      <th>0</th>\n",
       "      <td>W0TJ64</td>\n",
       "      <td>S176A (Based on Uniprot)</td>\n",
       "      <td>-</td>\n",
       "      <td>8.0</td>\n",
       "      <td>80.4</td>\n",
       "    </tr>\n",
       "    <tr>\n",
       "      <th>1</th>\n",
       "      <td>W0TJ64</td>\n",
       "      <td>S176A (Based on Uniprot)</td>\n",
       "      <td>-</td>\n",
       "      <td>8.0</td>\n",
       "      <td>78.2</td>\n",
       "    </tr>\n",
       "    <tr>\n",
       "      <th>2</th>\n",
       "      <td>W0TJ64</td>\n",
       "      <td>S176A (Based on Uniprot)</td>\n",
       "      <td>-</td>\n",
       "      <td>8.0</td>\n",
       "      <td>78.4</td>\n",
       "    </tr>\n",
       "    <tr>\n",
       "      <th>3</th>\n",
       "      <td>W0TJ64</td>\n",
       "      <td>S176A (Based on Uniprot)</td>\n",
       "      <td>-</td>\n",
       "      <td>8.0</td>\n",
       "      <td>79.8</td>\n",
       "    </tr>\n",
       "    <tr>\n",
       "      <th>4</th>\n",
       "      <td>W0TJ64</td>\n",
       "      <td>S176A (Based on Uniprot)</td>\n",
       "      <td>-</td>\n",
       "      <td>8.0</td>\n",
       "      <td>80.4</td>\n",
       "    </tr>\n",
       "    <tr>\n",
       "      <th>...</th>\n",
       "      <td>...</td>\n",
       "      <td>...</td>\n",
       "      <td>...</td>\n",
       "      <td>...</td>\n",
       "      <td>...</td>\n",
       "    </tr>\n",
       "    <tr>\n",
       "      <th>9731</th>\n",
       "      <td>-</td>\n",
       "      <td>-</td>\n",
       "      <td>-</td>\n",
       "      <td>7.0</td>\n",
       "      <td>-</td>\n",
       "    </tr>\n",
       "    <tr>\n",
       "      <th>9732</th>\n",
       "      <td>-</td>\n",
       "      <td>-</td>\n",
       "      <td>-</td>\n",
       "      <td>7.0</td>\n",
       "      <td>-</td>\n",
       "    </tr>\n",
       "    <tr>\n",
       "      <th>9733</th>\n",
       "      <td>-</td>\n",
       "      <td>-</td>\n",
       "      <td>-</td>\n",
       "      <td>5.0</td>\n",
       "      <td>-</td>\n",
       "    </tr>\n",
       "    <tr>\n",
       "      <th>9734</th>\n",
       "      <td>-</td>\n",
       "      <td>-</td>\n",
       "      <td>-</td>\n",
       "      <td>5.0</td>\n",
       "      <td>-</td>\n",
       "    </tr>\n",
       "    <tr>\n",
       "      <th>9735</th>\n",
       "      <td>-</td>\n",
       "      <td>-</td>\n",
       "      <td>-</td>\n",
       "      <td>5.0</td>\n",
       "      <td>-</td>\n",
       "    </tr>\n",
       "  </tbody>\n",
       "</table>\n",
       "<p>9736 rows × 5 columns</p>\n",
       "</div>"
      ]
     },
     "execution_count": 4,
     "metadata": {},
     "output_type": "execute_result"
    }
   ],
   "execution_count": 4
  },
  {
   "cell_type": "markdown",
   "source": [
    "### 1.1清洗数据[利用DatasetCreator4MutTm]"
   ],
   "metadata": {
    "collapsed": false
   },
   "id": "415c9b7eb476d301"
  },
  {
   "cell_type": "code",
   "source": [
    "ProThermDB, ProThermDB_washed = wash4MutTm(ProThermDB, avg_filling=True, focus_columns=columns)\n",
    "ProThermDB_washed"
   ],
   "metadata": {
    "collapsed": false,
    "ExecuteTime": {
     "end_time": "2024-07-23T03:44:45.807753Z",
     "start_time": "2024-07-23T03:44:45.272615Z"
    }
   },
   "id": "e89f6ab12f4c0de9",
   "outputs": [
    {
     "name": "stdout",
     "output_type": "stream",
     "text": [
      "-删除数据缺失行及非法行共计4502行\n",
      "-补全pH/Tm的缺失值 -利用PonStab2.0对蛋白质序列的Tm进行预测补全...暂时未进行，因此对所有Tm缺失条目进行删除\n",
      "-对于实验条件pH，利用平均值进行补充，而pH的平均值为6.42020 -由于热稳定性预测工具未完善，Tm的补全措施取消，剔除所有非法Tm\n"
     ]
    },
    {
     "data": {
      "text/plain": [
       "     UniProt_ID                  Mutation  Tm   pH ΔTm\n",
       "10       S4WCF9  V571L (Based on UniProt)  81  8.0   -\n",
       "11       S4WCF9  V571L (Based on UniProt)  72  8.0   -\n",
       "12       S4WCF9  T586I (Based on UniProt)  95  8.0   -\n",
       "13       S4WCF9  L558S (Based on UniProt)  73  8.0   -\n",
       "14       S4WCF9  L558S (Based on UniProt)  51  8.0   -\n",
       "...         ...                       ...  ..  ...  ..\n",
       "9731          -                         -   -  7.0   -\n",
       "9732          -                         -   -  7.0   -\n",
       "9733          -                         -   -  5.0   -\n",
       "9734          -                         -   -  5.0   -\n",
       "9735          -                         -   -  5.0   -\n",
       "\n",
       "[4502 rows x 5 columns]"
      ],
      "text/html": [
       "<div>\n",
       "<style scoped>\n",
       "    .dataframe tbody tr th:only-of-type {\n",
       "        vertical-align: middle;\n",
       "    }\n",
       "\n",
       "    .dataframe tbody tr th {\n",
       "        vertical-align: top;\n",
       "    }\n",
       "\n",
       "    .dataframe thead th {\n",
       "        text-align: right;\n",
       "    }\n",
       "</style>\n",
       "<table border=\"1\" class=\"dataframe\">\n",
       "  <thead>\n",
       "    <tr style=\"text-align: right;\">\n",
       "      <th></th>\n",
       "      <th>UniProt_ID</th>\n",
       "      <th>Mutation</th>\n",
       "      <th>Tm</th>\n",
       "      <th>pH</th>\n",
       "      <th>ΔTm</th>\n",
       "    </tr>\n",
       "  </thead>\n",
       "  <tbody>\n",
       "    <tr>\n",
       "      <th>10</th>\n",
       "      <td>S4WCF9</td>\n",
       "      <td>V571L (Based on UniProt)</td>\n",
       "      <td>81</td>\n",
       "      <td>8.0</td>\n",
       "      <td>-</td>\n",
       "    </tr>\n",
       "    <tr>\n",
       "      <th>11</th>\n",
       "      <td>S4WCF9</td>\n",
       "      <td>V571L (Based on UniProt)</td>\n",
       "      <td>72</td>\n",
       "      <td>8.0</td>\n",
       "      <td>-</td>\n",
       "    </tr>\n",
       "    <tr>\n",
       "      <th>12</th>\n",
       "      <td>S4WCF9</td>\n",
       "      <td>T586I (Based on UniProt)</td>\n",
       "      <td>95</td>\n",
       "      <td>8.0</td>\n",
       "      <td>-</td>\n",
       "    </tr>\n",
       "    <tr>\n",
       "      <th>13</th>\n",
       "      <td>S4WCF9</td>\n",
       "      <td>L558S (Based on UniProt)</td>\n",
       "      <td>73</td>\n",
       "      <td>8.0</td>\n",
       "      <td>-</td>\n",
       "    </tr>\n",
       "    <tr>\n",
       "      <th>14</th>\n",
       "      <td>S4WCF9</td>\n",
       "      <td>L558S (Based on UniProt)</td>\n",
       "      <td>51</td>\n",
       "      <td>8.0</td>\n",
       "      <td>-</td>\n",
       "    </tr>\n",
       "    <tr>\n",
       "      <th>...</th>\n",
       "      <td>...</td>\n",
       "      <td>...</td>\n",
       "      <td>...</td>\n",
       "      <td>...</td>\n",
       "      <td>...</td>\n",
       "    </tr>\n",
       "    <tr>\n",
       "      <th>9731</th>\n",
       "      <td>-</td>\n",
       "      <td>-</td>\n",
       "      <td>-</td>\n",
       "      <td>7.0</td>\n",
       "      <td>-</td>\n",
       "    </tr>\n",
       "    <tr>\n",
       "      <th>9732</th>\n",
       "      <td>-</td>\n",
       "      <td>-</td>\n",
       "      <td>-</td>\n",
       "      <td>7.0</td>\n",
       "      <td>-</td>\n",
       "    </tr>\n",
       "    <tr>\n",
       "      <th>9733</th>\n",
       "      <td>-</td>\n",
       "      <td>-</td>\n",
       "      <td>-</td>\n",
       "      <td>5.0</td>\n",
       "      <td>-</td>\n",
       "    </tr>\n",
       "    <tr>\n",
       "      <th>9734</th>\n",
       "      <td>-</td>\n",
       "      <td>-</td>\n",
       "      <td>-</td>\n",
       "      <td>5.0</td>\n",
       "      <td>-</td>\n",
       "    </tr>\n",
       "    <tr>\n",
       "      <th>9735</th>\n",
       "      <td>-</td>\n",
       "      <td>-</td>\n",
       "      <td>-</td>\n",
       "      <td>5.0</td>\n",
       "      <td>-</td>\n",
       "    </tr>\n",
       "  </tbody>\n",
       "</table>\n",
       "<p>4502 rows × 5 columns</p>\n",
       "</div>"
      ]
     },
     "execution_count": 5,
     "metadata": {},
     "output_type": "execute_result"
    }
   ],
   "execution_count": 5
  },
  {
   "cell_type": "markdown",
   "source": [
    "### 1.2.检测是否存在多测量值"
   ],
   "metadata": {
    "collapsed": false
   },
   "id": "e60cea17a32897d5"
  },
  {
   "cell_type": "code",
   "source": [
    "ProThermDB_mult_cnt, ProThermDB_mult_index = check4mult(ProThermDB, columns)\n",
    "ProThermDB_multiple_deltaTm = ProThermDB.iloc[ProThermDB_mult_index, :]\n",
    "print(f\"ProThermDB数据库中存在{ProThermDB_mult_cnt}条多测量值\")"
   ],
   "metadata": {
    "collapsed": false,
    "ExecuteTime": {
     "end_time": "2024-07-23T03:44:45.812697Z",
     "start_time": "2024-07-23T03:44:45.807753Z"
    }
   },
   "id": "a341b67ce9693caa",
   "outputs": [
    {
     "name": "stdout",
     "output_type": "stream",
     "text": [
      "ProThermDB数据库中存在415条多测量值\n"
     ]
    }
   ],
   "execution_count": 6
  },
  {
   "cell_type": "markdown",
   "source": [
    "### 1.3.针对多测量值进行处理"
   ],
   "metadata": {
    "collapsed": false
   },
   "id": "506bf677a6e75f7d"
  },
  {
   "cell_type": "code",
   "source": [
    "del_ProThermDB = duplicate4MutTm(ProThermDB, mode=\"Delete\", focus_columns=columns).reset_index(drop=True)\n",
    "avg_ProThermDB = duplicate4MutTm(ProThermDB, mode=\"Average\", focus_columns=columns).reset_index(drop=True)\n",
    "avg_ProThermDB"
   ],
   "metadata": {
    "collapsed": false,
    "ExecuteTime": {
     "end_time": "2024-07-23T03:44:45.973902Z",
     "start_time": "2024-07-23T03:44:45.812697Z"
    }
   },
   "id": "7e42624c104e2e03",
   "outputs": [
    {
     "data": {
      "text/plain": [
       "      UniProt_ID Mutation    Tm   pH  ΔTm\n",
       "0     A0A060GYS1     H22R  88.0  7.5  9.9\n",
       "1     A0A060GYS1    P224R  84.3  7.5  2.3\n",
       "2     A0A410ZNC6    A341S  33.6  7.5  3.6\n",
       "3     A0A410ZNC6    F184L  31.0  7.5  1.0\n",
       "4     A0A410ZNC6    P250L  34.5  7.5  4.5\n",
       "...          ...      ...   ...  ...  ...\n",
       "4759      R9S082     T52A  79.4  9.6 -2.8\n",
       "4760      R9S082     T68A  81.7  9.6 -0.5\n",
       "4761      R9S082    V115A  79.3  9.6 -2.9\n",
       "4762      R9S082     V14A  80.9  9.6 -1.3\n",
       "4763      R9S082     V67A  83.6  9.6  1.4\n",
       "\n",
       "[4764 rows x 5 columns]"
      ],
      "text/html": [
       "<div>\n",
       "<style scoped>\n",
       "    .dataframe tbody tr th:only-of-type {\n",
       "        vertical-align: middle;\n",
       "    }\n",
       "\n",
       "    .dataframe tbody tr th {\n",
       "        vertical-align: top;\n",
       "    }\n",
       "\n",
       "    .dataframe thead th {\n",
       "        text-align: right;\n",
       "    }\n",
       "</style>\n",
       "<table border=\"1\" class=\"dataframe\">\n",
       "  <thead>\n",
       "    <tr style=\"text-align: right;\">\n",
       "      <th></th>\n",
       "      <th>UniProt_ID</th>\n",
       "      <th>Mutation</th>\n",
       "      <th>Tm</th>\n",
       "      <th>pH</th>\n",
       "      <th>ΔTm</th>\n",
       "    </tr>\n",
       "  </thead>\n",
       "  <tbody>\n",
       "    <tr>\n",
       "      <th>0</th>\n",
       "      <td>A0A060GYS1</td>\n",
       "      <td>H22R</td>\n",
       "      <td>88.0</td>\n",
       "      <td>7.5</td>\n",
       "      <td>9.9</td>\n",
       "    </tr>\n",
       "    <tr>\n",
       "      <th>1</th>\n",
       "      <td>A0A060GYS1</td>\n",
       "      <td>P224R</td>\n",
       "      <td>84.3</td>\n",
       "      <td>7.5</td>\n",
       "      <td>2.3</td>\n",
       "    </tr>\n",
       "    <tr>\n",
       "      <th>2</th>\n",
       "      <td>A0A410ZNC6</td>\n",
       "      <td>A341S</td>\n",
       "      <td>33.6</td>\n",
       "      <td>7.5</td>\n",
       "      <td>3.6</td>\n",
       "    </tr>\n",
       "    <tr>\n",
       "      <th>3</th>\n",
       "      <td>A0A410ZNC6</td>\n",
       "      <td>F184L</td>\n",
       "      <td>31.0</td>\n",
       "      <td>7.5</td>\n",
       "      <td>1.0</td>\n",
       "    </tr>\n",
       "    <tr>\n",
       "      <th>4</th>\n",
       "      <td>A0A410ZNC6</td>\n",
       "      <td>P250L</td>\n",
       "      <td>34.5</td>\n",
       "      <td>7.5</td>\n",
       "      <td>4.5</td>\n",
       "    </tr>\n",
       "    <tr>\n",
       "      <th>...</th>\n",
       "      <td>...</td>\n",
       "      <td>...</td>\n",
       "      <td>...</td>\n",
       "      <td>...</td>\n",
       "      <td>...</td>\n",
       "    </tr>\n",
       "    <tr>\n",
       "      <th>4759</th>\n",
       "      <td>R9S082</td>\n",
       "      <td>T52A</td>\n",
       "      <td>79.4</td>\n",
       "      <td>9.6</td>\n",
       "      <td>-2.8</td>\n",
       "    </tr>\n",
       "    <tr>\n",
       "      <th>4760</th>\n",
       "      <td>R9S082</td>\n",
       "      <td>T68A</td>\n",
       "      <td>81.7</td>\n",
       "      <td>9.6</td>\n",
       "      <td>-0.5</td>\n",
       "    </tr>\n",
       "    <tr>\n",
       "      <th>4761</th>\n",
       "      <td>R9S082</td>\n",
       "      <td>V115A</td>\n",
       "      <td>79.3</td>\n",
       "      <td>9.6</td>\n",
       "      <td>-2.9</td>\n",
       "    </tr>\n",
       "    <tr>\n",
       "      <th>4762</th>\n",
       "      <td>R9S082</td>\n",
       "      <td>V14A</td>\n",
       "      <td>80.9</td>\n",
       "      <td>9.6</td>\n",
       "      <td>-1.3</td>\n",
       "    </tr>\n",
       "    <tr>\n",
       "      <th>4763</th>\n",
       "      <td>R9S082</td>\n",
       "      <td>V67A</td>\n",
       "      <td>83.6</td>\n",
       "      <td>9.6</td>\n",
       "      <td>1.4</td>\n",
       "    </tr>\n",
       "  </tbody>\n",
       "</table>\n",
       "<p>4764 rows × 5 columns</p>\n",
       "</div>"
      ]
     },
     "execution_count": 7,
     "metadata": {},
     "output_type": "execute_result"
    }
   ],
   "execution_count": 7
  },
  {
   "cell_type": "markdown",
   "source": [
    "### 1.4.绘制ProThermDB分布图"
   ],
   "metadata": {
    "collapsed": false
   },
   "id": "1e20a9769f17e3d4"
  },
  {
   "cell_type": "code",
   "source": [
    "plt.figure(figsize=(15, 7.5), dpi=100)\n",
    "plt.hist(avg_ProThermDB[\"ΔTm\"].astype(float).sort_values(),\n",
    "         bins=100,\n",
    "         color=\"yellowgreen\",\n",
    "         range=(-50, 50))\n",
    "plt.xlabel(\"ΔTm\", size=18)\n",
    "plt.gca().xaxis.set_major_locator(ticker.MultipleLocator(10))\n",
    "\n",
    "# 标题与坐标轴标签\n",
    "plt.title(\"ΔTm-frequency-in-ProthermDB-single-with-nothing-averaged\",\n",
    "          loc=\"center\",\n",
    "          fontdict={\"family\" : \"Times New Roman\",\n",
    "                    \"size\" : 24,\n",
    "                    \"weight\" : \"bold\"})\n",
    "plt.xlabel(\"ΔTm\", fontdict={\"family\" : \"Times New Roman\", \"size\" : 20, \"weight\" : \"normal\"})\n",
    "plt.ylabel(\"frequency\", fontdict={\"family\" : \"Times New Roman\", \"size\" : 20, \"weight\" : \"normal\"})\n",
    "\n",
    "plt.xticks(size=12)\n",
    "plt.yticks(size=12)\n",
    "plt.rcParams[\"axes.facecolor\"] = \"white\"\n",
    "plt.grid()\n",
    "plt.show()"
   ],
   "metadata": {
    "collapsed": false,
    "ExecuteTime": {
     "end_time": "2024-07-23T03:44:46.109611Z",
     "start_time": "2024-07-23T03:44:45.973902Z"
    }
   },
   "id": "a491fd7bc45339c7",
   "outputs": [
    {
     "data": {
      "text/plain": [
       "<Figure size 1500x750 with 1 Axes>"
      ],
      "image/png": "[encoded data removed]"
     },
     "metadata": {},
     "output_type": "display_data"
    }
   ],
   "execution_count": 8
  },
  {
   "cell_type": "code",
   "source": [
    "plt.figure(figsize=(15, 7.5), dpi=100)\n",
    "plt.hist(del_ProThermDB[\"ΔTm\"].astype(float).sort_values(),\n",
    "         bins=100,\n",
    "         color=\"yellowgreen\",\n",
    "         range=(-50, 50))\n",
    "plt.xlabel(\"ΔTm\", size=18)\n",
    "plt.gca().xaxis.set_major_locator(ticker.MultipleLocator(10))\n",
    "\n",
    "# 标题与坐标轴标签\n",
    "plt.title(\"ΔTm-frequency-in-ProthermDB-single-with-nothing-deleted\",\n",
    "          loc=\"center\",\n",
    "          fontdict={\"family\" : \"Times New Roman\",\n",
    "                    \"size\" : 24,\n",
    "                    \"weight\" : \"bold\"})\n",
    "plt.xlabel(\"ΔTm\", fontdict={\"family\" : \"Times New Roman\", \"size\" : 20, \"weight\" : \"normal\"})\n",
    "plt.ylabel(\"frequency\", fontdict={\"family\" : \"Times New Roman\", \"size\" : 20, \"weight\" : \"normal\"})\n",
    "\n",
    "plt.xticks(size=12)\n",
    "plt.yticks(size=12)\n",
    "plt.rcParams[\"axes.facecolor\"] = \"white\"\n",
    "plt.grid()\n",
    "plt.show()"
   ],
   "metadata": {
    "collapsed": false,
    "ExecuteTime": {
     "end_time": "2024-07-23T03:44:46.227078Z",
     "start_time": "2024-07-23T03:44:46.110600Z"
    }
   },
   "id": "821cbe1c018c5196",
   "outputs": [
    {
     "data": {
      "text/plain": [
       "<Figure size 1500x750 with 1 Axes>"
      ],
      "image/png": "[encoded data removed]"
     },
     "metadata": {},
     "output_type": "display_data"
    }
   ],
   "execution_count": 9
  },
  {
   "cell_type": "markdown",
   "source": [
    "## 2.MPTherm-pred[缺失Tm，不对其进行分析]"
   ],
   "metadata": {
    "collapsed": false
   },
   "id": "2c4d813cceb335ce"
  },
  {
   "cell_type": "code",
   "source": [
    "MPTherm_pred_Training = pd.read_csv(\"BasicData/MPTherm-pred/MPTherm-pred_Training.csv\")\n",
    "MPTherm_pred_Testing = pd.read_csv(\"BasicData/MPTherm-pred/MPTherm-pred_Testing.csv\")"
   ],
   "metadata": {
    "collapsed": false,
    "ExecuteTime": {
     "end_time": "2024-07-23T03:44:46.235020Z",
     "start_time": "2024-07-23T03:44:46.227078Z"
    }
   },
   "id": "7409785831800709",
   "outputs": [],
   "execution_count": 10
  },
  {
   "cell_type": "markdown",
   "source": [
    "# 3.MPThermDB"
   ],
   "metadata": {
    "collapsed": false
   },
   "id": "c6d1020f88e42e06"
  },
  {
   "cell_type": "code",
   "source": [
    "MPThermDB = pd.read_csv(\"BasicData/InitializationDataset/MPThermDB.tsv\", sep=\"\\t\")[columns + [\"ΔTm\"]]\n",
    "MPThermDB.sort_values(by=columns, inplace=True, ascending=False)\n",
    "MPThermDB.reset_index(drop=True, inplace=True)\n",
    "MPThermDB"
   ],
   "metadata": {
    "collapsed": false,
    "ExecuteTime": {
     "end_time": "2024-07-23T03:44:46.253557Z",
     "start_time": "2024-07-23T03:44:46.235020Z"
    }
   },
   "id": "c16576b39423a178",
   "outputs": [
    {
     "data": {
      "text/plain": [
       "      UniProt_ID Mutation          Tm   pH  ΔTm\n",
       "0         W8VZW3     Y83A          72  7.5 -2.0\n",
       "1         W8VZW3     W72A          71  7.5 -3.0\n",
       "2         W8VZW3     F15A          74  7.5  0.0\n",
       "3       Q9Y6R1-2    R298S          43  NaN -5.0\n",
       "4         Q9Y277      C8A        66.7  7.2  1.7\n",
       "...          ...      ...         ...  ...  ...\n",
       "1862  A0A0E3N843    C557S  51.8 (0.4)    7  0.2\n",
       "1863  A0A0C4MBH9    D404E  76.5 (1.2)    4 -6.4\n",
       "1864  A0A0C4MBH9    D404A  75.8 (0.9)    4 -7.1\n",
       "1865  A0A0C4MBH9    D146E  77.4 (0.8)    4 -5.5\n",
       "1866  A0A0C4MBH9    D146A  77.6 (0.4)    4 -5.3\n",
       "\n",
       "[1867 rows x 5 columns]"
      ],
      "text/html": [
       "<div>\n",
       "<style scoped>\n",
       "    .dataframe tbody tr th:only-of-type {\n",
       "        vertical-align: middle;\n",
       "    }\n",
       "\n",
       "    .dataframe tbody tr th {\n",
       "        vertical-align: top;\n",
       "    }\n",
       "\n",
       "    .dataframe thead th {\n",
       "        text-align: right;\n",
       "    }\n",
       "</style>\n",
       "<table border=\"1\" class=\"dataframe\">\n",
       "  <thead>\n",
       "    <tr style=\"text-align: right;\">\n",
       "      <th></th>\n",
       "      <th>UniProt_ID</th>\n",
       "      <th>Mutation</th>\n",
       "      <th>Tm</th>\n",
       "      <th>pH</th>\n",
       "      <th>ΔTm</th>\n",
       "    </tr>\n",
       "  </thead>\n",
       "  <tbody>\n",
       "    <tr>\n",
       "      <th>0</th>\n",
       "      <td>W8VZW3</td>\n",
       "      <td>Y83A</td>\n",
       "      <td>72</td>\n",
       "      <td>7.5</td>\n",
       "      <td>-2.0</td>\n",
       "    </tr>\n",
       "    <tr>\n",
       "      <th>1</th>\n",
       "      <td>W8VZW3</td>\n",
       "      <td>W72A</td>\n",
       "      <td>71</td>\n",
       "      <td>7.5</td>\n",
       "      <td>-3.0</td>\n",
       "    </tr>\n",
       "    <tr>\n",
       "      <th>2</th>\n",
       "      <td>W8VZW3</td>\n",
       "      <td>F15A</td>\n",
       "      <td>74</td>\n",
       "      <td>7.5</td>\n",
       "      <td>0.0</td>\n",
       "    </tr>\n",
       "    <tr>\n",
       "      <th>3</th>\n",
       "      <td>Q9Y6R1-2</td>\n",
       "      <td>R298S</td>\n",
       "      <td>43</td>\n",
       "      <td>NaN</td>\n",
       "      <td>-5.0</td>\n",
       "    </tr>\n",
       "    <tr>\n",
       "      <th>4</th>\n",
       "      <td>Q9Y277</td>\n",
       "      <td>C8A</td>\n",
       "      <td>66.7</td>\n",
       "      <td>7.2</td>\n",
       "      <td>1.7</td>\n",
       "    </tr>\n",
       "    <tr>\n",
       "      <th>...</th>\n",
       "      <td>...</td>\n",
       "      <td>...</td>\n",
       "      <td>...</td>\n",
       "      <td>...</td>\n",
       "      <td>...</td>\n",
       "    </tr>\n",
       "    <tr>\n",
       "      <th>1862</th>\n",
       "      <td>A0A0E3N843</td>\n",
       "      <td>C557S</td>\n",
       "      <td>51.8 (0.4)</td>\n",
       "      <td>7</td>\n",
       "      <td>0.2</td>\n",
       "    </tr>\n",
       "    <tr>\n",
       "      <th>1863</th>\n",
       "      <td>A0A0C4MBH9</td>\n",
       "      <td>D404E</td>\n",
       "      <td>76.5 (1.2)</td>\n",
       "      <td>4</td>\n",
       "      <td>-6.4</td>\n",
       "    </tr>\n",
       "    <tr>\n",
       "      <th>1864</th>\n",
       "      <td>A0A0C4MBH9</td>\n",
       "      <td>D404A</td>\n",
       "      <td>75.8 (0.9)</td>\n",
       "      <td>4</td>\n",
       "      <td>-7.1</td>\n",
       "    </tr>\n",
       "    <tr>\n",
       "      <th>1865</th>\n",
       "      <td>A0A0C4MBH9</td>\n",
       "      <td>D146E</td>\n",
       "      <td>77.4 (0.8)</td>\n",
       "      <td>4</td>\n",
       "      <td>-5.5</td>\n",
       "    </tr>\n",
       "    <tr>\n",
       "      <th>1866</th>\n",
       "      <td>A0A0C4MBH9</td>\n",
       "      <td>D146A</td>\n",
       "      <td>77.6 (0.4)</td>\n",
       "      <td>4</td>\n",
       "      <td>-5.3</td>\n",
       "    </tr>\n",
       "  </tbody>\n",
       "</table>\n",
       "<p>1867 rows × 5 columns</p>\n",
       "</div>"
      ]
     },
     "execution_count": 11,
     "metadata": {},
     "output_type": "execute_result"
    }
   ],
   "execution_count": 11
  },
  {
   "cell_type": "markdown",
   "source": [
    "### 3.1.清洗MPThermDB中的非法数据"
   ],
   "metadata": {
    "collapsed": false
   },
   "id": "2a9ad44eb9f385a0"
  },
  {
   "cell_type": "code",
   "source": [
    "MPThermDB, MPThermDb_washed = wash4MutTm(MPThermDB, avg_filling=True, focus_columns=columns)\n",
    "MPThermDB"
   ],
   "metadata": {
    "collapsed": false,
    "ExecuteTime": {
     "end_time": "2024-07-23T03:44:46.344237Z",
     "start_time": "2024-07-23T03:44:46.253557Z"
    }
   },
   "id": "b137b649e5d63736",
   "outputs": [
    {
     "name": "stdout",
     "output_type": "stream",
     "text": [
      "-删除数据缺失行及非法行共计117行\n",
      "-补全pH/Tm的缺失值 -利用PonStab2.0对蛋白质序列的Tm进行预测补全...暂时未进行，因此对所有Tm缺失条目进行删除\n",
      "-对于实验条件pH，利用平均值进行补充，而pH的平均值为7.30985 -由于热稳定性预测工具未完善，Tm的补全措施取消，剔除所有非法Tm\n"
     ]
    },
    {
     "data": {
      "text/plain": [
       "      UniProt_ID Mutation    Tm        pH  ΔTm\n",
       "0         W8VZW3     Y83A  72.0  7.500000 -2.0\n",
       "1         W8VZW3     W72A  71.0  7.500000 -3.0\n",
       "2         W8VZW3     F15A  74.0  7.500000  0.0\n",
       "3       Q9Y6R1-2    R298S  43.0  7.309852 -5.0\n",
       "4         Q9Y277      C8A  66.7  7.200000  1.7\n",
       "...          ...      ...   ...       ...  ...\n",
       "1745  A0A0E3N843    C557S  51.8  7.000000  0.2\n",
       "1746  A0A0C4MBH9    D404E  76.5  4.000000 -6.4\n",
       "1747  A0A0C4MBH9    D404A  75.8  4.000000 -7.1\n",
       "1748  A0A0C4MBH9    D146E  77.4  4.000000 -5.5\n",
       "1749  A0A0C4MBH9    D146A  77.6  4.000000 -5.3\n",
       "\n",
       "[1750 rows x 5 columns]"
      ],
      "text/html": [
       "<div>\n",
       "<style scoped>\n",
       "    .dataframe tbody tr th:only-of-type {\n",
       "        vertical-align: middle;\n",
       "    }\n",
       "\n",
       "    .dataframe tbody tr th {\n",
       "        vertical-align: top;\n",
       "    }\n",
       "\n",
       "    .dataframe thead th {\n",
       "        text-align: right;\n",
       "    }\n",
       "</style>\n",
       "<table border=\"1\" class=\"dataframe\">\n",
       "  <thead>\n",
       "    <tr style=\"text-align: right;\">\n",
       "      <th></th>\n",
       "      <th>UniProt_ID</th>\n",
       "      <th>Mutation</th>\n",
       "      <th>Tm</th>\n",
       "      <th>pH</th>\n",
       "      <th>ΔTm</th>\n",
       "    </tr>\n",
       "  </thead>\n",
       "  <tbody>\n",
       "    <tr>\n",
       "      <th>0</th>\n",
       "      <td>W8VZW3</td>\n",
       "      <td>Y83A</td>\n",
       "      <td>72.0</td>\n",
       "      <td>7.500000</td>\n",
       "      <td>-2.0</td>\n",
       "    </tr>\n",
       "    <tr>\n",
       "      <th>1</th>\n",
       "      <td>W8VZW3</td>\n",
       "      <td>W72A</td>\n",
       "      <td>71.0</td>\n",
       "      <td>7.500000</td>\n",
       "      <td>-3.0</td>\n",
       "    </tr>\n",
       "    <tr>\n",
       "      <th>2</th>\n",
       "      <td>W8VZW3</td>\n",
       "      <td>F15A</td>\n",
       "      <td>74.0</td>\n",
       "      <td>7.500000</td>\n",
       "      <td>0.0</td>\n",
       "    </tr>\n",
       "    <tr>\n",
       "      <th>3</th>\n",
       "      <td>Q9Y6R1-2</td>\n",
       "      <td>R298S</td>\n",
       "      <td>43.0</td>\n",
       "      <td>7.309852</td>\n",
       "      <td>-5.0</td>\n",
       "    </tr>\n",
       "    <tr>\n",
       "      <th>4</th>\n",
       "      <td>Q9Y277</td>\n",
       "      <td>C8A</td>\n",
       "      <td>66.7</td>\n",
       "      <td>7.200000</td>\n",
       "      <td>1.7</td>\n",
       "    </tr>\n",
       "    <tr>\n",
       "      <th>...</th>\n",
       "      <td>...</td>\n",
       "      <td>...</td>\n",
       "      <td>...</td>\n",
       "      <td>...</td>\n",
       "      <td>...</td>\n",
       "    </tr>\n",
       "    <tr>\n",
       "      <th>1745</th>\n",
       "      <td>A0A0E3N843</td>\n",
       "      <td>C557S</td>\n",
       "      <td>51.8</td>\n",
       "      <td>7.000000</td>\n",
       "      <td>0.2</td>\n",
       "    </tr>\n",
       "    <tr>\n",
       "      <th>1746</th>\n",
       "      <td>A0A0C4MBH9</td>\n",
       "      <td>D404E</td>\n",
       "      <td>76.5</td>\n",
       "      <td>4.000000</td>\n",
       "      <td>-6.4</td>\n",
       "    </tr>\n",
       "    <tr>\n",
       "      <th>1747</th>\n",
       "      <td>A0A0C4MBH9</td>\n",
       "      <td>D404A</td>\n",
       "      <td>75.8</td>\n",
       "      <td>4.000000</td>\n",
       "      <td>-7.1</td>\n",
       "    </tr>\n",
       "    <tr>\n",
       "      <th>1748</th>\n",
       "      <td>A0A0C4MBH9</td>\n",
       "      <td>D146E</td>\n",
       "      <td>77.4</td>\n",
       "      <td>4.000000</td>\n",
       "      <td>-5.5</td>\n",
       "    </tr>\n",
       "    <tr>\n",
       "      <th>1749</th>\n",
       "      <td>A0A0C4MBH9</td>\n",
       "      <td>D146A</td>\n",
       "      <td>77.6</td>\n",
       "      <td>4.000000</td>\n",
       "      <td>-5.3</td>\n",
       "    </tr>\n",
       "  </tbody>\n",
       "</table>\n",
       "<p>1750 rows × 5 columns</p>\n",
       "</div>"
      ]
     },
     "execution_count": 12,
     "metadata": {},
     "output_type": "execute_result"
    }
   ],
   "execution_count": 12
  },
  {
   "cell_type": "markdown",
   "source": [
    "### 3.2.检测是否存在多测量值"
   ],
   "metadata": {
    "collapsed": false
   },
   "id": "3af598a6ae740f16"
  },
  {
   "cell_type": "code",
   "source": [
    "MPThermDB_mult_cnt, MPThermDB_mult_index = check4mult(MPThermDB, columns)\n",
    "MPThermDB_multiple_deltaTm = MPThermDB.iloc[MPThermDB_mult_index, :]\n",
    "print(f\"MPThermDB数据库中存在{MPThermDB_mult_cnt}条多测量值\")\n",
    "MPThermDB_multiple_deltaTm"
   ],
   "metadata": {
    "collapsed": false
   },
   "id": "6e0204cfab3df6d7",
   "outputs": [
    {
     "name": "stdout",
     "output_type": "stream",
     "text": [
      "MPThermDB数据库中存在38条多测量值\n"
     ]
    },
    {
     "data": {
      "text/plain": [
       "     UniProt_ID Mutation    Tm   pH   ΔTm\n",
       "47       Q97UY8    G144A  72.8  6.5   0.3\n",
       "48       Q97UY8    G144A  72.8  6.5   1.0\n",
       "49       Q97UY8    E166Q  84.0  6.5   5.5\n",
       "50       Q97UY8    E166Q  84.0  6.5   1.4\n",
       "54       Q97UY8    E166Q  80.2  6.5   1.7\n",
       "55       Q97UY8    E166Q  80.2  6.5  -2.4\n",
       "65       Q97UY8    E166A  83.3  6.5   0.9\n",
       "66       Q97UY8    E166A  83.3  6.5   4.8\n",
       "67       Q97UY8    E166A  83.3  6.5   0.7\n",
       "70       Q97UY8    E166A  79.9  6.5  -2.5\n",
       "71       Q97UY8    E166A  79.9  6.5  -2.7\n",
       "93       Q8D0Z7     W79Y  69.0  8.5  -1.0\n",
       "94       Q8D0Z7     W79Y  69.0  8.5   3.0\n",
       "97       Q8D0Z7     W79Y  59.0  8.5  -7.0\n",
       "98       Q8D0Z7     W79Y  59.0  8.5  -9.0\n",
       "100      Q8D0Z7     W79F  66.0  8.5  -2.0\n",
       "101      Q8D0Z7     W79F  66.0  8.5  -4.0\n",
       "102      Q8D0Z7     W79F  66.0  8.5   0.0\n",
       "111      Q8D0Z7    W186Y  73.0  8.5   5.0\n",
       "112      Q8D0Z7    W186Y  73.0  8.5   7.0\n",
       "114      Q8D0Z7    W186Y  63.0  8.5  -3.0\n",
       "115      Q8D0Z7    W186Y  63.0  8.5  -9.0\n",
       "122      Q8D0Z7    W186F  59.0  8.5  -7.0\n",
       "123      Q8D0Z7    W186F  59.0  8.5  -9.0\n",
       "124      Q8D0Z7    W186F  59.0  8.5  -9.0\n",
       "753      P29274     S90A  32.0  7.4   3.5\n",
       "754      P29274     S90A  32.0  7.4   0.0\n",
       "921      P15116    D293A  46.0  7.4   1.0\n",
       "922      P15116    D293A  46.0  7.4 -13.0\n",
       "1108     P0A925    I116M  47.3  5.0   2.1\n",
       "1109     P0A925    I116M  47.3  5.0   2.6\n",
       "1110     P0A925    I116M  47.3  5.0  -0.4\n",
       "1116     P0A925     H57F  45.4  5.0   0.2\n",
       "1117     P0A925     H57F  45.4  5.0  -2.3\n",
       "1615     O14842     T31A  38.3  7.5   1.1\n",
       "1616     O14842     T31A  38.3  7.5   2.8\n",
       "1724     B4FZ94    K262A  39.2  7.5  -8.6\n",
       "1725     B4FZ94    K262A  39.2  7.5  -6.8"
      ],
      "text/html": [
       "<div>\n",
       "<style scoped>\n",
       "    .dataframe tbody tr th:only-of-type {\n",
       "        vertical-align: middle;\n",
       "    }\n",
       "\n",
       "    .dataframe tbody tr th {\n",
       "        vertical-align: top;\n",
       "    }\n",
       "\n",
       "    .dataframe thead th {\n",
       "        text-align: right;\n",
       "    }\n",
       "</style>\n",
       "<table border=\"1\" class=\"dataframe\">\n",
       "  <thead>\n",
       "    <tr style=\"text-align: right;\">\n",
       "      <th></th>\n",
       "      <th>UniProt_ID</th>\n",
       "      <th>Mutation</th>\n",
       "      <th>Tm</th>\n",
       "      <th>pH</th>\n",
       "      <th>ΔTm</th>\n",
       "    </tr>\n",
       "  </thead>\n",
       "  <tbody>\n",
       "    <tr>\n",
       "      <th>47</th>\n",
       "      <td>Q97UY8</td>\n",
       "      <td>G144A</td>\n",
       "      <td>72.8</td>\n",
       "      <td>6.5</td>\n",
       "      <td>0.3</td>\n",
       "    </tr>\n",
       "    <tr>\n",
       "      <th>48</th>\n",
       "      <td>Q97UY8</td>\n",
       "      <td>G144A</td>\n",
       "      <td>72.8</td>\n",
       "      <td>6.5</td>\n",
       "      <td>1.0</td>\n",
       "    </tr>\n",
       "    <tr>\n",
       "      <th>49</th>\n",
       "      <td>Q97UY8</td>\n",
       "      <td>E166Q</td>\n",
       "      <td>84.0</td>\n",
       "      <td>6.5</td>\n",
       "      <td>5.5</td>\n",
       "    </tr>\n",
       "    <tr>\n",
       "      <th>50</th>\n",
       "      <td>Q97UY8</td>\n",
       "      <td>E166Q</td>\n",
       "      <td>84.0</td>\n",
       "      <td>6.5</td>\n",
       "      <td>1.4</td>\n",
       "    </tr>\n",
       "    <tr>\n",
       "      <th>54</th>\n",
       "      <td>Q97UY8</td>\n",
       "      <td>E166Q</td>\n",
       "      <td>80.2</td>\n",
       "      <td>6.5</td>\n",
       "      <td>1.7</td>\n",
       "    </tr>\n",
       "    <tr>\n",
       "      <th>55</th>\n",
       "      <td>Q97UY8</td>\n",
       "      <td>E166Q</td>\n",
       "      <td>80.2</td>\n",
       "      <td>6.5</td>\n",
       "      <td>-2.4</td>\n",
       "    </tr>\n",
       "    <tr>\n",
       "      <th>65</th>\n",
       "      <td>Q97UY8</td>\n",
       "      <td>E166A</td>\n",
       "      <td>83.3</td>\n",
       "      <td>6.5</td>\n",
       "      <td>0.9</td>\n",
       "    </tr>\n",
       "    <tr>\n",
       "      <th>66</th>\n",
       "      <td>Q97UY8</td>\n",
       "      <td>E166A</td>\n",
       "      <td>83.3</td>\n",
       "      <td>6.5</td>\n",
       "      <td>4.8</td>\n",
       "    </tr>\n",
       "    <tr>\n",
       "      <th>67</th>\n",
       "      <td>Q97UY8</td>\n",
       "      <td>E166A</td>\n",
       "      <td>83.3</td>\n",
       "      <td>6.5</td>\n",
       "      <td>0.7</td>\n",
       "    </tr>\n",
       "    <tr>\n",
       "      <th>70</th>\n",
       "      <td>Q97UY8</td>\n",
       "      <td>E166A</td>\n",
       "      <td>79.9</td>\n",
       "      <td>6.5</td>\n",
       "      <td>-2.5</td>\n",
       "    </tr>\n",
       "    <tr>\n",
       "      <th>71</th>\n",
       "      <td>Q97UY8</td>\n",
       "      <td>E166A</td>\n",
       "      <td>79.9</td>\n",
       "      <td>6.5</td>\n",
       "      <td>-2.7</td>\n",
       "    </tr>\n",
       "    <tr>\n",
       "      <th>93</th>\n",
       "      <td>Q8D0Z7</td>\n",
       "      <td>W79Y</td>\n",
       "      <td>69.0</td>\n",
       "      <td>8.5</td>\n",
       "      <td>-1.0</td>\n",
       "    </tr>\n",
       "    <tr>\n",
       "      <th>94</th>\n",
       "      <td>Q8D0Z7</td>\n",
       "      <td>W79Y</td>\n",
       "      <td>69.0</td>\n",
       "      <td>8.5</td>\n",
       "      <td>3.0</td>\n",
       "    </tr>\n",
       "    <tr>\n",
       "      <th>97</th>\n",
       "      <td>Q8D0Z7</td>\n",
       "      <td>W79Y</td>\n",
       "      <td>59.0</td>\n",
       "      <td>8.5</td>\n",
       "      <td>-7.0</td>\n",
       "    </tr>\n",
       "    <tr>\n",
       "      <th>98</th>\n",
       "      <td>Q8D0Z7</td>\n",
       "      <td>W79Y</td>\n",
       "      <td>59.0</td>\n",
       "      <td>8.5</td>\n",
       "      <td>-9.0</td>\n",
       "    </tr>\n",
       "    <tr>\n",
       "      <th>100</th>\n",
       "      <td>Q8D0Z7</td>\n",
       "      <td>W79F</td>\n",
       "      <td>66.0</td>\n",
       "      <td>8.5</td>\n",
       "      <td>-2.0</td>\n",
       "    </tr>\n",
       "    <tr>\n",
       "      <th>101</th>\n",
       "      <td>Q8D0Z7</td>\n",
       "      <td>W79F</td>\n",
       "      <td>66.0</td>\n",
       "      <td>8.5</td>\n",
       "      <td>-4.0</td>\n",
       "    </tr>\n",
       "    <tr>\n",
       "      <th>102</th>\n",
       "      <td>Q8D0Z7</td>\n",
       "      <td>W79F</td>\n",
       "      <td>66.0</td>\n",
       "      <td>8.5</td>\n",
       "      <td>0.0</td>\n",
       "    </tr>\n",
       "    <tr>\n",
       "      <th>111</th>\n",
       "      <td>Q8D0Z7</td>\n",
       "      <td>W186Y</td>\n",
       "      <td>73.0</td>\n",
       "      <td>8.5</td>\n",
       "      <td>5.0</td>\n",
       "    </tr>\n",
       "    <tr>\n",
       "      <th>112</th>\n",
       "      <td>Q8D0Z7</td>\n",
       "      <td>W186Y</td>\n",
       "      <td>73.0</td>\n",
       "      <td>8.5</td>\n",
       "      <td>7.0</td>\n",
       "    </tr>\n",
       "    <tr>\n",
       "      <th>114</th>\n",
       "      <td>Q8D0Z7</td>\n",
       "      <td>W186Y</td>\n",
       "      <td>63.0</td>\n",
       "      <td>8.5</td>\n",
       "      <td>-3.0</td>\n",
       "    </tr>\n",
       "    <tr>\n",
       "      <th>115</th>\n",
       "      <td>Q8D0Z7</td>\n",
       "      <td>W186Y</td>\n",
       "      <td>63.0</td>\n",
       "      <td>8.5</td>\n",
       "      <td>-9.0</td>\n",
       "    </tr>\n",
       "    <tr>\n",
       "      <th>122</th>\n",
       "      <td>Q8D0Z7</td>\n",
       "      <td>W186F</td>\n",
       "      <td>59.0</td>\n",
       "      <td>8.5</td>\n",
       "      <td>-7.0</td>\n",
       "    </tr>\n",
       "    <tr>\n",
       "      <th>123</th>\n",
       "      <td>Q8D0Z7</td>\n",
       "      <td>W186F</td>\n",
       "      <td>59.0</td>\n",
       "      <td>8.5</td>\n",
       "      <td>-9.0</td>\n",
       "    </tr>\n",
       "    <tr>\n",
       "      <th>124</th>\n",
       "      <td>Q8D0Z7</td>\n",
       "      <td>W186F</td>\n",
       "      <td>59.0</td>\n",
       "      <td>8.5</td>\n",
       "      <td>-9.0</td>\n",
       "    </tr>\n",
       "    <tr>\n",
       "      <th>753</th>\n",
       "      <td>P29274</td>\n",
       "      <td>S90A</td>\n",
       "      <td>32.0</td>\n",
       "      <td>7.4</td>\n",
       "      <td>3.5</td>\n",
       "    </tr>\n",
       "    <tr>\n",
       "      <th>754</th>\n",
       "      <td>P29274</td>\n",
       "      <td>S90A</td>\n",
       "      <td>32.0</td>\n",
       "      <td>7.4</td>\n",
       "      <td>0.0</td>\n",
       "    </tr>\n",
       "    <tr>\n",
       "      <th>921</th>\n",
       "      <td>P15116</td>\n",
       "      <td>D293A</td>\n",
       "      <td>46.0</td>\n",
       "      <td>7.4</td>\n",
       "      <td>1.0</td>\n",
       "    </tr>\n",
       "    <tr>\n",
       "      <th>922</th>\n",
       "      <td>P15116</td>\n",
       "      <td>D293A</td>\n",
       "      <td>46.0</td>\n",
       "      <td>7.4</td>\n",
       "      <td>-13.0</td>\n",
       "    </tr>\n",
       "    <tr>\n",
       "      <th>1108</th>\n",
       "      <td>P0A925</td>\n",
       "      <td>I116M</td>\n",
       "      <td>47.3</td>\n",
       "      <td>5.0</td>\n",
       "      <td>2.1</td>\n",
       "    </tr>\n",
       "    <tr>\n",
       "      <th>1109</th>\n",
       "      <td>P0A925</td>\n",
       "      <td>I116M</td>\n",
       "      <td>47.3</td>\n",
       "      <td>5.0</td>\n",
       "      <td>2.6</td>\n",
       "    </tr>\n",
       "    <tr>\n",
       "      <th>1110</th>\n",
       "      <td>P0A925</td>\n",
       "      <td>I116M</td>\n",
       "      <td>47.3</td>\n",
       "      <td>5.0</td>\n",
       "      <td>-0.4</td>\n",
       "    </tr>\n",
       "    <tr>\n",
       "      <th>1116</th>\n",
       "      <td>P0A925</td>\n",
       "      <td>H57F</td>\n",
       "      <td>45.4</td>\n",
       "      <td>5.0</td>\n",
       "      <td>0.2</td>\n",
       "    </tr>\n",
       "    <tr>\n",
       "      <th>1117</th>\n",
       "      <td>P0A925</td>\n",
       "      <td>H57F</td>\n",
       "      <td>45.4</td>\n",
       "      <td>5.0</td>\n",
       "      <td>-2.3</td>\n",
       "    </tr>\n",
       "    <tr>\n",
       "      <th>1615</th>\n",
       "      <td>O14842</td>\n",
       "      <td>T31A</td>\n",
       "      <td>38.3</td>\n",
       "      <td>7.5</td>\n",
       "      <td>1.1</td>\n",
       "    </tr>\n",
       "    <tr>\n",
       "      <th>1616</th>\n",
       "      <td>O14842</td>\n",
       "      <td>T31A</td>\n",
       "      <td>38.3</td>\n",
       "      <td>7.5</td>\n",
       "      <td>2.8</td>\n",
       "    </tr>\n",
       "    <tr>\n",
       "      <th>1724</th>\n",
       "      <td>B4FZ94</td>\n",
       "      <td>K262A</td>\n",
       "      <td>39.2</td>\n",
       "      <td>7.5</td>\n",
       "      <td>-8.6</td>\n",
       "    </tr>\n",
       "    <tr>\n",
       "      <th>1725</th>\n",
       "      <td>B4FZ94</td>\n",
       "      <td>K262A</td>\n",
       "      <td>39.2</td>\n",
       "      <td>7.5</td>\n",
       "      <td>-6.8</td>\n",
       "    </tr>\n",
       "  </tbody>\n",
       "</table>\n",
       "</div>"
      ]
     },
     "execution_count": 13,
     "metadata": {},
     "output_type": "execute_result"
    }
   ],
   "execution_count": 13
  },
  {
   "cell_type": "markdown",
   "source": [
    "### 3.2.1.删除所有多测量值"
   ],
   "metadata": {
    "collapsed": false
   },
   "id": "aac85caf68defa6"
  },
  {
   "cell_type": "markdown",
   "source": [
    "### 3.2.2.平均所有多测量值"
   ],
   "metadata": {
    "collapsed": false
   },
   "id": "44d971aabb129a32"
  },
  {
   "cell_type": "code",
   "source": [
    "del_MPThermDB = duplicate4MutTm(MPThermDB, mode=\"Delete\", focus_columns=columns).reset_index(drop=True)\n",
    "avg_MPThermDB = duplicate4MutTm(MPThermDB, mode=\"Average\", focus_columns=columns).reset_index(drop=True)\n",
    "avg_MPThermDB"
   ],
   "metadata": {
    "collapsed": false
   },
   "id": "99bfb6df6b9f1d1a",
   "outputs": [
    {
     "data": {
      "text/plain": [
       "      UniProt_ID Mutation    Tm        pH  ΔTm\n",
       "0     A0A0C4MBH9    D146A  77.6  4.000000 -5.3\n",
       "1     A0A0C4MBH9    D146E  77.4  4.000000 -5.5\n",
       "2     A0A0C4MBH9    D404A  75.8  4.000000 -7.1\n",
       "3     A0A0C4MBH9    D404E  76.5  4.000000 -6.4\n",
       "4     A0A0E3N843    C557S  51.8  7.000000  0.2\n",
       "...          ...      ...   ...       ...  ...\n",
       "1724      Q9Y277      C8A  66.7  7.200000  1.7\n",
       "1725    Q9Y6R1-2    R298S  43.0  7.309852 -5.0\n",
       "1726      W8VZW3     F15A  74.0  7.500000  0.0\n",
       "1727      W8VZW3     W72A  71.0  7.500000 -3.0\n",
       "1728      W8VZW3     Y83A  72.0  7.500000 -2.0\n",
       "\n",
       "[1729 rows x 5 columns]"
      ],
      "text/html": [
       "<div>\n",
       "<style scoped>\n",
       "    .dataframe tbody tr th:only-of-type {\n",
       "        vertical-align: middle;\n",
       "    }\n",
       "\n",
       "    .dataframe tbody tr th {\n",
       "        vertical-align: top;\n",
       "    }\n",
       "\n",
       "    .dataframe thead th {\n",
       "        text-align: right;\n",
       "    }\n",
       "</style>\n",
       "<table border=\"1\" class=\"dataframe\">\n",
       "  <thead>\n",
       "    <tr style=\"text-align: right;\">\n",
       "      <th></th>\n",
       "      <th>UniProt_ID</th>\n",
       "      <th>Mutation</th>\n",
       "      <th>Tm</th>\n",
       "      <th>pH</th>\n",
       "      <th>ΔTm</th>\n",
       "    </tr>\n",
       "  </thead>\n",
       "  <tbody>\n",
       "    <tr>\n",
       "      <th>0</th>\n",
       "      <td>A0A0C4MBH9</td>\n",
       "      <td>D146A</td>\n",
       "      <td>77.6</td>\n",
       "      <td>4.000000</td>\n",
       "      <td>-5.3</td>\n",
       "    </tr>\n",
       "    <tr>\n",
       "      <th>1</th>\n",
       "      <td>A0A0C4MBH9</td>\n",
       "      <td>D146E</td>\n",
       "      <td>77.4</td>\n",
       "      <td>4.000000</td>\n",
       "      <td>-5.5</td>\n",
       "    </tr>\n",
       "    <tr>\n",
       "      <th>2</th>\n",
       "      <td>A0A0C4MBH9</td>\n",
       "      <td>D404A</td>\n",
       "      <td>75.8</td>\n",
       "      <td>4.000000</td>\n",
       "      <td>-7.1</td>\n",
       "    </tr>\n",
       "    <tr>\n",
       "      <th>3</th>\n",
       "      <td>A0A0C4MBH9</td>\n",
       "      <td>D404E</td>\n",
       "      <td>76.5</td>\n",
       "      <td>4.000000</td>\n",
       "      <td>-6.4</td>\n",
       "    </tr>\n",
       "    <tr>\n",
       "      <th>4</th>\n",
       "      <td>A0A0E3N843</td>\n",
       "      <td>C557S</td>\n",
       "      <td>51.8</td>\n",
       "      <td>7.000000</td>\n",
       "      <td>0.2</td>\n",
       "    </tr>\n",
       "    <tr>\n",
       "      <th>...</th>\n",
       "      <td>...</td>\n",
       "      <td>...</td>\n",
       "      <td>...</td>\n",
       "      <td>...</td>\n",
       "      <td>...</td>\n",
       "    </tr>\n",
       "    <tr>\n",
       "      <th>1724</th>\n",
       "      <td>Q9Y277</td>\n",
       "      <td>C8A</td>\n",
       "      <td>66.7</td>\n",
       "      <td>7.200000</td>\n",
       "      <td>1.7</td>\n",
       "    </tr>\n",
       "    <tr>\n",
       "      <th>1725</th>\n",
       "      <td>Q9Y6R1-2</td>\n",
       "      <td>R298S</td>\n",
       "      <td>43.0</td>\n",
       "      <td>7.309852</td>\n",
       "      <td>-5.0</td>\n",
       "    </tr>\n",
       "    <tr>\n",
       "      <th>1726</th>\n",
       "      <td>W8VZW3</td>\n",
       "      <td>F15A</td>\n",
       "      <td>74.0</td>\n",
       "      <td>7.500000</td>\n",
       "      <td>0.0</td>\n",
       "    </tr>\n",
       "    <tr>\n",
       "      <th>1727</th>\n",
       "      <td>W8VZW3</td>\n",
       "      <td>W72A</td>\n",
       "      <td>71.0</td>\n",
       "      <td>7.500000</td>\n",
       "      <td>-3.0</td>\n",
       "    </tr>\n",
       "    <tr>\n",
       "      <th>1728</th>\n",
       "      <td>W8VZW3</td>\n",
       "      <td>Y83A</td>\n",
       "      <td>72.0</td>\n",
       "      <td>7.500000</td>\n",
       "      <td>-2.0</td>\n",
       "    </tr>\n",
       "  </tbody>\n",
       "</table>\n",
       "<p>1729 rows × 5 columns</p>\n",
       "</div>"
      ]
     },
     "execution_count": 14,
     "metadata": {},
     "output_type": "execute_result"
    }
   ],
   "execution_count": 14
  },
  {
   "cell_type": "markdown",
   "source": [
    "### 3.3.针对不同多测量值策略进行数据分析"
   ],
   "metadata": {
    "collapsed": false
   },
   "id": "32b85e883fb18cbe"
  },
  {
   "cell_type": "code",
   "source": [
    "plt.figure(figsize=(15, 7.5), dpi=100)\n",
    "plt.hist(avg_MPThermDB[\"ΔTm\"].astype(float).sort_values(),\n",
    "         bins=100,\n",
    "         color=\"yellowgreen\",\n",
    "         range=(-50, 50))\n",
    "plt.xlabel(\"ΔTm\", size=18)\n",
    "plt.gca().xaxis.set_major_locator(ticker.MultipleLocator(10))\n",
    "\n",
    "# 标题与坐标轴标签\n",
    "plt.title(\"ΔTm-frequency-in-MPThermDB-single-with-nothing-averaged\",\n",
    "          loc=\"center\",\n",
    "          fontdict={\"family\" : \"Times New Roman\",\n",
    "                    \"size\" : 24,\n",
    "                    \"weight\" : \"bold\"})\n",
    "plt.xlabel(\"ΔTm\", fontdict={\"family\" : \"Times New Roman\", \"size\" : 20, \"weight\" : \"normal\"})\n",
    "plt.ylabel(\"frequency\", fontdict={\"family\" : \"Times New Roman\", \"size\" : 20, \"weight\" : \"normal\"})\n",
    "\n",
    "plt.xticks(size=12)\n",
    "plt.yticks(size=12)\n",
    "plt.rcParams[\"axes.facecolor\"] = \"white\"\n",
    "plt.grid()\n",
    "plt.show()"
   ],
   "metadata": {
    "collapsed": false
   },
   "id": "9c025f2d372a2453",
   "outputs": [
    {
     "data": {
      "text/plain": [
       "<Figure size 1500x750 with 1 Axes>"
      ],
      "image/png": "[encoded data removed]"
     },
     "metadata": {},
     "output_type": "display_data"
    }
   ],
   "execution_count": 15
  },
  {
   "cell_type": "code",
   "source": [
    "plt.figure(figsize=(15, 7.5), dpi=100)\n",
    "plt.hist(avg_MPThermDB[\"ΔTm\"].astype(float).sort_values(),\n",
    "         bins=100,\n",
    "         color=\"yellowgreen\",\n",
    "         range=(-50, 50))\n",
    "plt.xlabel(\"ΔTm\", size=18)\n",
    "plt.gca().xaxis.set_major_locator(ticker.MultipleLocator(10))\n",
    "\n",
    "# 标题与坐标轴标签\n",
    "plt.title(\"ΔTm-frequency-in-MPThermDB-single-with-nothing-averaged\",\n",
    "          loc=\"center\",\n",
    "          fontdict={\"family\" : \"Times New Roman\",\n",
    "                    \"size\" : 24,\n",
    "                    \"weight\" : \"bold\"})\n",
    "plt.xlabel(\"ΔTm\", fontdict={\"family\" : \"Times New Roman\", \"size\" : 20, \"weight\" : \"normal\"})\n",
    "plt.ylabel(\"frequency\", fontdict={\"family\" : \"Times New Roman\", \"size\" : 20, \"weight\" : \"normal\"})\n",
    "\n",
    "plt.xticks(size=12)\n",
    "plt.yticks(size=12)\n",
    "plt.rcParams[\"axes.facecolor\"] = \"white\"\n",
    "plt.grid()\n",
    "plt.show()"
   ],
   "metadata": {
    "collapsed": false,
    "ExecuteTime": {
     "end_time": "2024-07-23T03:44:46.608989Z",
     "start_time": "2024-07-23T03:44:46.487776Z"
    }
   },
   "id": "266d37edf7afd234",
   "outputs": [
    {
     "data": {
      "text/plain": [
       "<Figure size 1500x750 with 1 Axes>"
      ],
      "image/png": "[encoded data removed]"
     },
     "metadata": {},
     "output_type": "display_data"
    }
   ],
   "execution_count": 16
  },
  {
   "cell_type": "markdown",
   "source": [
    "# 4.HotMuSiC"
   ],
   "metadata": {
    "collapsed": false
   },
   "id": "932e14148e79e49c"
  },
  {
   "cell_type": "code",
   "source": [
    "HotMusic = pd.read_csv(\"BasicData/InitializationDataset/HotMuSiC_source.csv\")[[\"PDBid\", \"RESN\", \"RESwt\", \"RESmut\", \"Tm\", \"ΔTm\", \"pH\"]]       # add Tm\n",
    "pdb2uid_ref = json.load(open(\"./Process4Dataset/feature_extractor/IDConvert/pdb2uid.json\", \"r\"))"
   ],
   "metadata": {
    "collapsed": false,
    "ExecuteTime": {
     "end_time": "2024-07-23T03:44:46.641555Z",
     "start_time": "2024-07-23T03:44:46.608989Z"
    }
   },
   "id": "1de8d10949268c70",
   "outputs": [],
   "execution_count": 17
  },
  {
   "cell_type": "markdown",
   "source": [
    "# 由于该数据库的映射关系与其他数据库存在差异，先进行处理"
   ],
   "metadata": {
    "collapsed": false
   },
   "id": "4ec9ba78e9b7e2a3"
  },
  {
   "cell_type": "code",
   "source": [
    "# PDBid转换为UniProt ID\n",
    "import tqdm\n",
    "def get_uniprot_id(pdb_id):\n",
    "    return pdb2uid_ref[pdb_id] if pdb_id in pdb2uid_ref else \"None\"\n",
    "\n",
    "# MutationInfoTrasfer\n",
    "ref = {\"ALA\": \"A\", \"ARG\": \"R\", \"ASN\": \"N\", \"ASP\": \"D\", \"CYS\": \"C\", \"GLN\": \"Q\", \"GLU\": \"E\", \"GLY\": \"G\", \"HIS\": \"H\", \"ILE\": \"I\", \"LEU\": \"L\", \"LYS\": \"K\", \"MET\": \"M\", \"PHE\": \"F\", \"PRO\": \"P\", \"SER\": \"S\", \"THR\": \"T\", \"TRP\": \"W\", \"TYR\": \"Y\", \"VAL\": \"V\"}\n",
    "def part2Mutation(animo_acid_from, animo_acid_to, animo_acid_position):\n",
    "    try:\n",
    "        return f\"{ref[animo_acid_from]}{int(animo_acid_position)}{ref[animo_acid_to]}\"\n",
    "    except Exception:\n",
    "        return \"Fault\""
   ],
   "metadata": {
    "collapsed": false,
    "ExecuteTime": {
     "end_time": "2024-07-23T03:44:46.645394Z",
     "start_time": "2024-07-23T03:44:46.641986Z"
    }
   },
   "id": "5f4613f9464af06a",
   "outputs": [],
   "execution_count": 18
  },
  {
   "cell_type": "code",
   "source": [
    "HotMusic.insert(loc=HotMusic.shape[1], column=\"Mutation\", value=\"\")\n",
    "for rowIndex, row in HotMusic.iterrows():\n",
    "    HotMusic.loc[rowIndex, \"Mutation\"] =  part2Mutation(row[\"RESwt\"], row[\"RESmut\"], row[\"RESN\"])"
   ],
   "metadata": {
    "collapsed": false,
    "ExecuteTime": {
     "end_time": "2024-07-23T03:44:46.753858Z",
     "start_time": "2024-07-23T03:44:46.645394Z"
    }
   },
   "id": "c70d242ff1deb26a",
   "outputs": [],
   "execution_count": 19
  },
  {
   "cell_type": "code",
   "source": [
    "HotMusic.insert(loc=HotMusic.shape[1], column=\"UniProt_ID\", value=\"\")\n",
    "deleteIndex = []\n",
    "with tqdm.tqdm(total=HotMusic.shape[0]) as pbar:\n",
    "    for rowIndex, row in HotMusic.iterrows():\n",
    "        uid = get_uniprot_id(row[\"PDBid\"])\n",
    "        if uid == \"None\":\n",
    "            deleteIndex.append(rowIndex)\n",
    "        else:\n",
    "            HotMusic.loc[rowIndex, \"UniProt_ID\"] =  uid\n",
    "        pbar.update(1)\n",
    "print(f\"HotMusic中删除了{len(deleteIndex)} / {HotMusic.shape[0]}条由于PDBid无法转换为UniPortID的数据\")\n",
    "HotMusic.drop(index=deleteIndex, inplace=True)"
   ],
   "metadata": {
    "collapsed": false,
    "ExecuteTime": {
     "end_time": "2024-07-23T03:44:46.847815Z",
     "start_time": "2024-07-23T03:44:46.753858Z"
    }
   },
   "id": "a5e3471f949b1c41",
   "outputs": [
    {
     "name": "stderr",
     "output_type": "stream",
     "text": [
      "100%|██████████| 1627/1627 [00:00<00:00, 18671.55it/s]"
     ]
    },
    {
     "name": "stdout",
     "output_type": "stream",
     "text": [
      "HotMusic中删除了384 / 1627条由于PDBid无法转换为UniPortID的数据\n"
     ]
    },
    {
     "name": "stderr",
     "output_type": "stream",
     "text": [
      "\n"
     ]
    }
   ],
   "execution_count": 20
  },
  {
   "cell_type": "code",
   "source": [
    "HotMusic = HotMusic[columns + [\"ΔTm\"]]\n",
    "HotMusic.sort_values(by=columns, inplace=True, ascending=False)\n",
    "HotMusic.reset_index(drop=True, inplace=True)\n",
    "HotMusic"
   ],
   "metadata": {
    "collapsed": false,
    "ExecuteTime": {
     "end_time": "2024-07-23T03:44:46.855169Z",
     "start_time": "2024-07-23T03:44:46.847815Z"
    }
   },
   "id": "cea2e2fe6213c25f",
   "outputs": [
    {
     "data": {
      "text/plain": [
       "     UniProt_ID Mutation    Tm     pH    ΔTm\n",
       "0        Q9ZEU2    Y147N  47.8  [7.0]   -1.0\n",
       "1        Q9ZEU2    Y147F  47.8  [7.0]   -0.2\n",
       "2        Q9ZEU2    Y147A  47.8  [7.0]   -1.0\n",
       "3        Q9ZEU2    R509A  47.8  [7.0]    0.0\n",
       "4        Q9ZEU2    R446F  47.8  [7.0]    0.2\n",
       "...         ...      ...   ...    ...    ...\n",
       "1238     D4Z2G1    A129V  51.0  [7.5]   -1.5\n",
       "1239     A8PUY1    N277V  54.6  [6.0]  -13.5\n",
       "1240     A8PUY1    N277L  54.6  [6.0]  -12.0\n",
       "1241     A8PUY1    N277F  54.6  [6.0]  -16.3\n",
       "1242     A8PUY1    N277D  54.6  [6.0]    2.0\n",
       "\n",
       "[1243 rows x 5 columns]"
      ],
      "text/html": [
       "<div>\n",
       "<style scoped>\n",
       "    .dataframe tbody tr th:only-of-type {\n",
       "        vertical-align: middle;\n",
       "    }\n",
       "\n",
       "    .dataframe tbody tr th {\n",
       "        vertical-align: top;\n",
       "    }\n",
       "\n",
       "    .dataframe thead th {\n",
       "        text-align: right;\n",
       "    }\n",
       "</style>\n",
       "<table border=\"1\" class=\"dataframe\">\n",
       "  <thead>\n",
       "    <tr style=\"text-align: right;\">\n",
       "      <th></th>\n",
       "      <th>UniProt_ID</th>\n",
       "      <th>Mutation</th>\n",
       "      <th>Tm</th>\n",
       "      <th>pH</th>\n",
       "      <th>ΔTm</th>\n",
       "    </tr>\n",
       "  </thead>\n",
       "  <tbody>\n",
       "    <tr>\n",
       "      <th>0</th>\n",
       "      <td>Q9ZEU2</td>\n",
       "      <td>Y147N</td>\n",
       "      <td>47.8</td>\n",
       "      <td>[7.0]</td>\n",
       "      <td>-1.0</td>\n",
       "    </tr>\n",
       "    <tr>\n",
       "      <th>1</th>\n",
       "      <td>Q9ZEU2</td>\n",
       "      <td>Y147F</td>\n",
       "      <td>47.8</td>\n",
       "      <td>[7.0]</td>\n",
       "      <td>-0.2</td>\n",
       "    </tr>\n",
       "    <tr>\n",
       "      <th>2</th>\n",
       "      <td>Q9ZEU2</td>\n",
       "      <td>Y147A</td>\n",
       "      <td>47.8</td>\n",
       "      <td>[7.0]</td>\n",
       "      <td>-1.0</td>\n",
       "    </tr>\n",
       "    <tr>\n",
       "      <th>3</th>\n",
       "      <td>Q9ZEU2</td>\n",
       "      <td>R509A</td>\n",
       "      <td>47.8</td>\n",
       "      <td>[7.0]</td>\n",
       "      <td>0.0</td>\n",
       "    </tr>\n",
       "    <tr>\n",
       "      <th>4</th>\n",
       "      <td>Q9ZEU2</td>\n",
       "      <td>R446F</td>\n",
       "      <td>47.8</td>\n",
       "      <td>[7.0]</td>\n",
       "      <td>0.2</td>\n",
       "    </tr>\n",
       "    <tr>\n",
       "      <th>...</th>\n",
       "      <td>...</td>\n",
       "      <td>...</td>\n",
       "      <td>...</td>\n",
       "      <td>...</td>\n",
       "      <td>...</td>\n",
       "    </tr>\n",
       "    <tr>\n",
       "      <th>1238</th>\n",
       "      <td>D4Z2G1</td>\n",
       "      <td>A129V</td>\n",
       "      <td>51.0</td>\n",
       "      <td>[7.5]</td>\n",
       "      <td>-1.5</td>\n",
       "    </tr>\n",
       "    <tr>\n",
       "      <th>1239</th>\n",
       "      <td>A8PUY1</td>\n",
       "      <td>N277V</td>\n",
       "      <td>54.6</td>\n",
       "      <td>[6.0]</td>\n",
       "      <td>-13.5</td>\n",
       "    </tr>\n",
       "    <tr>\n",
       "      <th>1240</th>\n",
       "      <td>A8PUY1</td>\n",
       "      <td>N277L</td>\n",
       "      <td>54.6</td>\n",
       "      <td>[6.0]</td>\n",
       "      <td>-12.0</td>\n",
       "    </tr>\n",
       "    <tr>\n",
       "      <th>1241</th>\n",
       "      <td>A8PUY1</td>\n",
       "      <td>N277F</td>\n",
       "      <td>54.6</td>\n",
       "      <td>[6.0]</td>\n",
       "      <td>-16.3</td>\n",
       "    </tr>\n",
       "    <tr>\n",
       "      <th>1242</th>\n",
       "      <td>A8PUY1</td>\n",
       "      <td>N277D</td>\n",
       "      <td>54.6</td>\n",
       "      <td>[6.0]</td>\n",
       "      <td>2.0</td>\n",
       "    </tr>\n",
       "  </tbody>\n",
       "</table>\n",
       "<p>1243 rows × 5 columns</p>\n",
       "</div>"
      ]
     },
     "execution_count": 21,
     "metadata": {},
     "output_type": "execute_result"
    }
   ],
   "execution_count": 21
  },
  {
   "cell_type": "code",
   "source": [
    "HotMusic.to_csv(\"BasicData/InitializationDataset/HotMusic.csv\", index=False)"
   ],
   "metadata": {
    "collapsed": false,
    "ExecuteTime": {
     "end_time": "2024-07-23T03:44:46.860685Z",
     "start_time": "2024-07-23T03:44:46.855169Z"
    }
   },
   "id": "64dc60bfaf7e10d1",
   "outputs": [],
   "execution_count": 22
  },
  {
   "cell_type": "markdown",
   "source": [
    "### 4.1.清洗HotMusic中的非法数据"
   ],
   "metadata": {
    "collapsed": false
   },
   "id": "90eb1ece7c1ffde7"
  },
  {
   "cell_type": "code",
   "source": [
    "HotMusic, HotMusic_washed = wash4MutTm(HotMusic, avg_filling=True, focus_columns=columns)\n",
    "HotMusic_washed"
   ],
   "metadata": {
    "collapsed": false,
    "ExecuteTime": {
     "end_time": "2024-07-23T03:44:46.918525Z",
     "start_time": "2024-07-23T03:44:46.861685Z"
    }
   },
   "id": "4a726f98158ed6d",
   "outputs": [
    {
     "name": "stdout",
     "output_type": "stream",
     "text": [
      "-删除数据缺失行及非法行共计2行\n",
      "-补全pH/Tm的缺失值 -利用PonStab2.0对蛋白质序列的Tm进行预测补全...暂时未进行，因此对所有Tm缺失条目进行删除\n",
      "-对于实验条件pH，利用平均值进行补充，而pH的平均值为5.76758 -由于热稳定性预测工具未完善，Tm的补全措施取消，剔除所有非法Tm\n"
     ]
    },
    {
     "data": {
      "text/plain": [
       "     UniProt_ID Mutation    Tm     pH   ΔTm\n",
       "44       Q9ZEU2    Fault  47.8  [7.0]  -0.2\n",
       "1173     D4Z2G1    Fault  51.0  [7.5]   0.0"
      ],
      "text/html": [
       "<div>\n",
       "<style scoped>\n",
       "    .dataframe tbody tr th:only-of-type {\n",
       "        vertical-align: middle;\n",
       "    }\n",
       "\n",
       "    .dataframe tbody tr th {\n",
       "        vertical-align: top;\n",
       "    }\n",
       "\n",
       "    .dataframe thead th {\n",
       "        text-align: right;\n",
       "    }\n",
       "</style>\n",
       "<table border=\"1\" class=\"dataframe\">\n",
       "  <thead>\n",
       "    <tr style=\"text-align: right;\">\n",
       "      <th></th>\n",
       "      <th>UniProt_ID</th>\n",
       "      <th>Mutation</th>\n",
       "      <th>Tm</th>\n",
       "      <th>pH</th>\n",
       "      <th>ΔTm</th>\n",
       "    </tr>\n",
       "  </thead>\n",
       "  <tbody>\n",
       "    <tr>\n",
       "      <th>44</th>\n",
       "      <td>Q9ZEU2</td>\n",
       "      <td>Fault</td>\n",
       "      <td>47.8</td>\n",
       "      <td>[7.0]</td>\n",
       "      <td>-0.2</td>\n",
       "    </tr>\n",
       "    <tr>\n",
       "      <th>1173</th>\n",
       "      <td>D4Z2G1</td>\n",
       "      <td>Fault</td>\n",
       "      <td>51.0</td>\n",
       "      <td>[7.5]</td>\n",
       "      <td>0.0</td>\n",
       "    </tr>\n",
       "  </tbody>\n",
       "</table>\n",
       "</div>"
      ]
     },
     "execution_count": 23,
     "metadata": {},
     "output_type": "execute_result"
    }
   ],
   "execution_count": 23
  },
  {
   "cell_type": "markdown",
   "source": [
    "### 4.2.检测是否存在多测量值"
   ],
   "metadata": {
    "collapsed": false
   },
   "id": "1ffb4085026fdfae"
  },
  {
   "cell_type": "code",
   "source": [
    "HotMusic_mult_cnt, HotMusic_mult_index = check4mult(HotMusic, columns)\n",
    "HotMusic_multiple_deltaTm = HotMusic.iloc[HotMusic_mult_index, :]\n",
    "print(f\"HoTMuSiC数据库中存在{HotMusic_mult_cnt}条多测量值\")\n",
    "HotMusic_multiple_deltaTm"
   ],
   "metadata": {
    "collapsed": false,
    "ExecuteTime": {
     "end_time": "2024-07-23T03:44:46.924766Z",
     "start_time": "2024-07-23T03:44:46.919038Z"
    }
   },
   "id": "1d3b150c2d0cfb69",
   "outputs": [
    {
     "name": "stdout",
     "output_type": "stream",
     "text": [
      "HoTMuSiC数据库中存在4条多测量值\n"
     ]
    },
    {
     "data": {
      "text/plain": [
       "    UniProt_ID Mutation    Tm   pH   ΔTm\n",
       "703     P00720    S117F  65.1  5.4   2.8\n",
       "704     P00720    S117F  65.1  5.4   2.8\n",
       "868     P00720     A98V  65.1  3.0  -9.2\n",
       "869     P00720     A98V  65.1  3.0 -13.0"
      ],
      "text/html": [
       "<div>\n",
       "<style scoped>\n",
       "    .dataframe tbody tr th:only-of-type {\n",
       "        vertical-align: middle;\n",
       "    }\n",
       "\n",
       "    .dataframe tbody tr th {\n",
       "        vertical-align: top;\n",
       "    }\n",
       "\n",
       "    .dataframe thead th {\n",
       "        text-align: right;\n",
       "    }\n",
       "</style>\n",
       "<table border=\"1\" class=\"dataframe\">\n",
       "  <thead>\n",
       "    <tr style=\"text-align: right;\">\n",
       "      <th></th>\n",
       "      <th>UniProt_ID</th>\n",
       "      <th>Mutation</th>\n",
       "      <th>Tm</th>\n",
       "      <th>pH</th>\n",
       "      <th>ΔTm</th>\n",
       "    </tr>\n",
       "  </thead>\n",
       "  <tbody>\n",
       "    <tr>\n",
       "      <th>703</th>\n",
       "      <td>P00720</td>\n",
       "      <td>S117F</td>\n",
       "      <td>65.1</td>\n",
       "      <td>5.4</td>\n",
       "      <td>2.8</td>\n",
       "    </tr>\n",
       "    <tr>\n",
       "      <th>704</th>\n",
       "      <td>P00720</td>\n",
       "      <td>S117F</td>\n",
       "      <td>65.1</td>\n",
       "      <td>5.4</td>\n",
       "      <td>2.8</td>\n",
       "    </tr>\n",
       "    <tr>\n",
       "      <th>868</th>\n",
       "      <td>P00720</td>\n",
       "      <td>A98V</td>\n",
       "      <td>65.1</td>\n",
       "      <td>3.0</td>\n",
       "      <td>-9.2</td>\n",
       "    </tr>\n",
       "    <tr>\n",
       "      <th>869</th>\n",
       "      <td>P00720</td>\n",
       "      <td>A98V</td>\n",
       "      <td>65.1</td>\n",
       "      <td>3.0</td>\n",
       "      <td>-13.0</td>\n",
       "    </tr>\n",
       "  </tbody>\n",
       "</table>\n",
       "</div>"
      ]
     },
     "execution_count": 24,
     "metadata": {},
     "output_type": "execute_result"
    }
   ],
   "execution_count": 24
  },
  {
   "cell_type": "markdown",
   "source": [
    "### 4.3.对多测量值进行处理"
   ],
   "metadata": {
    "collapsed": false
   },
   "id": "2e66baf5ce91066b"
  },
  {
   "cell_type": "code",
   "source": [
    "del_HotMusic = duplicate4MutTm(HotMusic, mode=\"Delete\", focus_columns=columns).reset_index(drop=True)\n",
    "avg_HotMusic = duplicate4MutTm(HotMusic, mode=\"Average\", focus_columns=columns).reset_index(drop=True)\n",
    "avg_HotMusic"
   ],
   "metadata": {
    "collapsed": false,
    "ExecuteTime": {
     "end_time": "2024-07-23T03:44:46.961810Z",
     "start_time": "2024-07-23T03:44:46.924766Z"
    }
   },
   "id": "4282de43786e2869",
   "outputs": [
    {
     "data": {
      "text/plain": [
       "     UniProt_ID Mutation    Tm   pH   ΔTm\n",
       "0        A8PUY1    N277D  54.6  6.0   2.0\n",
       "1        A8PUY1    N277F  54.6  6.0 -16.3\n",
       "2        A8PUY1    N277L  54.6  6.0 -12.0\n",
       "3        A8PUY1    N277V  54.6  6.0 -13.5\n",
       "4        D4Z2G1    A129V  51.0  7.5  -1.5\n",
       "...         ...      ...   ...  ...   ...\n",
       "1234     Q9ZEU2    R446F  47.8  7.0   0.2\n",
       "1235     Q9ZEU2    R509A  47.8  7.0   0.0\n",
       "1236     Q9ZEU2    Y147A  47.8  7.0  -1.0\n",
       "1237     Q9ZEU2    Y147F  47.8  7.0  -0.2\n",
       "1238     Q9ZEU2    Y147N  47.8  7.0  -1.0\n",
       "\n",
       "[1239 rows x 5 columns]"
      ],
      "text/html": [
       "<div>\n",
       "<style scoped>\n",
       "    .dataframe tbody tr th:only-of-type {\n",
       "        vertical-align: middle;\n",
       "    }\n",
       "\n",
       "    .dataframe tbody tr th {\n",
       "        vertical-align: top;\n",
       "    }\n",
       "\n",
       "    .dataframe thead th {\n",
       "        text-align: right;\n",
       "    }\n",
       "</style>\n",
       "<table border=\"1\" class=\"dataframe\">\n",
       "  <thead>\n",
       "    <tr style=\"text-align: right;\">\n",
       "      <th></th>\n",
       "      <th>UniProt_ID</th>\n",
       "      <th>Mutation</th>\n",
       "      <th>Tm</th>\n",
       "      <th>pH</th>\n",
       "      <th>ΔTm</th>\n",
       "    </tr>\n",
       "  </thead>\n",
       "  <tbody>\n",
       "    <tr>\n",
       "      <th>0</th>\n",
       "      <td>A8PUY1</td>\n",
       "      <td>N277D</td>\n",
       "      <td>54.6</td>\n",
       "      <td>6.0</td>\n",
       "      <td>2.0</td>\n",
       "    </tr>\n",
       "    <tr>\n",
       "      <th>1</th>\n",
       "      <td>A8PUY1</td>\n",
       "      <td>N277F</td>\n",
       "      <td>54.6</td>\n",
       "      <td>6.0</td>\n",
       "      <td>-16.3</td>\n",
       "    </tr>\n",
       "    <tr>\n",
       "      <th>2</th>\n",
       "      <td>A8PUY1</td>\n",
       "      <td>N277L</td>\n",
       "      <td>54.6</td>\n",
       "      <td>6.0</td>\n",
       "      <td>-12.0</td>\n",
       "    </tr>\n",
       "    <tr>\n",
       "      <th>3</th>\n",
       "      <td>A8PUY1</td>\n",
       "      <td>N277V</td>\n",
       "      <td>54.6</td>\n",
       "      <td>6.0</td>\n",
       "      <td>-13.5</td>\n",
       "    </tr>\n",
       "    <tr>\n",
       "      <th>4</th>\n",
       "      <td>D4Z2G1</td>\n",
       "      <td>A129V</td>\n",
       "      <td>51.0</td>\n",
       "      <td>7.5</td>\n",
       "      <td>-1.5</td>\n",
       "    </tr>\n",
       "    <tr>\n",
       "      <th>...</th>\n",
       "      <td>...</td>\n",
       "      <td>...</td>\n",
       "      <td>...</td>\n",
       "      <td>...</td>\n",
       "      <td>...</td>\n",
       "    </tr>\n",
       "    <tr>\n",
       "      <th>1234</th>\n",
       "      <td>Q9ZEU2</td>\n",
       "      <td>R446F</td>\n",
       "      <td>47.8</td>\n",
       "      <td>7.0</td>\n",
       "      <td>0.2</td>\n",
       "    </tr>\n",
       "    <tr>\n",
       "      <th>1235</th>\n",
       "      <td>Q9ZEU2</td>\n",
       "      <td>R509A</td>\n",
       "      <td>47.8</td>\n",
       "      <td>7.0</td>\n",
       "      <td>0.0</td>\n",
       "    </tr>\n",
       "    <tr>\n",
       "      <th>1236</th>\n",
       "      <td>Q9ZEU2</td>\n",
       "      <td>Y147A</td>\n",
       "      <td>47.8</td>\n",
       "      <td>7.0</td>\n",
       "      <td>-1.0</td>\n",
       "    </tr>\n",
       "    <tr>\n",
       "      <th>1237</th>\n",
       "      <td>Q9ZEU2</td>\n",
       "      <td>Y147F</td>\n",
       "      <td>47.8</td>\n",
       "      <td>7.0</td>\n",
       "      <td>-0.2</td>\n",
       "    </tr>\n",
       "    <tr>\n",
       "      <th>1238</th>\n",
       "      <td>Q9ZEU2</td>\n",
       "      <td>Y147N</td>\n",
       "      <td>47.8</td>\n",
       "      <td>7.0</td>\n",
       "      <td>-1.0</td>\n",
       "    </tr>\n",
       "  </tbody>\n",
       "</table>\n",
       "<p>1239 rows × 5 columns</p>\n",
       "</div>"
      ]
     },
     "execution_count": 25,
     "metadata": {},
     "output_type": "execute_result"
    }
   ],
   "execution_count": 25
  },
  {
   "cell_type": "markdown",
   "source": [
    "### 4.4.绘制HotMusic分布图"
   ],
   "metadata": {
    "collapsed": false
   },
   "id": "c149a79bbcc88012"
  },
  {
   "cell_type": "code",
   "source": [
    "plt.figure(figsize=(15, 7.5), dpi=100)\n",
    "plt.hist(avg_HotMusic[\"ΔTm\"].astype(float).sort_values(),\n",
    "         bins=100,\n",
    "         color=\"yellowgreen\",\n",
    "         range=(-50, 50))\n",
    "plt.xlabel(\"ΔTm\", size=18)\n",
    "plt.gca().xaxis.set_major_locator(ticker.MultipleLocator(10))\n",
    "\n",
    "# 标题与坐标轴标签\n",
    "plt.title(\"ΔTm-frequency-in-MPThermDB-single-with-nothing-averaged\",\n",
    "          loc=\"center\",\n",
    "          fontdict={\"family\" : \"Times New Roman\",\n",
    "                    \"size\" : 24,\n",
    "                    \"weight\" : \"bold\"})\n",
    "plt.xlabel(\"ΔTm\", fontdict={\"family\" : \"Times New Roman\", \"size\" : 20, \"weight\" : \"normal\"})\n",
    "plt.ylabel(\"frequency\", fontdict={\"family\" : \"Times New Roman\", \"size\" : 20, \"weight\" : \"normal\"})\n",
    "\n",
    "plt.xticks(size=12)\n",
    "plt.yticks(size=12)\n",
    "plt.rcParams[\"axes.facecolor\"] = \"white\"\n",
    "plt.grid()\n",
    "plt.show()"
   ],
   "metadata": {
    "collapsed": false,
    "ExecuteTime": {
     "end_time": "2024-07-23T03:44:47.083363Z",
     "start_time": "2024-07-23T03:44:46.962011Z"
    }
   },
   "id": "76e283a052c64663",
   "outputs": [
    {
     "data": {
      "text/plain": [
       "<Figure size 1500x750 with 1 Axes>"
      ],
      "image/png": "[encoded data removed]"
     },
     "metadata": {},
     "output_type": "display_data"
    }
   ],
   "execution_count": 26
  },
  {
   "cell_type": "code",
   "source": [
    "plt.figure(figsize=(15, 7.5), dpi=100)\n",
    "plt.hist(avg_HotMusic[\"ΔTm\"].astype(float).sort_values(),\n",
    "         bins=100,\n",
    "         color=\"yellowgreen\",\n",
    "         range=(-50, 50))\n",
    "plt.xlabel(\"ΔTm\", size=18)\n",
    "plt.gca().xaxis.set_major_locator(ticker.MultipleLocator(10))\n",
    "\n",
    "# 标题与坐标轴标签\n",
    "plt.title(\"ΔTm-frequency-in-MPThermDB-single-with-nothing-averaged\",\n",
    "          loc=\"center\",\n",
    "          fontdict={\"family\" : \"Times New Roman\",\n",
    "                    \"size\" : 24,\n",
    "                    \"weight\" : \"bold\"})\n",
    "plt.xlabel(\"ΔTm\", fontdict={\"family\" : \"Times New Roman\", \"size\" : 20, \"weight\" : \"normal\"})\n",
    "plt.ylabel(\"frequency\", fontdict={\"family\" : \"Times New Roman\", \"size\" : 20, \"weight\" : \"normal\"})\n",
    "\n",
    "plt.xticks(size=12)\n",
    "plt.yticks(size=12)\n",
    "plt.rcParams[\"axes.facecolor\"] = \"white\"\n",
    "plt.grid()\n",
    "plt.show()"
   ],
   "metadata": {
    "collapsed": false,
    "ExecuteTime": {
     "end_time": "2024-07-23T03:44:47.204428Z",
     "start_time": "2024-07-23T03:44:47.083363Z"
    }
   },
   "id": "68a94a3214fd98df",
   "outputs": [
    {
     "data": {
      "text/plain": [
       "<Figure size 1500x750 with 1 Axes>"
      ],
      "image/png": "[encoded data removed]"
     },
     "metadata": {},
     "output_type": "display_data"
    }
   ],
   "execution_count": 27
  },
  {
   "cell_type": "markdown",
   "source": [
    "# 5.各数据集之间的引用关系[以ProThermDB为基本数据集]"
   ],
   "metadata": {
    "collapsed": false
   },
   "id": "15d54aa626119cf4"
  },
  {
   "cell_type": "code",
   "source": [
    "def Check4Dup(quote_df: pd.DataFrame, df: pd.DataFrame) -> list:\n",
    "    def CreateDict(_df: pd.DataFrame) -> set:\n",
    "        occur = set()\n",
    "        for rowIndex, row in _df.iterrows():\n",
    "            occur.add(\"@\".join(map(str, row)))\n",
    "        return occur\n",
    "\n",
    "    def check(_df: pd.DataFrame, occur: set) -> list:\n",
    "        indexs = []\n",
    "        for rowIndex, row in _df[columns].iterrows():\n",
    "            if \"@\".join(map(str, row)) in occur:\n",
    "                indexs .append(rowIndex)\n",
    "        return indexs\n",
    "\n",
    "    mtdData = CreateDict(df[columns])  # 构建在MPTherm中出现过的数据集合\n",
    "    return check(quote_df, mtdData)  # 检验有多少测试集数据出现在我们的数据集中，并返回处理后数据集"
   ],
   "metadata": {
    "collapsed": false,
    "ExecuteTime": {
     "end_time": "2024-07-23T03:44:47.209423Z",
     "start_time": "2024-07-23T03:44:47.205423Z"
    }
   },
   "id": "7d83448e7f65e9ec",
   "outputs": [],
   "execution_count": 28
  },
  {
   "cell_type": "markdown",
   "source": [
    "### 5.1.MPThermDB对ProThermDB的引用关系"
   ],
   "metadata": {
    "collapsed": false
   },
   "id": "f3b5bd827c3cb811"
  },
  {
   "cell_type": "code",
   "source": [
    "MPThermDB_ProThermDb_duplicateIndex = Check4Dup(avg_ProThermDB, avg_MPThermDB)\n",
    "print(\"MPThermDB采用了ProThermDB中的{}条数据\".format(len(MPThermDB_ProThermDb_duplicateIndex)))"
   ],
   "metadata": {
    "collapsed": false,
    "ExecuteTime": {
     "end_time": "2024-07-23T03:44:47.301689Z",
     "start_time": "2024-07-23T03:44:47.210423Z"
    }
   },
   "id": "3c929d23be03ace7",
   "outputs": [
    {
     "name": "stdout",
     "output_type": "stream",
     "text": [
      "MPThermDB采用了ProThermDB中的51条数据\n"
     ]
    }
   ],
   "execution_count": 29
  },
  {
   "cell_type": "markdown",
   "source": [
    "### 5.2.MPTherm-pred对MPThermDB的引用关系[缺失Tm，不进行比较]"
   ],
   "metadata": {
    "collapsed": false
   },
   "id": "cdc022a8f6112a77"
  },
  {
   "cell_type": "markdown",
   "source": [
    "### 5.3.HotMusic对MPThermDB的引用关系"
   ],
   "metadata": {
    "collapsed": false
   },
   "id": "83466d6b9ffebdca"
  },
  {
   "cell_type": "code",
   "source": [
    "HotMusic_ProThermDB_duplicateIndex = Check4Dup(avg_ProThermDB, avg_HotMusic)\n",
    "print(\"HotMusic采用了ProThermDB中的{}条数据\".format(len(HotMusic_ProThermDB_duplicateIndex)))"
   ],
   "metadata": {
    "collapsed": false,
    "ExecuteTime": {
     "end_time": "2024-07-23T03:44:47.385980Z",
     "start_time": "2024-07-23T03:44:47.301689Z"
    }
   },
   "id": "27b5093e5bb84872",
   "outputs": [
    {
     "name": "stdout",
     "output_type": "stream",
     "text": [
      "HotMusic采用了ProThermDB中的18条数据\n"
     ]
    }
   ],
   "execution_count": 30
  },
  {
   "cell_type": "markdown",
   "source": [
    "###  5.3.保存PonDB[预先划分测试集(比例0.05)]"
   ],
   "metadata": {
    "collapsed": false
   },
   "id": "a374aebcc5d1b5a3"
  },
  {
   "cell_type": "markdown",
   "source": [
    "# 6.为研究全全体球蛋白预测-在ProthermDB数据集中分割一个盲测集"
   ],
   "metadata": {
    "collapsed": false
   },
   "id": "40bfe82d5e63e615"
  },
  {
   "cell_type": "code",
   "source": [
    "excllent_ProThermDB = avg_ProThermDB.copy()\n",
    "exllent_ProThermDB = delete4Dup(excllent_ProThermDB, avg_MPThermDB, columns)\n",
    "excllent_ProThermDB = delete4Dup(excllent_ProThermDB, avg_HotMusic, columns)\n",
    "excllent_ProThermDB = delete4Dup(excllent_ProThermDB, MPTherm_pred_Training, columns[:-2])\n",
    "excllent_ProThermDB = delete4Dup(excllent_ProThermDB, MPTherm_pred_Testing, columns[:-2])\n",
    "excllent_ProThermDB"
   ],
   "metadata": {
    "collapsed": false,
    "ExecuteTime": {
     "end_time": "2024-07-23T03:44:47.708542Z",
     "start_time": "2024-07-23T03:44:47.385980Z"
    }
   },
   "id": "f6ae89de7103d7c",
   "outputs": [
    {
     "name": "stdout",
     "output_type": "stream",
     "text": [
      "-前一数据集采用了后一数据集中的51条数据，现已删除\n",
      "-前一数据集采用了后一数据集中的18条数据，现已删除\n",
      "-前一数据集采用了后一数据集中的21条数据，现已删除\n",
      "-前一数据集采用了后一数据集中的15条数据，现已删除\n"
     ]
    },
    {
     "data": {
      "text/plain": [
       "      UniProt_ID Mutation    Tm   pH  ΔTm\n",
       "0     A0A060GYS1     H22R  88.0  7.5  9.9\n",
       "1     A0A060GYS1    P224R  84.3  7.5  2.3\n",
       "2     A0A410ZNC6    A341S  33.6  7.5  3.6\n",
       "3     A0A410ZNC6    F184L  31.0  7.5  1.0\n",
       "4     A0A410ZNC6    P250L  34.5  7.5  4.5\n",
       "...          ...      ...   ...  ...  ...\n",
       "4705      R9S082     T52A  79.4  9.6 -2.8\n",
       "4706      R9S082     T68A  81.7  9.6 -0.5\n",
       "4707      R9S082    V115A  79.3  9.6 -2.9\n",
       "4708      R9S082     V14A  80.9  9.6 -1.3\n",
       "4709      R9S082     V67A  83.6  9.6  1.4\n",
       "\n",
       "[4710 rows x 5 columns]"
      ],
      "text/html": [
       "<div>\n",
       "<style scoped>\n",
       "    .dataframe tbody tr th:only-of-type {\n",
       "        vertical-align: middle;\n",
       "    }\n",
       "\n",
       "    .dataframe tbody tr th {\n",
       "        vertical-align: top;\n",
       "    }\n",
       "\n",
       "    .dataframe thead th {\n",
       "        text-align: right;\n",
       "    }\n",
       "</style>\n",
       "<table border=\"1\" class=\"dataframe\">\n",
       "  <thead>\n",
       "    <tr style=\"text-align: right;\">\n",
       "      <th></th>\n",
       "      <th>UniProt_ID</th>\n",
       "      <th>Mutation</th>\n",
       "      <th>Tm</th>\n",
       "      <th>pH</th>\n",
       "      <th>ΔTm</th>\n",
       "    </tr>\n",
       "  </thead>\n",
       "  <tbody>\n",
       "    <tr>\n",
       "      <th>0</th>\n",
       "      <td>A0A060GYS1</td>\n",
       "      <td>H22R</td>\n",
       "      <td>88.0</td>\n",
       "      <td>7.5</td>\n",
       "      <td>9.9</td>\n",
       "    </tr>\n",
       "    <tr>\n",
       "      <th>1</th>\n",
       "      <td>A0A060GYS1</td>\n",
       "      <td>P224R</td>\n",
       "      <td>84.3</td>\n",
       "      <td>7.5</td>\n",
       "      <td>2.3</td>\n",
       "    </tr>\n",
       "    <tr>\n",
       "      <th>2</th>\n",
       "      <td>A0A410ZNC6</td>\n",
       "      <td>A341S</td>\n",
       "      <td>33.6</td>\n",
       "      <td>7.5</td>\n",
       "      <td>3.6</td>\n",
       "    </tr>\n",
       "    <tr>\n",
       "      <th>3</th>\n",
       "      <td>A0A410ZNC6</td>\n",
       "      <td>F184L</td>\n",
       "      <td>31.0</td>\n",
       "      <td>7.5</td>\n",
       "      <td>1.0</td>\n",
       "    </tr>\n",
       "    <tr>\n",
       "      <th>4</th>\n",
       "      <td>A0A410ZNC6</td>\n",
       "      <td>P250L</td>\n",
       "      <td>34.5</td>\n",
       "      <td>7.5</td>\n",
       "      <td>4.5</td>\n",
       "    </tr>\n",
       "    <tr>\n",
       "      <th>...</th>\n",
       "      <td>...</td>\n",
       "      <td>...</td>\n",
       "      <td>...</td>\n",
       "      <td>...</td>\n",
       "      <td>...</td>\n",
       "    </tr>\n",
       "    <tr>\n",
       "      <th>4705</th>\n",
       "      <td>R9S082</td>\n",
       "      <td>T52A</td>\n",
       "      <td>79.4</td>\n",
       "      <td>9.6</td>\n",
       "      <td>-2.8</td>\n",
       "    </tr>\n",
       "    <tr>\n",
       "      <th>4706</th>\n",
       "      <td>R9S082</td>\n",
       "      <td>T68A</td>\n",
       "      <td>81.7</td>\n",
       "      <td>9.6</td>\n",
       "      <td>-0.5</td>\n",
       "    </tr>\n",
       "    <tr>\n",
       "      <th>4707</th>\n",
       "      <td>R9S082</td>\n",
       "      <td>V115A</td>\n",
       "      <td>79.3</td>\n",
       "      <td>9.6</td>\n",
       "      <td>-2.9</td>\n",
       "    </tr>\n",
       "    <tr>\n",
       "      <th>4708</th>\n",
       "      <td>R9S082</td>\n",
       "      <td>V14A</td>\n",
       "      <td>80.9</td>\n",
       "      <td>9.6</td>\n",
       "      <td>-1.3</td>\n",
       "    </tr>\n",
       "    <tr>\n",
       "      <th>4709</th>\n",
       "      <td>R9S082</td>\n",
       "      <td>V67A</td>\n",
       "      <td>83.6</td>\n",
       "      <td>9.6</td>\n",
       "      <td>1.4</td>\n",
       "    </tr>\n",
       "  </tbody>\n",
       "</table>\n",
       "<p>4710 rows × 5 columns</p>\n",
       "</div>"
      ]
     },
     "execution_count": 31,
     "metadata": {},
     "output_type": "execute_result"
    }
   ],
   "execution_count": 31
  },
  {
   "metadata": {},
   "cell_type": "markdown",
   "source": "###  读取ProThermDB测试集",
   "id": "36a77295ecde6b1b"
  },
  {
   "metadata": {
    "ExecuteTime": {
     "end_time": "2024-07-23T03:44:47.717504Z",
     "start_time": "2024-07-23T03:44:47.709054Z"
    }
   },
   "cell_type": "code",
   "source": [
    "Common_Test = pd.read_csv(\"D:\\WorkPath\\PycharmProjects\\MutTm-pred\\Dataset\\BasicData\\ProThermDB\\Common\\excllent_ProThermDB_Testing4Comparison.csv\")\n",
    "Common_Test"
   ],
   "id": "6c94d27eb72834be",
   "outputs": [
    {
     "data": {
      "text/plain": [
       "    UniProt_ID Mutation    ΔTm PDB_Chain_Mutation PDB_ID Chain PDB_Mutation  \\\n",
       "0       P03050      S5A  -1.50         1arr_A:S5A   1arr     A          S5A   \n",
       "1       Q13526     T29A -14.30        1pin_A:T29A   1pin     A         T29A   \n",
       "2       P07845    Y111N   0.00       1gwy_A:Y111N   1gwy     A        Y111N   \n",
       "3       P00711    D106N  19.60        1hfz_A:D87N   1hfz     A         D87N   \n",
       "4       Q15059    H395R  -2.60       3s92_A:H395R   3s92     A        H395R   \n",
       "..         ...      ...    ...                ...    ...   ...          ...   \n",
       "262     P61495    H179K  -1.05       1osi_A:H179K   1osi     A        H179K   \n",
       "263     P00044     F16M -15.20        1ycc_A:F10M   1ycc     A         F10M   \n",
       "264     P00644    T144Q -12.95        1stn_A:T62Q   1stn     A         T62Q   \n",
       "265     P05798     L21A  -1.60        1rgg_A:L21A   1rgg     A         L21A   \n",
       "266     P00918      Y7S  -9.10         2ili_A:Y7S   2ili     A          Y7S   \n",
       "\n",
       "    HotMuSiC AUTO-MUTE2.0-AdaClass AUTOMUTE2.0-SVM AUTO-MUTE2.0-REPTree  \\\n",
       "0      -4.19                    -1              -1                -2.50   \n",
       "1      -8.83                     -               -                    -   \n",
       "2      -3.58                    -1              -1                -2.70   \n",
       "3      -1.55                     -               -                    -   \n",
       "4      -2.59                     -               -                    -   \n",
       "..       ...                   ...             ...                  ...   \n",
       "262     0.42                    -1              -1               -15.21   \n",
       "263    -3.94                     -               -                    -   \n",
       "264    -2.91                    -1              -1                -1.51   \n",
       "265    -3.80                    -1               1               -12.42   \n",
       "266    -4.54                     -               -                    -   \n",
       "\n",
       "    AUTO-MUTE2.0-SVR  MPTherm-pred  \n",
       "0              -1.50        -2.761  \n",
       "1                  -       -10.837  \n",
       "2              -1.80        -5.861  \n",
       "3                  -        -7.088  \n",
       "4                  -        -7.988  \n",
       "..               ...           ...  \n",
       "262            -3.67        -1.236  \n",
       "263                -        -3.561  \n",
       "264            -5.19        -1.162  \n",
       "265             1.12        -6.895  \n",
       "266                -       -12.278  \n",
       "\n",
       "[267 rows x 13 columns]"
      ],
      "text/html": [
       "<div>\n",
       "<style scoped>\n",
       "    .dataframe tbody tr th:only-of-type {\n",
       "        vertical-align: middle;\n",
       "    }\n",
       "\n",
       "    .dataframe tbody tr th {\n",
       "        vertical-align: top;\n",
       "    }\n",
       "\n",
       "    .dataframe thead th {\n",
       "        text-align: right;\n",
       "    }\n",
       "</style>\n",
       "<table border=\"1\" class=\"dataframe\">\n",
       "  <thead>\n",
       "    <tr style=\"text-align: right;\">\n",
       "      <th></th>\n",
       "      <th>UniProt_ID</th>\n",
       "      <th>Mutation</th>\n",
       "      <th>ΔTm</th>\n",
       "      <th>PDB_Chain_Mutation</th>\n",
       "      <th>PDB_ID</th>\n",
       "      <th>Chain</th>\n",
       "      <th>PDB_Mutation</th>\n",
       "      <th>HotMuSiC</th>\n",
       "      <th>AUTO-MUTE2.0-AdaClass</th>\n",
       "      <th>AUTOMUTE2.0-SVM</th>\n",
       "      <th>AUTO-MUTE2.0-REPTree</th>\n",
       "      <th>AUTO-MUTE2.0-SVR</th>\n",
       "      <th>MPTherm-pred</th>\n",
       "    </tr>\n",
       "  </thead>\n",
       "  <tbody>\n",
       "    <tr>\n",
       "      <th>0</th>\n",
       "      <td>P03050</td>\n",
       "      <td>S5A</td>\n",
       "      <td>-1.50</td>\n",
       "      <td>1arr_A:S5A</td>\n",
       "      <td>1arr</td>\n",
       "      <td>A</td>\n",
       "      <td>S5A</td>\n",
       "      <td>-4.19</td>\n",
       "      <td>-1</td>\n",
       "      <td>-1</td>\n",
       "      <td>-2.50</td>\n",
       "      <td>-1.50</td>\n",
       "      <td>-2.761</td>\n",
       "    </tr>\n",
       "    <tr>\n",
       "      <th>1</th>\n",
       "      <td>Q13526</td>\n",
       "      <td>T29A</td>\n",
       "      <td>-14.30</td>\n",
       "      <td>1pin_A:T29A</td>\n",
       "      <td>1pin</td>\n",
       "      <td>A</td>\n",
       "      <td>T29A</td>\n",
       "      <td>-8.83</td>\n",
       "      <td>-</td>\n",
       "      <td>-</td>\n",
       "      <td>-</td>\n",
       "      <td>-</td>\n",
       "      <td>-10.837</td>\n",
       "    </tr>\n",
       "    <tr>\n",
       "      <th>2</th>\n",
       "      <td>P07845</td>\n",
       "      <td>Y111N</td>\n",
       "      <td>0.00</td>\n",
       "      <td>1gwy_A:Y111N</td>\n",
       "      <td>1gwy</td>\n",
       "      <td>A</td>\n",
       "      <td>Y111N</td>\n",
       "      <td>-3.58</td>\n",
       "      <td>-1</td>\n",
       "      <td>-1</td>\n",
       "      <td>-2.70</td>\n",
       "      <td>-1.80</td>\n",
       "      <td>-5.861</td>\n",
       "    </tr>\n",
       "    <tr>\n",
       "      <th>3</th>\n",
       "      <td>P00711</td>\n",
       "      <td>D106N</td>\n",
       "      <td>19.60</td>\n",
       "      <td>1hfz_A:D87N</td>\n",
       "      <td>1hfz</td>\n",
       "      <td>A</td>\n",
       "      <td>D87N</td>\n",
       "      <td>-1.55</td>\n",
       "      <td>-</td>\n",
       "      <td>-</td>\n",
       "      <td>-</td>\n",
       "      <td>-</td>\n",
       "      <td>-7.088</td>\n",
       "    </tr>\n",
       "    <tr>\n",
       "      <th>4</th>\n",
       "      <td>Q15059</td>\n",
       "      <td>H395R</td>\n",
       "      <td>-2.60</td>\n",
       "      <td>3s92_A:H395R</td>\n",
       "      <td>3s92</td>\n",
       "      <td>A</td>\n",
       "      <td>H395R</td>\n",
       "      <td>-2.59</td>\n",
       "      <td>-</td>\n",
       "      <td>-</td>\n",
       "      <td>-</td>\n",
       "      <td>-</td>\n",
       "      <td>-7.988</td>\n",
       "    </tr>\n",
       "    <tr>\n",
       "      <th>...</th>\n",
       "      <td>...</td>\n",
       "      <td>...</td>\n",
       "      <td>...</td>\n",
       "      <td>...</td>\n",
       "      <td>...</td>\n",
       "      <td>...</td>\n",
       "      <td>...</td>\n",
       "      <td>...</td>\n",
       "      <td>...</td>\n",
       "      <td>...</td>\n",
       "      <td>...</td>\n",
       "      <td>...</td>\n",
       "      <td>...</td>\n",
       "    </tr>\n",
       "    <tr>\n",
       "      <th>262</th>\n",
       "      <td>P61495</td>\n",
       "      <td>H179K</td>\n",
       "      <td>-1.05</td>\n",
       "      <td>1osi_A:H179K</td>\n",
       "      <td>1osi</td>\n",
       "      <td>A</td>\n",
       "      <td>H179K</td>\n",
       "      <td>0.42</td>\n",
       "      <td>-1</td>\n",
       "      <td>-1</td>\n",
       "      <td>-15.21</td>\n",
       "      <td>-3.67</td>\n",
       "      <td>-1.236</td>\n",
       "    </tr>\n",
       "    <tr>\n",
       "      <th>263</th>\n",
       "      <td>P00044</td>\n",
       "      <td>F16M</td>\n",
       "      <td>-15.20</td>\n",
       "      <td>1ycc_A:F10M</td>\n",
       "      <td>1ycc</td>\n",
       "      <td>A</td>\n",
       "      <td>F10M</td>\n",
       "      <td>-3.94</td>\n",
       "      <td>-</td>\n",
       "      <td>-</td>\n",
       "      <td>-</td>\n",
       "      <td>-</td>\n",
       "      <td>-3.561</td>\n",
       "    </tr>\n",
       "    <tr>\n",
       "      <th>264</th>\n",
       "      <td>P00644</td>\n",
       "      <td>T144Q</td>\n",
       "      <td>-12.95</td>\n",
       "      <td>1stn_A:T62Q</td>\n",
       "      <td>1stn</td>\n",
       "      <td>A</td>\n",
       "      <td>T62Q</td>\n",
       "      <td>-2.91</td>\n",
       "      <td>-1</td>\n",
       "      <td>-1</td>\n",
       "      <td>-1.51</td>\n",
       "      <td>-5.19</td>\n",
       "      <td>-1.162</td>\n",
       "    </tr>\n",
       "    <tr>\n",
       "      <th>265</th>\n",
       "      <td>P05798</td>\n",
       "      <td>L21A</td>\n",
       "      <td>-1.60</td>\n",
       "      <td>1rgg_A:L21A</td>\n",
       "      <td>1rgg</td>\n",
       "      <td>A</td>\n",
       "      <td>L21A</td>\n",
       "      <td>-3.80</td>\n",
       "      <td>-1</td>\n",
       "      <td>1</td>\n",
       "      <td>-12.42</td>\n",
       "      <td>1.12</td>\n",
       "      <td>-6.895</td>\n",
       "    </tr>\n",
       "    <tr>\n",
       "      <th>266</th>\n",
       "      <td>P00918</td>\n",
       "      <td>Y7S</td>\n",
       "      <td>-9.10</td>\n",
       "      <td>2ili_A:Y7S</td>\n",
       "      <td>2ili</td>\n",
       "      <td>A</td>\n",
       "      <td>Y7S</td>\n",
       "      <td>-4.54</td>\n",
       "      <td>-</td>\n",
       "      <td>-</td>\n",
       "      <td>-</td>\n",
       "      <td>-</td>\n",
       "      <td>-12.278</td>\n",
       "    </tr>\n",
       "  </tbody>\n",
       "</table>\n",
       "<p>267 rows × 13 columns</p>\n",
       "</div>"
      ]
     },
     "execution_count": 32,
     "metadata": {},
     "output_type": "execute_result"
    }
   ],
   "execution_count": 32
  },
  {
   "metadata": {},
   "cell_type": "markdown",
   "source": "### 扩充测试集中的Tm条件",
   "id": "b8375f17f4e3c08f"
  },
  {
   "metadata": {
    "ExecuteTime": {
     "end_time": "2024-07-23T03:44:47.784762Z",
     "start_time": "2024-07-23T03:44:47.717504Z"
    }
   },
   "cell_type": "code",
   "source": "excllent_ProThermDB_Testing = select4Dup(excllent_ProThermDB, Common_Test, columns[:-2])",
   "id": "92dd03b16c337a52",
   "outputs": [
    {
     "name": "stdout",
     "output_type": "stream",
     "text": [
      "-前一数据集采用了后一数据集中的360条数据，现返回该重叠数据集\n"
     ]
    }
   ],
   "execution_count": 33
  },
  {
   "cell_type": "code",
   "source": "excllent_ProThermDB_Training = delete4Dup(excllent_ProThermDB, excllent_ProThermDB_Testing, columns)",
   "metadata": {
    "collapsed": false,
    "ExecuteTime": {
     "end_time": "2024-07-23T03:44:47.858555Z",
     "start_time": "2024-07-23T03:44:47.784762Z"
    }
   },
   "id": "11dc09ad890aabd5",
   "outputs": [
    {
     "name": "stdout",
     "output_type": "stream",
     "text": [
      "-前一数据集采用了后一数据集中的360条数据，现已删除\n"
     ]
    }
   ],
   "execution_count": 34
  },
  {
   "cell_type": "code",
   "source": [
    "# excllent_ProThermDB_Testing.to_csv(\"BasicData/ProThermDB/pH-Tm/excllent_ProThermDB_Testing.csv\", index=False)\n",
    "# excllent_ProThermDB_Training.to_csv(\"BasicData/ProThermDB/pH-Tm/excllent_ProThermDB_Training.csv\", index=False)"
   ],
   "metadata": {
    "collapsed": false,
    "ExecuteTime": {
     "end_time": "2024-07-23T03:44:47.861176Z",
     "start_time": "2024-07-23T03:44:47.859066Z"
    }
   },
   "id": "fd8877e4641e9190",
   "outputs": [],
   "execution_count": 35
  },
  {
   "cell_type": "markdown",
   "source": [
    "### 7.拼接所有可用训练集为PonDB"
   ],
   "metadata": {
    "collapsed": false
   },
   "id": "38fc2561894e5faa"
  },
  {
   "cell_type": "code",
   "source": [
    "PonDB = pd.concat([avg_HotMusic, avg_MPThermDB, avg_ProThermDB], axis=0, ignore_index=True).drop_duplicates(subset=columns, keep=False).reset_index(drop=True)\n",
    "PonDB = delete4Dup(PonDB, MPTherm_pred_Testing, columns[:-2])\n",
    "PonDB = delete4Dup(PonDB, excllent_ProThermDB_Testing, columns)\n",
    "PonDB"
   ],
   "metadata": {
    "collapsed": false,
    "ExecuteTime": {
     "end_time": "2024-07-23T03:44:48.071958Z",
     "start_time": "2024-07-23T03:44:47.861176Z"
    }
   },
   "id": "3b549b1ef7feb045",
   "outputs": [
    {
     "name": "stdout",
     "output_type": "stream",
     "text": [
      "-前一数据集采用了后一数据集中的158条数据，现已删除\n",
      "-前一数据集采用了后一数据集中的360条数据，现已删除\n"
     ]
    },
    {
     "data": {
      "text/plain": [
       "     UniProt_ID Mutation    Tm   pH   ΔTm\n",
       "0        A8PUY1    N277D  54.6  6.0   2.0\n",
       "1        A8PUY1    N277F  54.6  6.0 -16.3\n",
       "2        A8PUY1    N277L  54.6  6.0 -12.0\n",
       "3        A8PUY1    N277V  54.6  6.0 -13.5\n",
       "4        D4Z2G1    A129V  51.0  7.5  -1.5\n",
       "...         ...      ...   ...  ...   ...\n",
       "7071     R9S082     T52A  79.4  9.6  -2.8\n",
       "7072     R9S082     T68A  81.7  9.6  -0.5\n",
       "7073     R9S082    V115A  79.3  9.6  -2.9\n",
       "7074     R9S082     V14A  80.9  9.6  -1.3\n",
       "7075     R9S082     V67A  83.6  9.6   1.4\n",
       "\n",
       "[7076 rows x 5 columns]"
      ],
      "text/html": [
       "<div>\n",
       "<style scoped>\n",
       "    .dataframe tbody tr th:only-of-type {\n",
       "        vertical-align: middle;\n",
       "    }\n",
       "\n",
       "    .dataframe tbody tr th {\n",
       "        vertical-align: top;\n",
       "    }\n",
       "\n",
       "    .dataframe thead th {\n",
       "        text-align: right;\n",
       "    }\n",
       "</style>\n",
       "<table border=\"1\" class=\"dataframe\">\n",
       "  <thead>\n",
       "    <tr style=\"text-align: right;\">\n",
       "      <th></th>\n",
       "      <th>UniProt_ID</th>\n",
       "      <th>Mutation</th>\n",
       "      <th>Tm</th>\n",
       "      <th>pH</th>\n",
       "      <th>ΔTm</th>\n",
       "    </tr>\n",
       "  </thead>\n",
       "  <tbody>\n",
       "    <tr>\n",
       "      <th>0</th>\n",
       "      <td>A8PUY1</td>\n",
       "      <td>N277D</td>\n",
       "      <td>54.6</td>\n",
       "      <td>6.0</td>\n",
       "      <td>2.0</td>\n",
       "    </tr>\n",
       "    <tr>\n",
       "      <th>1</th>\n",
       "      <td>A8PUY1</td>\n",
       "      <td>N277F</td>\n",
       "      <td>54.6</td>\n",
       "      <td>6.0</td>\n",
       "      <td>-16.3</td>\n",
       "    </tr>\n",
       "    <tr>\n",
       "      <th>2</th>\n",
       "      <td>A8PUY1</td>\n",
       "      <td>N277L</td>\n",
       "      <td>54.6</td>\n",
       "      <td>6.0</td>\n",
       "      <td>-12.0</td>\n",
       "    </tr>\n",
       "    <tr>\n",
       "      <th>3</th>\n",
       "      <td>A8PUY1</td>\n",
       "      <td>N277V</td>\n",
       "      <td>54.6</td>\n",
       "      <td>6.0</td>\n",
       "      <td>-13.5</td>\n",
       "    </tr>\n",
       "    <tr>\n",
       "      <th>4</th>\n",
       "      <td>D4Z2G1</td>\n",
       "      <td>A129V</td>\n",
       "      <td>51.0</td>\n",
       "      <td>7.5</td>\n",
       "      <td>-1.5</td>\n",
       "    </tr>\n",
       "    <tr>\n",
       "      <th>...</th>\n",
       "      <td>...</td>\n",
       "      <td>...</td>\n",
       "      <td>...</td>\n",
       "      <td>...</td>\n",
       "      <td>...</td>\n",
       "    </tr>\n",
       "    <tr>\n",
       "      <th>7071</th>\n",
       "      <td>R9S082</td>\n",
       "      <td>T52A</td>\n",
       "      <td>79.4</td>\n",
       "      <td>9.6</td>\n",
       "      <td>-2.8</td>\n",
       "    </tr>\n",
       "    <tr>\n",
       "      <th>7072</th>\n",
       "      <td>R9S082</td>\n",
       "      <td>T68A</td>\n",
       "      <td>81.7</td>\n",
       "      <td>9.6</td>\n",
       "      <td>-0.5</td>\n",
       "    </tr>\n",
       "    <tr>\n",
       "      <th>7073</th>\n",
       "      <td>R9S082</td>\n",
       "      <td>V115A</td>\n",
       "      <td>79.3</td>\n",
       "      <td>9.6</td>\n",
       "      <td>-2.9</td>\n",
       "    </tr>\n",
       "    <tr>\n",
       "      <th>7074</th>\n",
       "      <td>R9S082</td>\n",
       "      <td>V14A</td>\n",
       "      <td>80.9</td>\n",
       "      <td>9.6</td>\n",
       "      <td>-1.3</td>\n",
       "    </tr>\n",
       "    <tr>\n",
       "      <th>7075</th>\n",
       "      <td>R9S082</td>\n",
       "      <td>V67A</td>\n",
       "      <td>83.6</td>\n",
       "      <td>9.6</td>\n",
       "      <td>1.4</td>\n",
       "    </tr>\n",
       "  </tbody>\n",
       "</table>\n",
       "<p>7076 rows × 5 columns</p>\n",
       "</div>"
      ]
     },
     "execution_count": 36,
     "metadata": {},
     "output_type": "execute_result"
    }
   ],
   "execution_count": 36
  },
  {
   "cell_type": "markdown",
   "source": [
    "# 7.1.绘制图像"
   ],
   "metadata": {
    "collapsed": false
   },
   "id": "9571b1f05c435e9b"
  },
  {
   "metadata": {
    "ExecuteTime": {
     "end_time": "2024-07-23T03:44:48.074419Z",
     "start_time": "2024-07-23T03:44:48.071958Z"
    }
   },
   "cell_type": "code",
   "source": [
    "import pandas as pd\n",
    "from matplotlib import pyplot as plt\n",
    "from matplotlib import ticker\n",
    "# PonDB = pd.read_csv(\"BasicData/PonDB/pH-Tm/PonDB.csv\")"
   ],
   "id": "31cafb08ee158f8b",
   "outputs": [],
   "execution_count": 37
  },
  {
   "cell_type": "code",
   "source": [
    "plt.figure(figsize=(15, 7.5), dpi=100)\n",
    "plt.hist(PonDB[\"ΔTm\"].astype(float).sort_values(),\n",
    "         bins=100,\n",
    "         color=\"yellowgreen\",\n",
    "         range=(-50, 50))\n",
    "plt.xlabel(\"ΔTm\", size=18)\n",
    "plt.gca().xaxis.set_major_locator(ticker.MultipleLocator(10))\n",
    "\n",
    "# 标题与坐标轴标签\n",
    "plt.title(\"ΔTm-frequency-in-PonDB-with-pH-Tm-averaged\",\n",
    "          loc=\"center\",\n",
    "          fontdict={\"family\" : \"Times New Roman\",\n",
    "                    \"size\" : 24,\n",
    "                    \"weight\" : \"bold\"})\n",
    "plt.xlabel(\"ΔTm\", fontdict={\"family\" : \"Times New Roman\", \"size\" : 20, \"weight\" : \"normal\"})\n",
    "plt.ylabel(\"frequency\", fontdict={\"family\" : \"Times New Roman\", \"size\" : 20, \"weight\" : \"normal\"})\n",
    "\n",
    "plt.xticks(size=12)\n",
    "plt.yticks(size=12)\n",
    "plt.rcParams[\"axes.facecolor\"] = \"grey\"\n",
    "plt.grid()\n",
    "plt.show()"
   ],
   "metadata": {
    "collapsed": false,
    "ExecuteTime": {
     "end_time": "2024-07-23T03:44:48.187861Z",
     "start_time": "2024-07-23T03:44:48.074419Z"
    }
   },
   "id": "c3740443141ad875",
   "outputs": [
    {
     "data": {
      "text/plain": [
       "<Figure size 1500x750 with 1 Axes>"
      ],
      "image/png": "[encoded data removed]"
     },
     "metadata": {},
     "output_type": "display_data"
    }
   ],
   "execution_count": 38
  },
  {
   "cell_type": "markdown",
   "source": [
    "### 7.2.PonDB全部作为训练集"
   ],
   "metadata": {
    "collapsed": false
   },
   "id": "c177496049266c49"
  },
  {
   "cell_type": "code",
   "source": "# PonDB.to_csv(\"BasicData/PonDB/pH-Tm/PonDB.csv\", index=False)",
   "metadata": {
    "collapsed": false,
    "ExecuteTime": {
     "end_time": "2024-07-23T03:44:48.200069Z",
     "start_time": "2024-07-23T03:44:48.188856Z"
    }
   },
   "id": "88fc6f7bd5b15706",
   "outputs": [],
   "execution_count": 39
  },
  {
   "metadata": {
    "ExecuteTime": {
     "end_time": "2024-07-23T03:45:15.055707Z",
     "start_time": "2024-07-23T03:45:15.051709Z"
    }
   },
   "cell_type": "code",
   "source": "PonDB[\"ΔTm\"]",
   "id": "785c4702df71006",
   "outputs": [
    {
     "data": {
      "text/plain": [
       "0        2.0\n",
       "1      -16.3\n",
       "2      -12.0\n",
       "3      -13.5\n",
       "4       -1.5\n",
       "        ... \n",
       "7071    -2.8\n",
       "7072    -0.5\n",
       "7073    -2.9\n",
       "7074    -1.3\n",
       "7075     1.4\n",
       "Name: ΔTm, Length: 7076, dtype: object"
      ]
     },
     "execution_count": 40,
     "metadata": {},
     "output_type": "execute_result"
    }
   ],
   "execution_count": 40
  },
  {
   "metadata": {
    "ExecuteTime": {
     "end_time": "2024-07-23T03:46:53.000386Z",
     "start_time": "2024-07-23T03:46:52.995862Z"
    }
   },
   "cell_type": "code",
   "source": "PonDB[\"ΔTm\"].var()",
   "id": "d46274a423388055",
   "outputs": [
    {
     "data": {
      "text/plain": [
       "56.414460651322344"
      ]
     },
     "execution_count": 41,
     "metadata": {},
     "output_type": "execute_result"
    }
   ],
   "execution_count": 41
  }
 ],
 "metadata": {
  "kernelspec": {
   "display_name": "Python 3 (ipykernel)",
   "language": "python",
   "name": "python3"
  },
  "language_info": {
   "codemirror_mode": {
    "name": "ipython",
    "version": 3
   },
   "file_extension": ".py",
   "mimetype": "text/x-python",
   "name": "python",
   "nbconvert_exporter": "python",
   "pygments_lexer": "ipython3",
   "version": "3.11.8"
  },
  "widgets": {
   "application/vnd.jupyter.widget-state+json": {
    "state": {},
    "version_major": 2,
    "version_minor": 0
   }
  }
 },
 "nbformat": 4,
 "nbformat_minor": 5
}
