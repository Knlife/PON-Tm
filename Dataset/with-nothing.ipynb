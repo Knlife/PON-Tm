{
 "cells": [
  {
   "cell_type": "markdown",
   "id": "b9a5b6af42b61d12",
   "metadata": {
    "collapsed": false
   },
   "source": [
    "# 单突变数据库[ProThermDB-single MPTherm-pred]"
   ]
  },
  {
   "cell_type": "code",
   "source": [
    "import json\n",
    "import os\n",
    "import pandas as pd\n",
    "import matplotlib.pyplot as plt\n",
    "import matplotlib.ticker as ticker\n",
    "import tqdm"
   ],
   "metadata": {
    "collapsed": false,
    "ExecuteTime": {
     "end_time": "2024-07-23T03:48:48.557037Z",
     "start_time": "2024-07-23T03:48:48.064073Z"
    }
   },
   "id": "7aceb3dd9ba37467",
   "outputs": [],
   "execution_count": 1
  },
  {
   "cell_type": "markdown",
   "source": "## 0.data preprocessing functions",
   "metadata": {
    "collapsed": false
   },
   "id": "847520ed119c007b"
  },
  {
   "cell_type": "code",
   "source": "from Process4Dataset.initializor4PonDT import wash4MutTm, check4mult, duplicate4MutTm, delete4Dup, unipdb_getter",
   "metadata": {
    "collapsed": false,
    "ExecuteTime": {
     "end_time": "2024-07-23T03:48:48.561754Z",
     "start_time": "2024-07-23T03:48:48.558036Z"
    }
   },
   "id": "a67f0389941e2e6d",
   "outputs": [],
   "execution_count": 2
  },
  {
   "cell_type": "markdown",
   "source": [
    "# 常规情况——不关注Tm与pH"
   ],
   "metadata": {
    "collapsed": false
   },
   "id": "fd0495dcaecdef88"
  },
  {
   "cell_type": "code",
   "source": [
    "ProThermDB_file_path = \"BasicData/InitializationDataset/ProThermDB.tsv\"\n",
    "MPThermDB_file_path = \"BasicData/InitializationDataset/MPThermDB.tsv\"\n",
    "MPTherm_pred_file_path = \"BasicData/InitializationDataset/MPTherm-pred.tsv\"\n",
    "HotMuSiC_file_path = \"BasicData/InitializationDataset/HotMuSiC_source.csv\"\n",
    "columns = [\"UniProt_ID\", \"Mutation\"]"
   ],
   "metadata": {
    "collapsed": false,
    "ExecuteTime": {
     "end_time": "2024-07-23T03:48:48.564339Z",
     "start_time": "2024-07-23T03:48:48.561754Z"
    }
   },
   "id": "5bdb86aa212b7e7a",
   "outputs": [],
   "execution_count": 3
  },
  {
   "cell_type": "markdown",
   "source": [
    "## 1.ProThermDB"
   ],
   "metadata": {
    "collapsed": false
   },
   "id": "3fca5e0472950985"
  },
  {
   "cell_type": "code",
   "source": [
    "ProThermDB = pd.read_csv(ProThermDB_file_path, sep=\"\\t\")[columns + [\"ΔTm\"]]\n",
    "ProThermDB.sort_values(by=columns, inplace=True, ascending=False)\n",
    "ProThermDB.reset_index(drop=True, inplace=True)\n",
    "ProThermDB"
   ],
   "metadata": {
    "collapsed": false,
    "ExecuteTime": {
     "end_time": "2024-07-23T03:48:48.608745Z",
     "start_time": "2024-07-23T03:48:48.564339Z"
    }
   },
   "id": "5abc105369a89f24",
   "outputs": [
    {
     "data": {
      "text/plain": [
       "     UniProt_ID                  Mutation   ΔTm\n",
       "0        W0TJ64  S176A (Based on Uniprot)  80.4\n",
       "1        W0TJ64  S176A (Based on Uniprot)  78.2\n",
       "2        W0TJ64  S176A (Based on Uniprot)  78.4\n",
       "3        W0TJ64  S176A (Based on Uniprot)  79.8\n",
       "4        W0TJ64  S176A (Based on Uniprot)  80.4\n",
       "...         ...                       ...   ...\n",
       "9731          -                         -     -\n",
       "9732          -                         -     -\n",
       "9733          -                         -     -\n",
       "9734          -                         -     -\n",
       "9735          -                         -     -\n",
       "\n",
       "[9736 rows x 3 columns]"
      ],
      "text/html": [
       "<div>\n",
       "<style scoped>\n",
       "    .dataframe tbody tr th:only-of-type {\n",
       "        vertical-align: middle;\n",
       "    }\n",
       "\n",
       "    .dataframe tbody tr th {\n",
       "        vertical-align: top;\n",
       "    }\n",
       "\n",
       "    .dataframe thead th {\n",
       "        text-align: right;\n",
       "    }\n",
       "</style>\n",
       "<table border=\"1\" class=\"dataframe\">\n",
       "  <thead>\n",
       "    <tr style=\"text-align: right;\">\n",
       "      <th></th>\n",
       "      <th>UniProt_ID</th>\n",
       "      <th>Mutation</th>\n",
       "      <th>ΔTm</th>\n",
       "    </tr>\n",
       "  </thead>\n",
       "  <tbody>\n",
       "    <tr>\n",
       "      <th>0</th>\n",
       "      <td>W0TJ64</td>\n",
       "      <td>S176A (Based on Uniprot)</td>\n",
       "      <td>80.4</td>\n",
       "    </tr>\n",
       "    <tr>\n",
       "      <th>1</th>\n",
       "      <td>W0TJ64</td>\n",
       "      <td>S176A (Based on Uniprot)</td>\n",
       "      <td>78.2</td>\n",
       "    </tr>\n",
       "    <tr>\n",
       "      <th>2</th>\n",
       "      <td>W0TJ64</td>\n",
       "      <td>S176A (Based on Uniprot)</td>\n",
       "      <td>78.4</td>\n",
       "    </tr>\n",
       "    <tr>\n",
       "      <th>3</th>\n",
       "      <td>W0TJ64</td>\n",
       "      <td>S176A (Based on Uniprot)</td>\n",
       "      <td>79.8</td>\n",
       "    </tr>\n",
       "    <tr>\n",
       "      <th>4</th>\n",
       "      <td>W0TJ64</td>\n",
       "      <td>S176A (Based on Uniprot)</td>\n",
       "      <td>80.4</td>\n",
       "    </tr>\n",
       "    <tr>\n",
       "      <th>...</th>\n",
       "      <td>...</td>\n",
       "      <td>...</td>\n",
       "      <td>...</td>\n",
       "    </tr>\n",
       "    <tr>\n",
       "      <th>9731</th>\n",
       "      <td>-</td>\n",
       "      <td>-</td>\n",
       "      <td>-</td>\n",
       "    </tr>\n",
       "    <tr>\n",
       "      <th>9732</th>\n",
       "      <td>-</td>\n",
       "      <td>-</td>\n",
       "      <td>-</td>\n",
       "    </tr>\n",
       "    <tr>\n",
       "      <th>9733</th>\n",
       "      <td>-</td>\n",
       "      <td>-</td>\n",
       "      <td>-</td>\n",
       "    </tr>\n",
       "    <tr>\n",
       "      <th>9734</th>\n",
       "      <td>-</td>\n",
       "      <td>-</td>\n",
       "      <td>-</td>\n",
       "    </tr>\n",
       "    <tr>\n",
       "      <th>9735</th>\n",
       "      <td>-</td>\n",
       "      <td>-</td>\n",
       "      <td>-</td>\n",
       "    </tr>\n",
       "  </tbody>\n",
       "</table>\n",
       "<p>9736 rows × 3 columns</p>\n",
       "</div>"
      ]
     },
     "execution_count": 4,
     "metadata": {},
     "output_type": "execute_result"
    }
   ],
   "execution_count": 4
  },
  {
   "cell_type": "markdown",
   "source": [
    "### 1.1清洗数据[利用DatasetCreator4MutTm]"
   ],
   "metadata": {
    "collapsed": false
   },
   "id": "415c9b7eb476d301"
  },
  {
   "cell_type": "code",
   "source": [
    "ProThermDB, ProThermDB_washed = wash4MutTm(ProThermDB, avg_filling=False, focus_columns=columns)\n",
    "ProThermDB_washed"
   ],
   "metadata": {
    "collapsed": false,
    "ExecuteTime": {
     "end_time": "2024-07-23T03:48:48.866644Z",
     "start_time": "2024-07-23T03:48:48.608745Z"
    }
   },
   "id": "e89f6ab12f4c0de9",
   "outputs": [
    {
     "name": "stdout",
     "output_type": "stream",
     "text": [
      "-删除数据缺失行及非法行共计4501行\n",
      "-丢弃pH/Tm的缺失值\n"
     ]
    },
    {
     "data": {
      "text/plain": [
       "     UniProt_ID                  Mutation ΔTm\n",
       "10       S4WCF9  V571L (Based on UniProt)   -\n",
       "11       S4WCF9  V571L (Based on UniProt)   -\n",
       "12       S4WCF9  T586I (Based on UniProt)   -\n",
       "13       S4WCF9  L558S (Based on UniProt)   -\n",
       "14       S4WCF9  L558S (Based on UniProt)   -\n",
       "...         ...                       ...  ..\n",
       "9731          -                         -   -\n",
       "9732          -                         -   -\n",
       "9733          -                         -   -\n",
       "9734          -                         -   -\n",
       "9735          -                         -   -\n",
       "\n",
       "[4501 rows x 3 columns]"
      ],
      "text/html": [
       "<div>\n",
       "<style scoped>\n",
       "    .dataframe tbody tr th:only-of-type {\n",
       "        vertical-align: middle;\n",
       "    }\n",
       "\n",
       "    .dataframe tbody tr th {\n",
       "        vertical-align: top;\n",
       "    }\n",
       "\n",
       "    .dataframe thead th {\n",
       "        text-align: right;\n",
       "    }\n",
       "</style>\n",
       "<table border=\"1\" class=\"dataframe\">\n",
       "  <thead>\n",
       "    <tr style=\"text-align: right;\">\n",
       "      <th></th>\n",
       "      <th>UniProt_ID</th>\n",
       "      <th>Mutation</th>\n",
       "      <th>ΔTm</th>\n",
       "    </tr>\n",
       "  </thead>\n",
       "  <tbody>\n",
       "    <tr>\n",
       "      <th>10</th>\n",
       "      <td>S4WCF9</td>\n",
       "      <td>V571L (Based on UniProt)</td>\n",
       "      <td>-</td>\n",
       "    </tr>\n",
       "    <tr>\n",
       "      <th>11</th>\n",
       "      <td>S4WCF9</td>\n",
       "      <td>V571L (Based on UniProt)</td>\n",
       "      <td>-</td>\n",
       "    </tr>\n",
       "    <tr>\n",
       "      <th>12</th>\n",
       "      <td>S4WCF9</td>\n",
       "      <td>T586I (Based on UniProt)</td>\n",
       "      <td>-</td>\n",
       "    </tr>\n",
       "    <tr>\n",
       "      <th>13</th>\n",
       "      <td>S4WCF9</td>\n",
       "      <td>L558S (Based on UniProt)</td>\n",
       "      <td>-</td>\n",
       "    </tr>\n",
       "    <tr>\n",
       "      <th>14</th>\n",
       "      <td>S4WCF9</td>\n",
       "      <td>L558S (Based on UniProt)</td>\n",
       "      <td>-</td>\n",
       "    </tr>\n",
       "    <tr>\n",
       "      <th>...</th>\n",
       "      <td>...</td>\n",
       "      <td>...</td>\n",
       "      <td>...</td>\n",
       "    </tr>\n",
       "    <tr>\n",
       "      <th>9731</th>\n",
       "      <td>-</td>\n",
       "      <td>-</td>\n",
       "      <td>-</td>\n",
       "    </tr>\n",
       "    <tr>\n",
       "      <th>9732</th>\n",
       "      <td>-</td>\n",
       "      <td>-</td>\n",
       "      <td>-</td>\n",
       "    </tr>\n",
       "    <tr>\n",
       "      <th>9733</th>\n",
       "      <td>-</td>\n",
       "      <td>-</td>\n",
       "      <td>-</td>\n",
       "    </tr>\n",
       "    <tr>\n",
       "      <th>9734</th>\n",
       "      <td>-</td>\n",
       "      <td>-</td>\n",
       "      <td>-</td>\n",
       "    </tr>\n",
       "    <tr>\n",
       "      <th>9735</th>\n",
       "      <td>-</td>\n",
       "      <td>-</td>\n",
       "      <td>-</td>\n",
       "    </tr>\n",
       "  </tbody>\n",
       "</table>\n",
       "<p>4501 rows × 3 columns</p>\n",
       "</div>"
      ]
     },
     "execution_count": 5,
     "metadata": {},
     "output_type": "execute_result"
    }
   ],
   "execution_count": 5
  },
  {
   "metadata": {},
   "cell_type": "markdown",
   "source": [
    "### 1.2.数据集检查(PDB=>UniProt)\n",
    "检查当前数据集下有多少PDBID可以唯一映射到UniProtID"
   ],
   "id": "c9faca1a38e46"
  },
  {
   "metadata": {
    "ExecuteTime": {
     "end_time": "2024-07-23T03:48:49.267266Z",
     "start_time": "2024-07-23T03:48:48.867642Z"
    }
   },
   "cell_type": "code",
   "source": "ProThermDB_UniPDB = unipdb_getter(ProThermDB_file_path)",
   "id": "cee8757a15409a07",
   "outputs": [
    {
     "name": "stdout",
     "output_type": "stream",
     "text": [
      "-删除数据缺失行及非法行共计4734行\n",
      "-丢弃pH/Tm的缺失值\n",
      "-该数据集中仅有 3204 / 5002 的数据可以再在此数据集背景下唯一映射PDB_ID\n"
     ]
    }
   ],
   "execution_count": 6
  },
  {
   "cell_type": "markdown",
   "source": [
    "### 1.2.检测是否存在多测量值"
   ],
   "metadata": {
    "collapsed": false
   },
   "id": "e60cea17a32897d5"
  },
  {
   "cell_type": "code",
   "source": [
    "ProThermDB_mult_cnt, ProThermDB_mult_index = check4mult(ProThermDB, columns)\n",
    "ProThermDB_multiple_deltaTm = ProThermDB.iloc[ProThermDB_mult_index, :]\n",
    "print(f\"ProThermDB数据库中存在{ProThermDB_mult_cnt}条多测量值\")"
   ],
   "metadata": {
    "collapsed": false,
    "ExecuteTime": {
     "end_time": "2024-07-23T03:48:49.271278Z",
     "start_time": "2024-07-23T03:48:49.267266Z"
    }
   },
   "id": "a341b67ce9693caa",
   "outputs": [
    {
     "name": "stdout",
     "output_type": "stream",
     "text": [
      "ProThermDB数据库中存在3050条多测量值\n"
     ]
    }
   ],
   "execution_count": 7
  },
  {
   "cell_type": "markdown",
   "source": [
    "### 1.3.针对多测量值进行处理"
   ],
   "metadata": {
    "collapsed": false
   },
   "id": "506bf677a6e75f7d"
  },
  {
   "cell_type": "code",
   "source": [
    "del_ProThermDB = duplicate4MutTm(ProThermDB, mode=\"Delete\", focus_columns=columns).reset_index(drop=True)\n",
    "avg_ProThermDB = duplicate4MutTm(ProThermDB, mode=\"Average\", focus_columns=columns).reset_index(drop=True)\n",
    "avg_ProThermDB"
   ],
   "metadata": {
    "collapsed": false,
    "ExecuteTime": {
     "end_time": "2024-07-23T03:48:49.352259Z",
     "start_time": "2024-07-23T03:48:49.271278Z"
    }
   },
   "id": "7e42624c104e2e03",
   "outputs": [
    {
     "data": {
      "text/plain": [
       "      UniProt_ID Mutation    ΔTm\n",
       "0     A0A060GYS1     H22R    9.9\n",
       "1     A0A060GYS1    P224R    2.3\n",
       "2     A0A410ZNC6    A341S    3.6\n",
       "3     A0A410ZNC6    F184L    1.0\n",
       "4     A0A410ZNC6    P250L    4.5\n",
       "...          ...      ...    ...\n",
       "3408      R9S082     T68A   -0.5\n",
       "3409      R9S082    V115A   -2.9\n",
       "3410      R9S082     V14A   -1.3\n",
       "3411      R9S082     V67A    1.4\n",
       "3412      W0TJ64    S176A  78.74\n",
       "\n",
       "[3413 rows x 3 columns]"
      ],
      "text/html": [
       "<div>\n",
       "<style scoped>\n",
       "    .dataframe tbody tr th:only-of-type {\n",
       "        vertical-align: middle;\n",
       "    }\n",
       "\n",
       "    .dataframe tbody tr th {\n",
       "        vertical-align: top;\n",
       "    }\n",
       "\n",
       "    .dataframe thead th {\n",
       "        text-align: right;\n",
       "    }\n",
       "</style>\n",
       "<table border=\"1\" class=\"dataframe\">\n",
       "  <thead>\n",
       "    <tr style=\"text-align: right;\">\n",
       "      <th></th>\n",
       "      <th>UniProt_ID</th>\n",
       "      <th>Mutation</th>\n",
       "      <th>ΔTm</th>\n",
       "    </tr>\n",
       "  </thead>\n",
       "  <tbody>\n",
       "    <tr>\n",
       "      <th>0</th>\n",
       "      <td>A0A060GYS1</td>\n",
       "      <td>H22R</td>\n",
       "      <td>9.9</td>\n",
       "    </tr>\n",
       "    <tr>\n",
       "      <th>1</th>\n",
       "      <td>A0A060GYS1</td>\n",
       "      <td>P224R</td>\n",
       "      <td>2.3</td>\n",
       "    </tr>\n",
       "    <tr>\n",
       "      <th>2</th>\n",
       "      <td>A0A410ZNC6</td>\n",
       "      <td>A341S</td>\n",
       "      <td>3.6</td>\n",
       "    </tr>\n",
       "    <tr>\n",
       "      <th>3</th>\n",
       "      <td>A0A410ZNC6</td>\n",
       "      <td>F184L</td>\n",
       "      <td>1.0</td>\n",
       "    </tr>\n",
       "    <tr>\n",
       "      <th>4</th>\n",
       "      <td>A0A410ZNC6</td>\n",
       "      <td>P250L</td>\n",
       "      <td>4.5</td>\n",
       "    </tr>\n",
       "    <tr>\n",
       "      <th>...</th>\n",
       "      <td>...</td>\n",
       "      <td>...</td>\n",
       "      <td>...</td>\n",
       "    </tr>\n",
       "    <tr>\n",
       "      <th>3408</th>\n",
       "      <td>R9S082</td>\n",
       "      <td>T68A</td>\n",
       "      <td>-0.5</td>\n",
       "    </tr>\n",
       "    <tr>\n",
       "      <th>3409</th>\n",
       "      <td>R9S082</td>\n",
       "      <td>V115A</td>\n",
       "      <td>-2.9</td>\n",
       "    </tr>\n",
       "    <tr>\n",
       "      <th>3410</th>\n",
       "      <td>R9S082</td>\n",
       "      <td>V14A</td>\n",
       "      <td>-1.3</td>\n",
       "    </tr>\n",
       "    <tr>\n",
       "      <th>3411</th>\n",
       "      <td>R9S082</td>\n",
       "      <td>V67A</td>\n",
       "      <td>1.4</td>\n",
       "    </tr>\n",
       "    <tr>\n",
       "      <th>3412</th>\n",
       "      <td>W0TJ64</td>\n",
       "      <td>S176A</td>\n",
       "      <td>78.74</td>\n",
       "    </tr>\n",
       "  </tbody>\n",
       "</table>\n",
       "<p>3413 rows × 3 columns</p>\n",
       "</div>"
      ]
     },
     "execution_count": 8,
     "metadata": {},
     "output_type": "execute_result"
    }
   ],
   "execution_count": 8
  },
  {
   "cell_type": "markdown",
   "source": [
    "### 1.4.绘制ProThermDB分布图"
   ],
   "metadata": {
    "collapsed": false
   },
   "id": "1e20a9769f17e3d4"
  },
  {
   "cell_type": "code",
   "source": [
    "plt.figure(figsize=(15, 7.5), dpi=100, facecolor=\"white\", edgecolor=\"black\")\n",
    "plt.hist(avg_ProThermDB[\"ΔTm\"].astype(float).sort_values(),\n",
    "         bins=100,\n",
    "         color=\"yellowgreen\",\n",
    "         range=(-50, 50))\n",
    "plt.xlabel(\"ΔTm\", size=18)\n",
    "plt.gca().xaxis.set_major_locator(ticker.MultipleLocator(10))\n",
    "\n",
    "# 标题与坐标轴标签\n",
    "plt.title(\"ΔTm-frequency-in-ProthermDB-Common-averaged\",\n",
    "          loc=\"center\",\n",
    "          fontdict={\"family\" : \"Times New Roman\",\n",
    "                    \"size\" : 24,\n",
    "                    \"weight\" : \"bold\"})\n",
    "plt.xlabel(\"ΔTm\", fontdict={\"family\" : \"Times New Roman\", \"size\" : 25, \"weight\" : \"normal\"})\n",
    "plt.ylabel(\"frequency\", fontdict={\"family\" : \"Times New Roman\", \"size\" : 25, \"weight\" : \"normal\"})\n",
    "\n",
    "plt.xticks(size=12)\n",
    "plt.yticks(size=12)\n",
    "plt.rcParams[\"axes.facecolor\"] = \"white\"\n",
    "plt.grid()\n",
    "plt.show()"
   ],
   "metadata": {
    "collapsed": false
   },
   "id": "a491fd7bc45339c7",
   "outputs": [
    {
     "data": {
      "text/plain": [
       "<Figure size 1500x750 with 1 Axes>"
      ],
      "image/png": "[encoded data removed]"
     },
     "metadata": {},
     "output_type": "display_data"
    }
   ],
   "execution_count": 9
  },
  {
   "cell_type": "code",
   "source": [
    "plt.figure(figsize=(15, 7.5), dpi=100)\n",
    "plt.hist(del_ProThermDB[\"ΔTm\"].astype(float).sort_values(),\n",
    "         bins=100,\n",
    "         color=\"yellowgreen\",\n",
    "         range=(-50, 50))\n",
    "plt.xlabel(\"ΔTm\", size=18)\n",
    "plt.gca().xaxis.set_major_locator(ticker.MultipleLocator(10))\n",
    "\n",
    "# 标题与坐标轴标签\n",
    "plt.title(\"ΔTm-frequency-in-ProthermDB-single-with-nothing-deleted\",\n",
    "          loc=\"center\",\n",
    "          fontdict={\"family\" : \"Times New Roman\",\n",
    "                    \"size\" : 24,\n",
    "                    \"weight\" : \"bold\"})\n",
    "plt.xlabel(\"ΔTm\", fontdict={\"family\" : \"Times New Roman\", \"size\" : 20, \"weight\" : \"normal\"})\n",
    "plt.ylabel(\"frequency\", fontdict={\"family\" : \"Times New Roman\", \"size\" : 20, \"weight\" : \"normal\"})\n",
    "\n",
    "plt.xticks(size=12)\n",
    "plt.yticks(size=12)\n",
    "plt.rcParams[\"axes.facecolor\"] = \"white\"\n",
    "plt.grid()\n",
    "plt.show()"
   ],
   "metadata": {
    "collapsed": false,
    "ExecuteTime": {
     "end_time": "2024-07-23T03:48:49.592564Z",
     "start_time": "2024-07-23T03:48:49.478552Z"
    }
   },
   "id": "821cbe1c018c5196",
   "outputs": [
    {
     "data": {
      "text/plain": [
       "<Figure size 1500x750 with 1 Axes>"
      ],
      "image/png": "[encoded data removed]"
     },
     "metadata": {},
     "output_type": "display_data"
    }
   ],
   "execution_count": 10
  },
  {
   "cell_type": "markdown",
   "source": [
    "## 2.MPTherm-pred"
   ],
   "metadata": {
    "collapsed": false
   },
   "id": "2c4d813cceb335ce"
  },
  {
   "cell_type": "code",
   "id": "33bcb055af63f6ae",
   "metadata": {
    "collapsed": false,
    "ExecuteTime": {
     "end_time": "2024-07-23T03:48:49.602312Z",
     "start_time": "2024-07-23T03:48:49.592564Z"
    }
   },
   "source": [
    "MPTherm_pred = pd.read_csv(\"BasicData/InitializationDataset/MPTherm-pred.tsv\", sep=\"\\t\")[columns + [\"ΔTm\", \"Dataset type\"]]\n",
    "MPTherm_pred.sort_values(by=columns, inplace=True, ascending=False)\n",
    "MPTherm_pred"
   ],
   "outputs": [
    {
     "data": {
      "text/plain": [
       "     UniProt_ID Mutation   ΔTm Dataset type\n",
       "485      W8VZW3     Y83A  -2.0  Training/CV\n",
       "484      W8VZW3     W72A  -3.0  Training/CV\n",
       "483      W8VZW3     F15A   0.0  Training/CV\n",
       "704      Q9X1G6    Y130G  -9.2  Training/CV\n",
       "703      Q9X1G6    Y130F  -3.5  Training/CV\n",
       "..          ...      ...   ...          ...\n",
       "660  A0A140NCX4    L425A  -6.8  Training/CV\n",
       "55   A0A140NCX4     G69W -23.1  Training/CV\n",
       "622  A0A140NCX4     G51W  -3.5  Training/CV\n",
       "452  A0A140NCX4     D73R -20.0  Training/CV\n",
       "621  A0A140NCX4    D126R -13.0  Training/CV\n",
       "\n",
       "[929 rows x 4 columns]"
      ],
      "text/html": [
       "<div>\n",
       "<style scoped>\n",
       "    .dataframe tbody tr th:only-of-type {\n",
       "        vertical-align: middle;\n",
       "    }\n",
       "\n",
       "    .dataframe tbody tr th {\n",
       "        vertical-align: top;\n",
       "    }\n",
       "\n",
       "    .dataframe thead th {\n",
       "        text-align: right;\n",
       "    }\n",
       "</style>\n",
       "<table border=\"1\" class=\"dataframe\">\n",
       "  <thead>\n",
       "    <tr style=\"text-align: right;\">\n",
       "      <th></th>\n",
       "      <th>UniProt_ID</th>\n",
       "      <th>Mutation</th>\n",
       "      <th>ΔTm</th>\n",
       "      <th>Dataset type</th>\n",
       "    </tr>\n",
       "  </thead>\n",
       "  <tbody>\n",
       "    <tr>\n",
       "      <th>485</th>\n",
       "      <td>W8VZW3</td>\n",
       "      <td>Y83A</td>\n",
       "      <td>-2.0</td>\n",
       "      <td>Training/CV</td>\n",
       "    </tr>\n",
       "    <tr>\n",
       "      <th>484</th>\n",
       "      <td>W8VZW3</td>\n",
       "      <td>W72A</td>\n",
       "      <td>-3.0</td>\n",
       "      <td>Training/CV</td>\n",
       "    </tr>\n",
       "    <tr>\n",
       "      <th>483</th>\n",
       "      <td>W8VZW3</td>\n",
       "      <td>F15A</td>\n",
       "      <td>0.0</td>\n",
       "      <td>Training/CV</td>\n",
       "    </tr>\n",
       "    <tr>\n",
       "      <th>704</th>\n",
       "      <td>Q9X1G6</td>\n",
       "      <td>Y130G</td>\n",
       "      <td>-9.2</td>\n",
       "      <td>Training/CV</td>\n",
       "    </tr>\n",
       "    <tr>\n",
       "      <th>703</th>\n",
       "      <td>Q9X1G6</td>\n",
       "      <td>Y130F</td>\n",
       "      <td>-3.5</td>\n",
       "      <td>Training/CV</td>\n",
       "    </tr>\n",
       "    <tr>\n",
       "      <th>...</th>\n",
       "      <td>...</td>\n",
       "      <td>...</td>\n",
       "      <td>...</td>\n",
       "      <td>...</td>\n",
       "    </tr>\n",
       "    <tr>\n",
       "      <th>660</th>\n",
       "      <td>A0A140NCX4</td>\n",
       "      <td>L425A</td>\n",
       "      <td>-6.8</td>\n",
       "      <td>Training/CV</td>\n",
       "    </tr>\n",
       "    <tr>\n",
       "      <th>55</th>\n",
       "      <td>A0A140NCX4</td>\n",
       "      <td>G69W</td>\n",
       "      <td>-23.1</td>\n",
       "      <td>Training/CV</td>\n",
       "    </tr>\n",
       "    <tr>\n",
       "      <th>622</th>\n",
       "      <td>A0A140NCX4</td>\n",
       "      <td>G51W</td>\n",
       "      <td>-3.5</td>\n",
       "      <td>Training/CV</td>\n",
       "    </tr>\n",
       "    <tr>\n",
       "      <th>452</th>\n",
       "      <td>A0A140NCX4</td>\n",
       "      <td>D73R</td>\n",
       "      <td>-20.0</td>\n",
       "      <td>Training/CV</td>\n",
       "    </tr>\n",
       "    <tr>\n",
       "      <th>621</th>\n",
       "      <td>A0A140NCX4</td>\n",
       "      <td>D126R</td>\n",
       "      <td>-13.0</td>\n",
       "      <td>Training/CV</td>\n",
       "    </tr>\n",
       "  </tbody>\n",
       "</table>\n",
       "<p>929 rows × 4 columns</p>\n",
       "</div>"
      ]
     },
     "execution_count": 11,
     "metadata": {},
     "output_type": "execute_result"
    }
   ],
   "execution_count": 11
  },
  {
   "cell_type": "markdown",
   "id": "6c37c102a1e065a1",
   "metadata": {
    "collapsed": false
   },
   "source": "### 2.1.MPTherm-pred 已经对多测量值数据进行了平均化，因此不存在多测量值数据"
  },
  {
   "cell_type": "code",
   "id": "74d13cda7e18df68",
   "metadata": {
    "collapsed": false,
    "ExecuteTime": {
     "end_time": "2024-07-23T03:48:49.606321Z",
     "start_time": "2024-07-23T03:48:49.602312Z"
    }
   },
   "source": [
    "MPTherm_pred_mult_cnt, MPTherm_pred_mult_index = check4mult(MPTherm_pred, columns)\n",
    "MPTherm_pred_multiple_deltaTm = MPTherm_pred.iloc[MPTherm_pred_mult_index, :]\n",
    "MPTherm_pred_mult_cnt"
   ],
   "outputs": [
    {
     "data": {
      "text/plain": [
       "0"
      ]
     },
     "execution_count": 12,
     "metadata": {},
     "output_type": "execute_result"
    }
   ],
   "execution_count": 12
  },
  {
   "cell_type": "markdown",
   "id": "e41eeb4551ef473f",
   "metadata": {
    "collapsed": false
   },
   "source": "### 2.2.分离MPTherm-pred测试集与训练集"
  },
  {
   "cell_type": "code",
   "id": "7615a0f56055884d",
   "metadata": {
    "collapsed": false,
    "ExecuteTime": {
     "end_time": "2024-07-23T03:48:49.610499Z",
     "start_time": "2024-07-23T03:48:49.606321Z"
    }
   },
   "source": [
    "MPTherm_pred_Testing = MPTherm_pred[MPTherm_pred[\"Dataset type\"].str.contains(\"Test\")][columns + [\"ΔTm\"]]\n",
    "MPTherm_pred_Training = MPTherm_pred[MPTherm_pred[\"Dataset type\"].str.contains(\"Training\")][columns + [\"ΔTm\"]]\n",
    "# MPTherm_pred_Testing.to_csv(\"BasicData/MPTherm-pred/MPTherm-pred_Testing.csv\", index=False)\n",
    "# MPTherm_pred_Training.to_csv(\"BasicData/MPTherm-pred/MPTherm-pred_Training.csv\", index=False)"
   ],
   "outputs": [],
   "execution_count": 13
  },
  {
   "cell_type": "markdown",
   "source": "### 2.3绘制测试集与训练集的ΔTm分布",
   "metadata": {
    "collapsed": false
   },
   "id": "63c752fbbcc044"
  },
  {
   "cell_type": "code",
   "source": [
    "plt.figure(figsize=(15, 7.5), dpi=100)\n",
    "plt.hist(MPTherm_pred_Training[\"ΔTm\"].astype(float).sort_values(),\n",
    "         bins=100,\n",
    "         color=\"yellowgreen\",\n",
    "         range=(-50, 50))\n",
    "plt.xlabel(\"ΔTm\", size=18)\n",
    "plt.gca().xaxis.set_major_locator(ticker.MultipleLocator(10))\n",
    "\n",
    "# 标题与坐标轴标签\n",
    "plt.title(\"ΔTm-frequency-in-MPTherm-pred-TrainingSet\",\n",
    "          loc=\"center\",\n",
    "          fontdict={\"family\" : \"Times New Roman\",\n",
    "                    \"size\" : 24,\n",
    "                    \"weight\" : \"bold\"})\n",
    "plt.xlabel(\"ΔTm\", fontdict={\"family\" : \"Times New Roman\", \"size\" : 20, \"weight\" : \"normal\"})\n",
    "plt.ylabel(\"frequency\", fontdict={\"family\" : \"Times New Roman\", \"size\" : 20, \"weight\" : \"normal\"})\n",
    "\n",
    "plt.xticks(size=12)\n",
    "plt.yticks(size=12)\n",
    "plt.rcParams[\"axes.facecolor\"] = \"white\"\n",
    "plt.grid()\n",
    "# plt.savefig(\"SavedPicture/MPTherm-pred/ΔTm-frequency-in-MPTherm-pred-TrainingSet-with-nothing.png\", dpi=100)\n",
    "plt.show()"
   ],
   "metadata": {
    "collapsed": false,
    "ExecuteTime": {
     "end_time": "2024-07-23T03:48:49.723013Z",
     "start_time": "2024-07-23T03:48:49.610499Z"
    }
   },
   "id": "eb4f0ffb403029b7",
   "outputs": [
    {
     "data": {
      "text/plain": [
       "<Figure size 1500x750 with 1 Axes>"
      ],
      "image/png": "[encoded data removed]"
     },
     "metadata": {},
     "output_type": "display_data"
    }
   ],
   "execution_count": 14
  },
  {
   "cell_type": "code",
   "source": [
    "plt.figure(figsize=(15, 7.5), dpi=100)\n",
    "plt.hist(MPTherm_pred_Testing[\"ΔTm\"].astype(float).sort_values(),\n",
    "         bins=100,\n",
    "         color=\"yellowgreen\",\n",
    "         range=(-50, 50))\n",
    "plt.xlabel(\"ΔTm\", size=18)\n",
    "plt.gca().xaxis.set_major_locator(ticker.MultipleLocator(10))\n",
    "\n",
    "# 标题与坐标轴标签\n",
    "plt.title(\"ΔTm-frequency-in-MPTherm-pred-TestSet\",\n",
    "          loc=\"center\",\n",
    "          fontdict={\"family\" : \"Times New Roman\",\n",
    "                    \"size\" : 24,\n",
    "                    \"weight\" : \"bold\"})\n",
    "plt.xlabel(\"ΔTm\", fontdict={\"family\" : \"Times New Roman\", \"size\" : 20, \"weight\" : \"normal\"})\n",
    "plt.ylabel(\"frequency\", fontdict={\"family\" : \"Times New Roman\", \"size\" : 20, \"weight\" : \"normal\"})\n",
    "\n",
    "plt.xticks(size=12)\n",
    "plt.yticks(size=12)\n",
    "plt.rcParams[\"axes.facecolor\"] = \"white\"\n",
    "plt.grid()\n",
    "# plt.savefig(\"SavedPicture/MPTherm-pred/ΔTm-frequency-in-MPTherm-pred-TestSet-with-no-thing.png\", dpi=100)\n",
    "plt.show()"
   ],
   "metadata": {
    "collapsed": false,
    "ExecuteTime": {
     "end_time": "2024-07-23T03:48:49.836573Z",
     "start_time": "2024-07-23T03:48:49.723013Z"
    }
   },
   "id": "5f068864bd80d36c",
   "outputs": [
    {
     "data": {
      "text/plain": [
       "<Figure size 1500x750 with 1 Axes>"
      ],
      "image/png": "[encoded data removed]"
     },
     "metadata": {},
     "output_type": "display_data"
    }
   ],
   "execution_count": 15
  },
  {
   "cell_type": "markdown",
   "source": "## 3.MPThermDB",
   "metadata": {
    "collapsed": false
   },
   "id": "c6d1020f88e42e06"
  },
  {
   "cell_type": "code",
   "source": [
    "MPThermDB = pd.read_csv(\"BasicData/InitializationDataset/MPThermDB.tsv\", sep=\"\\t\")[columns + [\"ΔTm\"]]\n",
    "MPThermDB.sort_values(by=columns, inplace=True, ascending=False)\n",
    "MPThermDB.reset_index(drop=True, inplace=True)\n",
    "MPThermDB"
   ],
   "metadata": {
    "collapsed": false,
    "ExecuteTime": {
     "end_time": "2024-07-23T03:48:49.851736Z",
     "start_time": "2024-07-23T03:48:49.836573Z"
    }
   },
   "id": "c16576b39423a178",
   "outputs": [
    {
     "data": {
      "text/plain": [
       "      UniProt_ID Mutation  ΔTm\n",
       "0         W8VZW3     Y83A -2.0\n",
       "1         W8VZW3     W72A -3.0\n",
       "2         W8VZW3     F15A  0.0\n",
       "3       Q9Y6R1-2    R298S -5.0\n",
       "4         Q9Y277      C8A  NaN\n",
       "...          ...      ...  ...\n",
       "1862  A0A0E3N843    C557S  0.2\n",
       "1863  A0A0C4MBH9    D404E -6.4\n",
       "1864  A0A0C4MBH9    D404A -7.1\n",
       "1865  A0A0C4MBH9    D146E -5.5\n",
       "1866  A0A0C4MBH9    D146A -5.3\n",
       "\n",
       "[1867 rows x 3 columns]"
      ],
      "text/html": [
       "<div>\n",
       "<style scoped>\n",
       "    .dataframe tbody tr th:only-of-type {\n",
       "        vertical-align: middle;\n",
       "    }\n",
       "\n",
       "    .dataframe tbody tr th {\n",
       "        vertical-align: top;\n",
       "    }\n",
       "\n",
       "    .dataframe thead th {\n",
       "        text-align: right;\n",
       "    }\n",
       "</style>\n",
       "<table border=\"1\" class=\"dataframe\">\n",
       "  <thead>\n",
       "    <tr style=\"text-align: right;\">\n",
       "      <th></th>\n",
       "      <th>UniProt_ID</th>\n",
       "      <th>Mutation</th>\n",
       "      <th>ΔTm</th>\n",
       "    </tr>\n",
       "  </thead>\n",
       "  <tbody>\n",
       "    <tr>\n",
       "      <th>0</th>\n",
       "      <td>W8VZW3</td>\n",
       "      <td>Y83A</td>\n",
       "      <td>-2.0</td>\n",
       "    </tr>\n",
       "    <tr>\n",
       "      <th>1</th>\n",
       "      <td>W8VZW3</td>\n",
       "      <td>W72A</td>\n",
       "      <td>-3.0</td>\n",
       "    </tr>\n",
       "    <tr>\n",
       "      <th>2</th>\n",
       "      <td>W8VZW3</td>\n",
       "      <td>F15A</td>\n",
       "      <td>0.0</td>\n",
       "    </tr>\n",
       "    <tr>\n",
       "      <th>3</th>\n",
       "      <td>Q9Y6R1-2</td>\n",
       "      <td>R298S</td>\n",
       "      <td>-5.0</td>\n",
       "    </tr>\n",
       "    <tr>\n",
       "      <th>4</th>\n",
       "      <td>Q9Y277</td>\n",
       "      <td>C8A</td>\n",
       "      <td>NaN</td>\n",
       "    </tr>\n",
       "    <tr>\n",
       "      <th>...</th>\n",
       "      <td>...</td>\n",
       "      <td>...</td>\n",
       "      <td>...</td>\n",
       "    </tr>\n",
       "    <tr>\n",
       "      <th>1862</th>\n",
       "      <td>A0A0E3N843</td>\n",
       "      <td>C557S</td>\n",
       "      <td>0.2</td>\n",
       "    </tr>\n",
       "    <tr>\n",
       "      <th>1863</th>\n",
       "      <td>A0A0C4MBH9</td>\n",
       "      <td>D404E</td>\n",
       "      <td>-6.4</td>\n",
       "    </tr>\n",
       "    <tr>\n",
       "      <th>1864</th>\n",
       "      <td>A0A0C4MBH9</td>\n",
       "      <td>D404A</td>\n",
       "      <td>-7.1</td>\n",
       "    </tr>\n",
       "    <tr>\n",
       "      <th>1865</th>\n",
       "      <td>A0A0C4MBH9</td>\n",
       "      <td>D146E</td>\n",
       "      <td>-5.5</td>\n",
       "    </tr>\n",
       "    <tr>\n",
       "      <th>1866</th>\n",
       "      <td>A0A0C4MBH9</td>\n",
       "      <td>D146A</td>\n",
       "      <td>-5.3</td>\n",
       "    </tr>\n",
       "  </tbody>\n",
       "</table>\n",
       "<p>1867 rows × 3 columns</p>\n",
       "</div>"
      ]
     },
     "execution_count": 16,
     "metadata": {},
     "output_type": "execute_result"
    }
   ],
   "execution_count": 16
  },
  {
   "cell_type": "markdown",
   "source": [
    "### 3.1.清洗MPThermDB中的非法数据"
   ],
   "metadata": {
    "collapsed": false
   },
   "id": "2a9ad44eb9f385a0"
  },
  {
   "cell_type": "code",
   "source": [
    "MPThermDB, MPThermDb_washed = wash4MutTm(MPThermDB, avg_filling=False, focus_columns=columns)\n",
    "MPThermDB"
   ],
   "metadata": {
    "collapsed": false,
    "ExecuteTime": {
     "end_time": "2024-07-23T03:48:49.908721Z",
     "start_time": "2024-07-23T03:48:49.851736Z"
    }
   },
   "id": "b137b649e5d63736",
   "outputs": [
    {
     "name": "stdout",
     "output_type": "stream",
     "text": [
      "-删除数据缺失行及非法行共计117行\n",
      "-丢弃pH/Tm的缺失值\n"
     ]
    },
    {
     "data": {
      "text/plain": [
       "      UniProt_ID Mutation  ΔTm\n",
       "0         W8VZW3     Y83A -2.0\n",
       "1         W8VZW3     W72A -3.0\n",
       "2         W8VZW3     F15A  0.0\n",
       "3       Q9Y6R1-2    R298S -5.0\n",
       "4         Q9Y277      C8A  1.7\n",
       "...          ...      ...  ...\n",
       "1745  A0A0E3N843    C557S  0.2\n",
       "1746  A0A0C4MBH9    D404E -6.4\n",
       "1747  A0A0C4MBH9    D404A -7.1\n",
       "1748  A0A0C4MBH9    D146E -5.5\n",
       "1749  A0A0C4MBH9    D146A -5.3\n",
       "\n",
       "[1750 rows x 3 columns]"
      ],
      "text/html": [
       "<div>\n",
       "<style scoped>\n",
       "    .dataframe tbody tr th:only-of-type {\n",
       "        vertical-align: middle;\n",
       "    }\n",
       "\n",
       "    .dataframe tbody tr th {\n",
       "        vertical-align: top;\n",
       "    }\n",
       "\n",
       "    .dataframe thead th {\n",
       "        text-align: right;\n",
       "    }\n",
       "</style>\n",
       "<table border=\"1\" class=\"dataframe\">\n",
       "  <thead>\n",
       "    <tr style=\"text-align: right;\">\n",
       "      <th></th>\n",
       "      <th>UniProt_ID</th>\n",
       "      <th>Mutation</th>\n",
       "      <th>ΔTm</th>\n",
       "    </tr>\n",
       "  </thead>\n",
       "  <tbody>\n",
       "    <tr>\n",
       "      <th>0</th>\n",
       "      <td>W8VZW3</td>\n",
       "      <td>Y83A</td>\n",
       "      <td>-2.0</td>\n",
       "    </tr>\n",
       "    <tr>\n",
       "      <th>1</th>\n",
       "      <td>W8VZW3</td>\n",
       "      <td>W72A</td>\n",
       "      <td>-3.0</td>\n",
       "    </tr>\n",
       "    <tr>\n",
       "      <th>2</th>\n",
       "      <td>W8VZW3</td>\n",
       "      <td>F15A</td>\n",
       "      <td>0.0</td>\n",
       "    </tr>\n",
       "    <tr>\n",
       "      <th>3</th>\n",
       "      <td>Q9Y6R1-2</td>\n",
       "      <td>R298S</td>\n",
       "      <td>-5.0</td>\n",
       "    </tr>\n",
       "    <tr>\n",
       "      <th>4</th>\n",
       "      <td>Q9Y277</td>\n",
       "      <td>C8A</td>\n",
       "      <td>1.7</td>\n",
       "    </tr>\n",
       "    <tr>\n",
       "      <th>...</th>\n",
       "      <td>...</td>\n",
       "      <td>...</td>\n",
       "      <td>...</td>\n",
       "    </tr>\n",
       "    <tr>\n",
       "      <th>1745</th>\n",
       "      <td>A0A0E3N843</td>\n",
       "      <td>C557S</td>\n",
       "      <td>0.2</td>\n",
       "    </tr>\n",
       "    <tr>\n",
       "      <th>1746</th>\n",
       "      <td>A0A0C4MBH9</td>\n",
       "      <td>D404E</td>\n",
       "      <td>-6.4</td>\n",
       "    </tr>\n",
       "    <tr>\n",
       "      <th>1747</th>\n",
       "      <td>A0A0C4MBH9</td>\n",
       "      <td>D404A</td>\n",
       "      <td>-7.1</td>\n",
       "    </tr>\n",
       "    <tr>\n",
       "      <th>1748</th>\n",
       "      <td>A0A0C4MBH9</td>\n",
       "      <td>D146E</td>\n",
       "      <td>-5.5</td>\n",
       "    </tr>\n",
       "    <tr>\n",
       "      <th>1749</th>\n",
       "      <td>A0A0C4MBH9</td>\n",
       "      <td>D146A</td>\n",
       "      <td>-5.3</td>\n",
       "    </tr>\n",
       "  </tbody>\n",
       "</table>\n",
       "<p>1750 rows × 3 columns</p>\n",
       "</div>"
      ]
     },
     "execution_count": 17,
     "metadata": {},
     "output_type": "execute_result"
    }
   ],
   "execution_count": 17
  },
  {
   "cell_type": "markdown",
   "source": [
    "### 3.2.检测是否存在多测量值"
   ],
   "metadata": {
    "collapsed": false
   },
   "id": "3af598a6ae740f16"
  },
  {
   "cell_type": "code",
   "source": [
    "MPThermDB_mult_cnt, MPThermDB_mult_index = check4mult(MPThermDB, columns)\n",
    "MPThermDB_multiple_deltaTm = MPThermDB.iloc[MPThermDB_mult_index, :]\n",
    "print(f\"MPThermDB数据库中存在{MPThermDB_mult_cnt}条多测量值\")\n",
    "MPThermDB_multiple_deltaTm"
   ],
   "metadata": {
    "collapsed": false,
    "ExecuteTime": {
     "end_time": "2024-07-23T03:48:49.916324Z",
     "start_time": "2024-07-23T03:48:49.910719Z"
    }
   },
   "id": "6e0204cfab3df6d7",
   "outputs": [
    {
     "name": "stdout",
     "output_type": "stream",
     "text": [
      "MPThermDB数据库中存在897条多测量值\n"
     ]
    },
    {
     "data": {
      "text/plain": [
       "      UniProt_ID Mutation   ΔTm\n",
       "41        Q97UY8    G144A   0.3\n",
       "42        Q97UY8    G144A   1.0\n",
       "43        Q97UY8    G144A  -0.9\n",
       "44        Q97UY8    G144A   0.6\n",
       "45        Q97UY8    G144A   0.6\n",
       "...          ...      ...   ...\n",
       "1741  A0A0E3N843    C557S   3.0\n",
       "1742  A0A0E3N843    C557S   1.1\n",
       "1743  A0A0E3N843    C557S   2.9\n",
       "1744  A0A0E3N843    C557S  11.8\n",
       "1745  A0A0E3N843    C557S   0.2\n",
       "\n",
       "[897 rows x 3 columns]"
      ],
      "text/html": [
       "<div>\n",
       "<style scoped>\n",
       "    .dataframe tbody tr th:only-of-type {\n",
       "        vertical-align: middle;\n",
       "    }\n",
       "\n",
       "    .dataframe tbody tr th {\n",
       "        vertical-align: top;\n",
       "    }\n",
       "\n",
       "    .dataframe thead th {\n",
       "        text-align: right;\n",
       "    }\n",
       "</style>\n",
       "<table border=\"1\" class=\"dataframe\">\n",
       "  <thead>\n",
       "    <tr style=\"text-align: right;\">\n",
       "      <th></th>\n",
       "      <th>UniProt_ID</th>\n",
       "      <th>Mutation</th>\n",
       "      <th>ΔTm</th>\n",
       "    </tr>\n",
       "  </thead>\n",
       "  <tbody>\n",
       "    <tr>\n",
       "      <th>41</th>\n",
       "      <td>Q97UY8</td>\n",
       "      <td>G144A</td>\n",
       "      <td>0.3</td>\n",
       "    </tr>\n",
       "    <tr>\n",
       "      <th>42</th>\n",
       "      <td>Q97UY8</td>\n",
       "      <td>G144A</td>\n",
       "      <td>1.0</td>\n",
       "    </tr>\n",
       "    <tr>\n",
       "      <th>43</th>\n",
       "      <td>Q97UY8</td>\n",
       "      <td>G144A</td>\n",
       "      <td>-0.9</td>\n",
       "    </tr>\n",
       "    <tr>\n",
       "      <th>44</th>\n",
       "      <td>Q97UY8</td>\n",
       "      <td>G144A</td>\n",
       "      <td>0.6</td>\n",
       "    </tr>\n",
       "    <tr>\n",
       "      <th>45</th>\n",
       "      <td>Q97UY8</td>\n",
       "      <td>G144A</td>\n",
       "      <td>0.6</td>\n",
       "    </tr>\n",
       "    <tr>\n",
       "      <th>...</th>\n",
       "      <td>...</td>\n",
       "      <td>...</td>\n",
       "      <td>...</td>\n",
       "    </tr>\n",
       "    <tr>\n",
       "      <th>1741</th>\n",
       "      <td>A0A0E3N843</td>\n",
       "      <td>C557S</td>\n",
       "      <td>3.0</td>\n",
       "    </tr>\n",
       "    <tr>\n",
       "      <th>1742</th>\n",
       "      <td>A0A0E3N843</td>\n",
       "      <td>C557S</td>\n",
       "      <td>1.1</td>\n",
       "    </tr>\n",
       "    <tr>\n",
       "      <th>1743</th>\n",
       "      <td>A0A0E3N843</td>\n",
       "      <td>C557S</td>\n",
       "      <td>2.9</td>\n",
       "    </tr>\n",
       "    <tr>\n",
       "      <th>1744</th>\n",
       "      <td>A0A0E3N843</td>\n",
       "      <td>C557S</td>\n",
       "      <td>11.8</td>\n",
       "    </tr>\n",
       "    <tr>\n",
       "      <th>1745</th>\n",
       "      <td>A0A0E3N843</td>\n",
       "      <td>C557S</td>\n",
       "      <td>0.2</td>\n",
       "    </tr>\n",
       "  </tbody>\n",
       "</table>\n",
       "<p>897 rows × 3 columns</p>\n",
       "</div>"
      ]
     },
     "execution_count": 18,
     "metadata": {},
     "output_type": "execute_result"
    }
   ],
   "execution_count": 18
  },
  {
   "cell_type": "markdown",
   "source": [
    "### 3.2.1.删除所有多测量值"
   ],
   "metadata": {
    "collapsed": false
   },
   "id": "aac85caf68defa6"
  },
  {
   "cell_type": "markdown",
   "source": [
    "### 3.2.2.平均所有多测量值"
   ],
   "metadata": {
    "collapsed": false
   },
   "id": "44d971aabb129a32"
  },
  {
   "cell_type": "code",
   "source": [
    "del_MPThermDB = duplicate4MutTm(MPThermDB, mode=\"Delete\", focus_columns=columns).reset_index(drop=True)\n",
    "avg_MPThermDB = duplicate4MutTm(MPThermDB, mode=\"Average\", focus_columns=columns).reset_index(drop=True)\n",
    "avg_MPThermDB"
   ],
   "metadata": {
    "collapsed": false,
    "ExecuteTime": {
     "end_time": "2024-07-23T03:48:49.924241Z",
     "start_time": "2024-07-23T03:48:49.916324Z"
    }
   },
   "id": "99bfb6df6b9f1d1a",
   "outputs": [
    {
     "data": {
      "text/plain": [
       "      UniProt_ID Mutation  ΔTm\n",
       "0     A0A0C4MBH9    D146A -5.3\n",
       "1     A0A0C4MBH9    D146E -5.5\n",
       "2     A0A0C4MBH9    D404A -7.1\n",
       "3     A0A0C4MBH9    D404E -6.4\n",
       "4     A0A0E3N843    C557S  3.8\n",
       "...          ...      ...  ...\n",
       "1136      Q9Y277      C8A  1.7\n",
       "1137    Q9Y6R1-2    R298S -5.0\n",
       "1138      W8VZW3     F15A  0.0\n",
       "1139      W8VZW3     W72A -3.0\n",
       "1140      W8VZW3     Y83A -2.0\n",
       "\n",
       "[1141 rows x 3 columns]"
      ],
      "text/html": [
       "<div>\n",
       "<style scoped>\n",
       "    .dataframe tbody tr th:only-of-type {\n",
       "        vertical-align: middle;\n",
       "    }\n",
       "\n",
       "    .dataframe tbody tr th {\n",
       "        vertical-align: top;\n",
       "    }\n",
       "\n",
       "    .dataframe thead th {\n",
       "        text-align: right;\n",
       "    }\n",
       "</style>\n",
       "<table border=\"1\" class=\"dataframe\">\n",
       "  <thead>\n",
       "    <tr style=\"text-align: right;\">\n",
       "      <th></th>\n",
       "      <th>UniProt_ID</th>\n",
       "      <th>Mutation</th>\n",
       "      <th>ΔTm</th>\n",
       "    </tr>\n",
       "  </thead>\n",
       "  <tbody>\n",
       "    <tr>\n",
       "      <th>0</th>\n",
       "      <td>A0A0C4MBH9</td>\n",
       "      <td>D146A</td>\n",
       "      <td>-5.3</td>\n",
       "    </tr>\n",
       "    <tr>\n",
       "      <th>1</th>\n",
       "      <td>A0A0C4MBH9</td>\n",
       "      <td>D146E</td>\n",
       "      <td>-5.5</td>\n",
       "    </tr>\n",
       "    <tr>\n",
       "      <th>2</th>\n",
       "      <td>A0A0C4MBH9</td>\n",
       "      <td>D404A</td>\n",
       "      <td>-7.1</td>\n",
       "    </tr>\n",
       "    <tr>\n",
       "      <th>3</th>\n",
       "      <td>A0A0C4MBH9</td>\n",
       "      <td>D404E</td>\n",
       "      <td>-6.4</td>\n",
       "    </tr>\n",
       "    <tr>\n",
       "      <th>4</th>\n",
       "      <td>A0A0E3N843</td>\n",
       "      <td>C557S</td>\n",
       "      <td>3.8</td>\n",
       "    </tr>\n",
       "    <tr>\n",
       "      <th>...</th>\n",
       "      <td>...</td>\n",
       "      <td>...</td>\n",
       "      <td>...</td>\n",
       "    </tr>\n",
       "    <tr>\n",
       "      <th>1136</th>\n",
       "      <td>Q9Y277</td>\n",
       "      <td>C8A</td>\n",
       "      <td>1.7</td>\n",
       "    </tr>\n",
       "    <tr>\n",
       "      <th>1137</th>\n",
       "      <td>Q9Y6R1-2</td>\n",
       "      <td>R298S</td>\n",
       "      <td>-5.0</td>\n",
       "    </tr>\n",
       "    <tr>\n",
       "      <th>1138</th>\n",
       "      <td>W8VZW3</td>\n",
       "      <td>F15A</td>\n",
       "      <td>0.0</td>\n",
       "    </tr>\n",
       "    <tr>\n",
       "      <th>1139</th>\n",
       "      <td>W8VZW3</td>\n",
       "      <td>W72A</td>\n",
       "      <td>-3.0</td>\n",
       "    </tr>\n",
       "    <tr>\n",
       "      <th>1140</th>\n",
       "      <td>W8VZW3</td>\n",
       "      <td>Y83A</td>\n",
       "      <td>-2.0</td>\n",
       "    </tr>\n",
       "  </tbody>\n",
       "</table>\n",
       "<p>1141 rows × 3 columns</p>\n",
       "</div>"
      ]
     },
     "execution_count": 19,
     "metadata": {},
     "output_type": "execute_result"
    }
   ],
   "execution_count": 19
  },
  {
   "cell_type": "markdown",
   "source": [
    "### 3.3.针对不同多测量值策略进行数据分析"
   ],
   "metadata": {
    "collapsed": false
   },
   "id": "32b85e883fb18cbe"
  },
  {
   "cell_type": "code",
   "source": [
    "plt.figure(figsize=(15, 7.5), dpi=100)\n",
    "plt.hist(avg_MPThermDB[\"ΔTm\"].astype(float).sort_values(),\n",
    "         bins=100,\n",
    "         color=\"yellowgreen\",\n",
    "         range=(-50, 50))\n",
    "plt.xlabel(\"ΔTm\", size=18)\n",
    "plt.gca().xaxis.set_major_locator(ticker.MultipleLocator(10))\n",
    "\n",
    "# 标题与坐标轴标签\n",
    "plt.title(\"ΔTm-frequency-in-MPThermDB-single-with-nothing-averaged\",\n",
    "          loc=\"center\",\n",
    "          fontdict={\"family\" : \"Times New Roman\",\n",
    "                    \"size\" : 24,\n",
    "                    \"weight\" : \"bold\"})\n",
    "plt.xlabel(\"ΔTm\", fontdict={\"family\" : \"Times New Roman\", \"size\" : 20, \"weight\" : \"normal\"})\n",
    "plt.ylabel(\"frequency\", fontdict={\"family\" : \"Times New Roman\", \"size\" : 20, \"weight\" : \"normal\"})\n",
    "\n",
    "plt.xticks(size=12)\n",
    "plt.yticks(size=12)\n",
    "plt.rcParams[\"axes.facecolor\"] = \"white\"\n",
    "plt.grid()\n",
    "plt.show()"
   ],
   "metadata": {
    "collapsed": false,
    "ExecuteTime": {
     "end_time": "2024-07-23T03:48:50.041197Z",
     "start_time": "2024-07-23T03:48:49.924241Z"
    }
   },
   "id": "9c025f2d372a2453",
   "outputs": [
    {
     "data": {
      "text/plain": [
       "<Figure size 1500x750 with 1 Axes>"
      ],
      "image/png": "[encoded data removed]"
     },
     "metadata": {},
     "output_type": "display_data"
    }
   ],
   "execution_count": 20
  },
  {
   "cell_type": "code",
   "source": [
    "plt.figure(figsize=(15, 7.5), dpi=100)\n",
    "plt.hist(avg_MPThermDB[\"ΔTm\"].astype(float).sort_values(),\n",
    "         bins=100,\n",
    "         color=\"yellowgreen\",\n",
    "         range=(-50, 50))\n",
    "plt.xlabel(\"ΔTm\", size=18)\n",
    "plt.gca().xaxis.set_major_locator(ticker.MultipleLocator(10))\n",
    "\n",
    "# 标题与坐标轴标签\n",
    "plt.title(\"ΔTm-frequency-in-MPThermDB-single-with-nothing-averaged\",\n",
    "          loc=\"center\",\n",
    "          fontdict={\"family\" : \"Times New Roman\",\n",
    "                    \"size\" : 24,\n",
    "                    \"weight\" : \"bold\"})\n",
    "plt.xlabel(\"ΔTm\", fontdict={\"family\" : \"Times New Roman\", \"size\" : 20, \"weight\" : \"normal\"})\n",
    "plt.ylabel(\"frequency\", fontdict={\"family\" : \"Times New Roman\", \"size\" : 20, \"weight\" : \"normal\"})\n",
    "\n",
    "plt.xticks(size=12)\n",
    "plt.yticks(size=12)\n",
    "plt.rcParams[\"axes.facecolor\"] = \"white\"\n",
    "plt.grid()\n",
    "plt.show()"
   ],
   "metadata": {
    "collapsed": false,
    "ExecuteTime": {
     "end_time": "2024-07-23T03:48:50.156184Z",
     "start_time": "2024-07-23T03:48:50.041197Z"
    }
   },
   "id": "266d37edf7afd234",
   "outputs": [
    {
     "data": {
      "text/plain": [
       "<Figure size 1500x750 with 1 Axes>"
      ],
      "image/png": "[encoded data removed]"
     },
     "metadata": {},
     "output_type": "display_data"
    }
   ],
   "execution_count": 21
  },
  {
   "cell_type": "markdown",
   "source": "## 4.HotMuSiC",
   "metadata": {
    "collapsed": false
   },
   "id": "932e14148e79e49c"
  },
  {
   "cell_type": "code",
   "source": [
    "HotMusic = pd.read_csv(\"BasicData/InitializationDataset/HotMuSiC_source.csv\")[[\"PDBid\", \"RESN\", \"RESwt\", \"RESmut\", \"ΔTm\"]]\n",
    "pdb2uid_ref = json.load(open(\"./Process4Dataset/feature_extractor/IDConvert/pdb2uid.json\", \"r\"))"
   ],
   "metadata": {
    "collapsed": false,
    "ExecuteTime": {
     "end_time": "2024-07-23T03:48:50.185603Z",
     "start_time": "2024-07-23T03:48:50.156184Z"
    }
   },
   "id": "1de8d10949268c70",
   "outputs": [],
   "execution_count": 22
  },
  {
   "cell_type": "markdown",
   "source": [
    "### 4.1.PDBID转换为UniProtID\n",
    "由于该数据库的映射关系与其他数据库存在差异，先进行处理"
   ],
   "metadata": {
    "collapsed": false
   },
   "id": "4ec9ba78e9b7e2a3"
  },
  {
   "cell_type": "code",
   "source": [
    "# PDBid转换为UniProt ID\n",
    "import tqdm\n",
    "def get_uniprot_id(pdb_id):\n",
    "    return pdb2uid_ref[pdb_id] if pdb_id in pdb2uid_ref else \"None\"\n",
    "\n",
    "# MutationInfoTrasfer\n",
    "ref = {\"ALA\": \"A\", \"ARG\": \"R\", \"ASN\": \"N\", \"ASP\": \"D\", \"CYS\": \"C\", \"GLN\": \"Q\", \"GLU\": \"E\", \"GLY\": \"G\", \"HIS\": \"H\", \"ILE\": \"I\", \"LEU\": \"L\", \"LYS\": \"K\", \"MET\": \"M\", \"PHE\": \"F\", \"PRO\": \"P\", \"SER\": \"S\", \"THR\": \"T\", \"TRP\": \"W\", \"TYR\": \"Y\", \"VAL\": \"V\"}\n",
    "def part2Mutation(animo_acid_from, animo_acid_to, animo_acid_position):\n",
    "    try:\n",
    "        return f\"{ref[animo_acid_from]}{int(animo_acid_position)}{ref[animo_acid_to]}\"\n",
    "    except Exception:\n",
    "        return \"Fault\""
   ],
   "metadata": {
    "collapsed": false,
    "ExecuteTime": {
     "end_time": "2024-07-23T03:48:50.189224Z",
     "start_time": "2024-07-23T03:48:50.185603Z"
    }
   },
   "id": "5f4613f9464af06a",
   "outputs": [],
   "execution_count": 23
  },
  {
   "cell_type": "code",
   "source": [
    "HotMusic.insert(loc=HotMusic.shape[1], column=\"Mutation\", value=\"\")\n",
    "for rowIndex, row in HotMusic.iterrows():\n",
    "    HotMusic.loc[rowIndex, \"Mutation\"] =  part2Mutation(row[\"RESwt\"], row[\"RESmut\"], row[\"RESN\"])"
   ],
   "metadata": {
    "collapsed": false,
    "ExecuteTime": {
     "end_time": "2024-07-23T03:48:50.299694Z",
     "start_time": "2024-07-23T03:48:50.189224Z"
    }
   },
   "id": "c70d242ff1deb26a",
   "outputs": [],
   "execution_count": 24
  },
  {
   "cell_type": "code",
   "source": [
    "HotMusic.insert(loc=HotMusic.shape[1], column=\"UniProt_ID\", value=\"\")\n",
    "deleteIndex = []\n",
    "with tqdm.tqdm(total=HotMusic.shape[0]) as pbar:\n",
    "    for rowIndex, row in HotMusic.iterrows():\n",
    "        uid = get_uniprot_id(row[\"PDBid\"])\n",
    "        if uid == \"None\":\n",
    "            deleteIndex.append(rowIndex)\n",
    "        else:\n",
    "            HotMusic.loc[rowIndex, \"UniProt_ID\"] =  uid\n",
    "        pbar.update(1)\n",
    "print(f\"HotMusic中删除了{len(deleteIndex)} / {HotMusic.shape[0]}条由于PDBid无法转换为UniPortID的数据\")\n",
    "HotMusic.drop(index=deleteIndex, inplace=True)"
   ],
   "metadata": {
    "collapsed": false,
    "ExecuteTime": {
     "end_time": "2024-07-23T03:48:50.398292Z",
     "start_time": "2024-07-23T03:48:50.299694Z"
    }
   },
   "id": "a5e3471f949b1c41",
   "outputs": [
    {
     "name": "stderr",
     "output_type": "stream",
     "text": [
      "100%|██████████| 1627/1627 [00:00<00:00, 18225.63it/s]"
     ]
    },
    {
     "name": "stdout",
     "output_type": "stream",
     "text": [
      "HotMusic中删除了384 / 1627条由于PDBid无法转换为UniPortID的数据\n"
     ]
    },
    {
     "name": "stderr",
     "output_type": "stream",
     "text": [
      "\n"
     ]
    }
   ],
   "execution_count": 25
  },
  {
   "cell_type": "code",
   "source": [
    "HotMusic = HotMusic[columns + [\"ΔTm\"]]\n",
    "HotMusic.sort_values(by=columns, inplace=True, ascending=False)\n",
    "HotMusic.reset_index(drop=True, inplace=True)\n",
    "HotMusic"
   ],
   "metadata": {
    "collapsed": false
   },
   "id": "cea2e2fe6213c25f",
   "outputs": [
    {
     "data": {
      "text/plain": [
       "     UniProt_ID Mutation    ΔTm\n",
       "0        Q9ZEU2    Y147N   -1.0\n",
       "1        Q9ZEU2    Y147F   -0.2\n",
       "2        Q9ZEU2    Y147A   -1.0\n",
       "3        Q9ZEU2    R509A    0.0\n",
       "4        Q9ZEU2    R446F    0.2\n",
       "...         ...      ...    ...\n",
       "1238     D4Z2G1    A129V   -1.5\n",
       "1239     A8PUY1    N277V  -13.5\n",
       "1240     A8PUY1    N277L  -12.0\n",
       "1241     A8PUY1    N277F  -16.3\n",
       "1242     A8PUY1    N277D    2.0\n",
       "\n",
       "[1243 rows x 3 columns]"
      ],
      "text/html": [
       "<div>\n",
       "<style scoped>\n",
       "    .dataframe tbody tr th:only-of-type {\n",
       "        vertical-align: middle;\n",
       "    }\n",
       "\n",
       "    .dataframe tbody tr th {\n",
       "        vertical-align: top;\n",
       "    }\n",
       "\n",
       "    .dataframe thead th {\n",
       "        text-align: right;\n",
       "    }\n",
       "</style>\n",
       "<table border=\"1\" class=\"dataframe\">\n",
       "  <thead>\n",
       "    <tr style=\"text-align: right;\">\n",
       "      <th></th>\n",
       "      <th>UniProt_ID</th>\n",
       "      <th>Mutation</th>\n",
       "      <th>ΔTm</th>\n",
       "    </tr>\n",
       "  </thead>\n",
       "  <tbody>\n",
       "    <tr>\n",
       "      <th>0</th>\n",
       "      <td>Q9ZEU2</td>\n",
       "      <td>Y147N</td>\n",
       "      <td>-1.0</td>\n",
       "    </tr>\n",
       "    <tr>\n",
       "      <th>1</th>\n",
       "      <td>Q9ZEU2</td>\n",
       "      <td>Y147F</td>\n",
       "      <td>-0.2</td>\n",
       "    </tr>\n",
       "    <tr>\n",
       "      <th>2</th>\n",
       "      <td>Q9ZEU2</td>\n",
       "      <td>Y147A</td>\n",
       "      <td>-1.0</td>\n",
       "    </tr>\n",
       "    <tr>\n",
       "      <th>3</th>\n",
       "      <td>Q9ZEU2</td>\n",
       "      <td>R509A</td>\n",
       "      <td>0.0</td>\n",
       "    </tr>\n",
       "    <tr>\n",
       "      <th>4</th>\n",
       "      <td>Q9ZEU2</td>\n",
       "      <td>R446F</td>\n",
       "      <td>0.2</td>\n",
       "    </tr>\n",
       "    <tr>\n",
       "      <th>...</th>\n",
       "      <td>...</td>\n",
       "      <td>...</td>\n",
       "      <td>...</td>\n",
       "    </tr>\n",
       "    <tr>\n",
       "      <th>1238</th>\n",
       "      <td>D4Z2G1</td>\n",
       "      <td>A129V</td>\n",
       "      <td>-1.5</td>\n",
       "    </tr>\n",
       "    <tr>\n",
       "      <th>1239</th>\n",
       "      <td>A8PUY1</td>\n",
       "      <td>N277V</td>\n",
       "      <td>-13.5</td>\n",
       "    </tr>\n",
       "    <tr>\n",
       "      <th>1240</th>\n",
       "      <td>A8PUY1</td>\n",
       "      <td>N277L</td>\n",
       "      <td>-12.0</td>\n",
       "    </tr>\n",
       "    <tr>\n",
       "      <th>1241</th>\n",
       "      <td>A8PUY1</td>\n",
       "      <td>N277F</td>\n",
       "      <td>-16.3</td>\n",
       "    </tr>\n",
       "    <tr>\n",
       "      <th>1242</th>\n",
       "      <td>A8PUY1</td>\n",
       "      <td>N277D</td>\n",
       "      <td>2.0</td>\n",
       "    </tr>\n",
       "  </tbody>\n",
       "</table>\n",
       "<p>1243 rows × 3 columns</p>\n",
       "</div>"
      ]
     },
     "execution_count": 26,
     "metadata": {},
     "output_type": "execute_result"
    }
   ],
   "execution_count": 26
  },
  {
   "cell_type": "markdown",
   "source": [
    "### 4.1.数据清洗\n",
    "清洗HotMusic中的非法数据"
   ],
   "metadata": {
    "collapsed": false
   },
   "id": "90eb1ece7c1ffde7"
  },
  {
   "cell_type": "code",
   "source": [
    "HotMusic, HotMusic_washed = wash4MutTm(HotMusic, avg_filling=False, focus_columns=columns)\n",
    "HotMusic_washed"
   ],
   "metadata": {
    "collapsed": false
   },
   "id": "4a726f98158ed6d",
   "outputs": [
    {
     "name": "stdout",
     "output_type": "stream",
     "text": [
      "-删除数据缺失行及非法行共计2行\n",
      "-丢弃pH/Tm的缺失值\n"
     ]
    },
    {
     "data": {
      "text/plain": [
       "     UniProt_ID Mutation   ΔTm\n",
       "44       Q9ZEU2    Fault  -0.2\n",
       "1173     D4Z2G1    Fault   0.0"
      ],
      "text/html": [
       "<div>\n",
       "<style scoped>\n",
       "    .dataframe tbody tr th:only-of-type {\n",
       "        vertical-align: middle;\n",
       "    }\n",
       "\n",
       "    .dataframe tbody tr th {\n",
       "        vertical-align: top;\n",
       "    }\n",
       "\n",
       "    .dataframe thead th {\n",
       "        text-align: right;\n",
       "    }\n",
       "</style>\n",
       "<table border=\"1\" class=\"dataframe\">\n",
       "  <thead>\n",
       "    <tr style=\"text-align: right;\">\n",
       "      <th></th>\n",
       "      <th>UniProt_ID</th>\n",
       "      <th>Mutation</th>\n",
       "      <th>ΔTm</th>\n",
       "    </tr>\n",
       "  </thead>\n",
       "  <tbody>\n",
       "    <tr>\n",
       "      <th>44</th>\n",
       "      <td>Q9ZEU2</td>\n",
       "      <td>Fault</td>\n",
       "      <td>-0.2</td>\n",
       "    </tr>\n",
       "    <tr>\n",
       "      <th>1173</th>\n",
       "      <td>D4Z2G1</td>\n",
       "      <td>Fault</td>\n",
       "      <td>0.0</td>\n",
       "    </tr>\n",
       "  </tbody>\n",
       "</table>\n",
       "</div>"
      ]
     },
     "execution_count": 27,
     "metadata": {},
     "output_type": "execute_result"
    }
   ],
   "execution_count": 27
  },
  {
   "cell_type": "markdown",
   "source": [
    "### 4.2.检测是否存在多测量值"
   ],
   "metadata": {
    "collapsed": false
   },
   "id": "1ffb4085026fdfae"
  },
  {
   "cell_type": "code",
   "source": [
    "HotMusic_mult_cnt, HotMusic_mult_index = check4mult(HotMusic, columns)\n",
    "HotMusic_multiple_deltaTm = HotMusic.iloc[HotMusic_mult_index, :]\n",
    "print(f\"HotMuSiC数据库中存在{HotMusic_mult_cnt}条多测量值\")\n",
    "HotMusic_multiple_deltaTm"
   ],
   "metadata": {
    "collapsed": false
   },
   "id": "1d3b150c2d0cfb69",
   "outputs": [
    {
     "name": "stdout",
     "output_type": "stream",
     "text": [
      "HotMuSiC数据库中存在42条多测量值\n"
     ]
    },
    {
     "data": {
      "text/plain": [
       "    UniProt_ID Mutation   ΔTm\n",
       "137     P61626     V99A  -4.4\n",
       "138     P61626     V99A  -3.0\n",
       "140     P61626     V93A  -4.4\n",
       "141     P61626     V93A  -2.3\n",
       "152     P61626     V74A  -1.9\n",
       "153     P61626     V74A  -1.1\n",
       "164     P61626      V2A  -7.9\n",
       "165     P61626      V2A  -4.6\n",
       "166     P61626    V130A  -4.8\n",
       "167     P61626    V130A  -2.6\n",
       "168     P61626    V125A  -7.0\n",
       "169     P61626    V125A  -4.0\n",
       "170     P61626    V121A  -9.3\n",
       "171     P61626    V121A  -4.5\n",
       "182     P61626    V110A   0.3\n",
       "183     P61626    V110A   1.5\n",
       "186     P61626    V100A  -2.6\n",
       "187     P61626    V100A  -0.8\n",
       "218     P61626     I89V  -2.7\n",
       "219     P61626     I89V  -1.4\n",
       "222     P61626     I59V  -4.4\n",
       "223     P61626     I59V  -4.4\n",
       "230     P61626     I59A  -5.8\n",
       "231     P61626     I59A  -5.2\n",
       "232     P61626     I56V  -6.3\n",
       "233     P61626     I56V  -3.6\n",
       "240     P61626     I23V  -1.6\n",
       "241     P61626     I23V  -1.6\n",
       "243     P61626    I106V  -4.7\n",
       "244     P61626    I106V  -2.2\n",
       "625     P00720    V149C  -5.5\n",
       "626     P00720    V149C  -5.1\n",
       "666     P00720    T152S  -5.5\n",
       "667     P00720    T152S  -6.6\n",
       "696     P00720     S44A   1.0\n",
       "697     P00720     S44A   1.6\n",
       "703     P00720    S117F   2.8\n",
       "704     P00720    S117F   2.8\n",
       "784     P00720    L133F  -0.7\n",
       "785     P00720    L133F  -0.8\n",
       "868     P00720     A98V  -9.2\n",
       "869     P00720     A98V -13.0"
      ],
      "text/html": [
       "<div>\n",
       "<style scoped>\n",
       "    .dataframe tbody tr th:only-of-type {\n",
       "        vertical-align: middle;\n",
       "    }\n",
       "\n",
       "    .dataframe tbody tr th {\n",
       "        vertical-align: top;\n",
       "    }\n",
       "\n",
       "    .dataframe thead th {\n",
       "        text-align: right;\n",
       "    }\n",
       "</style>\n",
       "<table border=\"1\" class=\"dataframe\">\n",
       "  <thead>\n",
       "    <tr style=\"text-align: right;\">\n",
       "      <th></th>\n",
       "      <th>UniProt_ID</th>\n",
       "      <th>Mutation</th>\n",
       "      <th>ΔTm</th>\n",
       "    </tr>\n",
       "  </thead>\n",
       "  <tbody>\n",
       "    <tr>\n",
       "      <th>137</th>\n",
       "      <td>P61626</td>\n",
       "      <td>V99A</td>\n",
       "      <td>-4.4</td>\n",
       "    </tr>\n",
       "    <tr>\n",
       "      <th>138</th>\n",
       "      <td>P61626</td>\n",
       "      <td>V99A</td>\n",
       "      <td>-3.0</td>\n",
       "    </tr>\n",
       "    <tr>\n",
       "      <th>140</th>\n",
       "      <td>P61626</td>\n",
       "      <td>V93A</td>\n",
       "      <td>-4.4</td>\n",
       "    </tr>\n",
       "    <tr>\n",
       "      <th>141</th>\n",
       "      <td>P61626</td>\n",
       "      <td>V93A</td>\n",
       "      <td>-2.3</td>\n",
       "    </tr>\n",
       "    <tr>\n",
       "      <th>152</th>\n",
       "      <td>P61626</td>\n",
       "      <td>V74A</td>\n",
       "      <td>-1.9</td>\n",
       "    </tr>\n",
       "    <tr>\n",
       "      <th>153</th>\n",
       "      <td>P61626</td>\n",
       "      <td>V74A</td>\n",
       "      <td>-1.1</td>\n",
       "    </tr>\n",
       "    <tr>\n",
       "      <th>164</th>\n",
       "      <td>P61626</td>\n",
       "      <td>V2A</td>\n",
       "      <td>-7.9</td>\n",
       "    </tr>\n",
       "    <tr>\n",
       "      <th>165</th>\n",
       "      <td>P61626</td>\n",
       "      <td>V2A</td>\n",
       "      <td>-4.6</td>\n",
       "    </tr>\n",
       "    <tr>\n",
       "      <th>166</th>\n",
       "      <td>P61626</td>\n",
       "      <td>V130A</td>\n",
       "      <td>-4.8</td>\n",
       "    </tr>\n",
       "    <tr>\n",
       "      <th>167</th>\n",
       "      <td>P61626</td>\n",
       "      <td>V130A</td>\n",
       "      <td>-2.6</td>\n",
       "    </tr>\n",
       "    <tr>\n",
       "      <th>168</th>\n",
       "      <td>P61626</td>\n",
       "      <td>V125A</td>\n",
       "      <td>-7.0</td>\n",
       "    </tr>\n",
       "    <tr>\n",
       "      <th>169</th>\n",
       "      <td>P61626</td>\n",
       "      <td>V125A</td>\n",
       "      <td>-4.0</td>\n",
       "    </tr>\n",
       "    <tr>\n",
       "      <th>170</th>\n",
       "      <td>P61626</td>\n",
       "      <td>V121A</td>\n",
       "      <td>-9.3</td>\n",
       "    </tr>\n",
       "    <tr>\n",
       "      <th>171</th>\n",
       "      <td>P61626</td>\n",
       "      <td>V121A</td>\n",
       "      <td>-4.5</td>\n",
       "    </tr>\n",
       "    <tr>\n",
       "      <th>182</th>\n",
       "      <td>P61626</td>\n",
       "      <td>V110A</td>\n",
       "      <td>0.3</td>\n",
       "    </tr>\n",
       "    <tr>\n",
       "      <th>183</th>\n",
       "      <td>P61626</td>\n",
       "      <td>V110A</td>\n",
       "      <td>1.5</td>\n",
       "    </tr>\n",
       "    <tr>\n",
       "      <th>186</th>\n",
       "      <td>P61626</td>\n",
       "      <td>V100A</td>\n",
       "      <td>-2.6</td>\n",
       "    </tr>\n",
       "    <tr>\n",
       "      <th>187</th>\n",
       "      <td>P61626</td>\n",
       "      <td>V100A</td>\n",
       "      <td>-0.8</td>\n",
       "    </tr>\n",
       "    <tr>\n",
       "      <th>218</th>\n",
       "      <td>P61626</td>\n",
       "      <td>I89V</td>\n",
       "      <td>-2.7</td>\n",
       "    </tr>\n",
       "    <tr>\n",
       "      <th>219</th>\n",
       "      <td>P61626</td>\n",
       "      <td>I89V</td>\n",
       "      <td>-1.4</td>\n",
       "    </tr>\n",
       "    <tr>\n",
       "      <th>222</th>\n",
       "      <td>P61626</td>\n",
       "      <td>I59V</td>\n",
       "      <td>-4.4</td>\n",
       "    </tr>\n",
       "    <tr>\n",
       "      <th>223</th>\n",
       "      <td>P61626</td>\n",
       "      <td>I59V</td>\n",
       "      <td>-4.4</td>\n",
       "    </tr>\n",
       "    <tr>\n",
       "      <th>230</th>\n",
       "      <td>P61626</td>\n",
       "      <td>I59A</td>\n",
       "      <td>-5.8</td>\n",
       "    </tr>\n",
       "    <tr>\n",
       "      <th>231</th>\n",
       "      <td>P61626</td>\n",
       "      <td>I59A</td>\n",
       "      <td>-5.2</td>\n",
       "    </tr>\n",
       "    <tr>\n",
       "      <th>232</th>\n",
       "      <td>P61626</td>\n",
       "      <td>I56V</td>\n",
       "      <td>-6.3</td>\n",
       "    </tr>\n",
       "    <tr>\n",
       "      <th>233</th>\n",
       "      <td>P61626</td>\n",
       "      <td>I56V</td>\n",
       "      <td>-3.6</td>\n",
       "    </tr>\n",
       "    <tr>\n",
       "      <th>240</th>\n",
       "      <td>P61626</td>\n",
       "      <td>I23V</td>\n",
       "      <td>-1.6</td>\n",
       "    </tr>\n",
       "    <tr>\n",
       "      <th>241</th>\n",
       "      <td>P61626</td>\n",
       "      <td>I23V</td>\n",
       "      <td>-1.6</td>\n",
       "    </tr>\n",
       "    <tr>\n",
       "      <th>243</th>\n",
       "      <td>P61626</td>\n",
       "      <td>I106V</td>\n",
       "      <td>-4.7</td>\n",
       "    </tr>\n",
       "    <tr>\n",
       "      <th>244</th>\n",
       "      <td>P61626</td>\n",
       "      <td>I106V</td>\n",
       "      <td>-2.2</td>\n",
       "    </tr>\n",
       "    <tr>\n",
       "      <th>625</th>\n",
       "      <td>P00720</td>\n",
       "      <td>V149C</td>\n",
       "      <td>-5.5</td>\n",
       "    </tr>\n",
       "    <tr>\n",
       "      <th>626</th>\n",
       "      <td>P00720</td>\n",
       "      <td>V149C</td>\n",
       "      <td>-5.1</td>\n",
       "    </tr>\n",
       "    <tr>\n",
       "      <th>666</th>\n",
       "      <td>P00720</td>\n",
       "      <td>T152S</td>\n",
       "      <td>-5.5</td>\n",
       "    </tr>\n",
       "    <tr>\n",
       "      <th>667</th>\n",
       "      <td>P00720</td>\n",
       "      <td>T152S</td>\n",
       "      <td>-6.6</td>\n",
       "    </tr>\n",
       "    <tr>\n",
       "      <th>696</th>\n",
       "      <td>P00720</td>\n",
       "      <td>S44A</td>\n",
       "      <td>1.0</td>\n",
       "    </tr>\n",
       "    <tr>\n",
       "      <th>697</th>\n",
       "      <td>P00720</td>\n",
       "      <td>S44A</td>\n",
       "      <td>1.6</td>\n",
       "    </tr>\n",
       "    <tr>\n",
       "      <th>703</th>\n",
       "      <td>P00720</td>\n",
       "      <td>S117F</td>\n",
       "      <td>2.8</td>\n",
       "    </tr>\n",
       "    <tr>\n",
       "      <th>704</th>\n",
       "      <td>P00720</td>\n",
       "      <td>S117F</td>\n",
       "      <td>2.8</td>\n",
       "    </tr>\n",
       "    <tr>\n",
       "      <th>784</th>\n",
       "      <td>P00720</td>\n",
       "      <td>L133F</td>\n",
       "      <td>-0.7</td>\n",
       "    </tr>\n",
       "    <tr>\n",
       "      <th>785</th>\n",
       "      <td>P00720</td>\n",
       "      <td>L133F</td>\n",
       "      <td>-0.8</td>\n",
       "    </tr>\n",
       "    <tr>\n",
       "      <th>868</th>\n",
       "      <td>P00720</td>\n",
       "      <td>A98V</td>\n",
       "      <td>-9.2</td>\n",
       "    </tr>\n",
       "    <tr>\n",
       "      <th>869</th>\n",
       "      <td>P00720</td>\n",
       "      <td>A98V</td>\n",
       "      <td>-13.0</td>\n",
       "    </tr>\n",
       "  </tbody>\n",
       "</table>\n",
       "</div>"
      ]
     },
     "execution_count": 28,
     "metadata": {},
     "output_type": "execute_result"
    }
   ],
   "execution_count": 28
  },
  {
   "cell_type": "markdown",
   "source": [
    "### 4.3.对多测量值进行处理"
   ],
   "metadata": {
    "collapsed": false
   },
   "id": "2e66baf5ce91066b"
  },
  {
   "cell_type": "code",
   "source": [
    "del_HotMusic = duplicate4MutTm(HotMusic, mode=\"Delete\", focus_columns=columns).reset_index(drop=True)\n",
    "avg_HotMusic = duplicate4MutTm(HotMusic, mode=\"Average\", focus_columns=columns).reset_index(drop=True)\n",
    "avg_HotMusic"
   ],
   "metadata": {
    "collapsed": false
   },
   "id": "4282de43786e2869",
   "outputs": [
    {
     "data": {
      "text/plain": [
       "     UniProt_ID Mutation   ΔTm\n",
       "0        A8PUY1    N277D   2.0\n",
       "1        A8PUY1    N277F -16.3\n",
       "2        A8PUY1    N277L -12.0\n",
       "3        A8PUY1    N277V -13.5\n",
       "4        D4Z2G1    A129V  -1.5\n",
       "...         ...      ...   ...\n",
       "1215     Q9ZEU2    R446F   0.2\n",
       "1216     Q9ZEU2    R509A   0.0\n",
       "1217     Q9ZEU2    Y147A  -1.0\n",
       "1218     Q9ZEU2    Y147F  -0.2\n",
       "1219     Q9ZEU2    Y147N  -1.0\n",
       "\n",
       "[1220 rows x 3 columns]"
      ],
      "text/html": [
       "<div>\n",
       "<style scoped>\n",
       "    .dataframe tbody tr th:only-of-type {\n",
       "        vertical-align: middle;\n",
       "    }\n",
       "\n",
       "    .dataframe tbody tr th {\n",
       "        vertical-align: top;\n",
       "    }\n",
       "\n",
       "    .dataframe thead th {\n",
       "        text-align: right;\n",
       "    }\n",
       "</style>\n",
       "<table border=\"1\" class=\"dataframe\">\n",
       "  <thead>\n",
       "    <tr style=\"text-align: right;\">\n",
       "      <th></th>\n",
       "      <th>UniProt_ID</th>\n",
       "      <th>Mutation</th>\n",
       "      <th>ΔTm</th>\n",
       "    </tr>\n",
       "  </thead>\n",
       "  <tbody>\n",
       "    <tr>\n",
       "      <th>0</th>\n",
       "      <td>A8PUY1</td>\n",
       "      <td>N277D</td>\n",
       "      <td>2.0</td>\n",
       "    </tr>\n",
       "    <tr>\n",
       "      <th>1</th>\n",
       "      <td>A8PUY1</td>\n",
       "      <td>N277F</td>\n",
       "      <td>-16.3</td>\n",
       "    </tr>\n",
       "    <tr>\n",
       "      <th>2</th>\n",
       "      <td>A8PUY1</td>\n",
       "      <td>N277L</td>\n",
       "      <td>-12.0</td>\n",
       "    </tr>\n",
       "    <tr>\n",
       "      <th>3</th>\n",
       "      <td>A8PUY1</td>\n",
       "      <td>N277V</td>\n",
       "      <td>-13.5</td>\n",
       "    </tr>\n",
       "    <tr>\n",
       "      <th>4</th>\n",
       "      <td>D4Z2G1</td>\n",
       "      <td>A129V</td>\n",
       "      <td>-1.5</td>\n",
       "    </tr>\n",
       "    <tr>\n",
       "      <th>...</th>\n",
       "      <td>...</td>\n",
       "      <td>...</td>\n",
       "      <td>...</td>\n",
       "    </tr>\n",
       "    <tr>\n",
       "      <th>1215</th>\n",
       "      <td>Q9ZEU2</td>\n",
       "      <td>R446F</td>\n",
       "      <td>0.2</td>\n",
       "    </tr>\n",
       "    <tr>\n",
       "      <th>1216</th>\n",
       "      <td>Q9ZEU2</td>\n",
       "      <td>R509A</td>\n",
       "      <td>0.0</td>\n",
       "    </tr>\n",
       "    <tr>\n",
       "      <th>1217</th>\n",
       "      <td>Q9ZEU2</td>\n",
       "      <td>Y147A</td>\n",
       "      <td>-1.0</td>\n",
       "    </tr>\n",
       "    <tr>\n",
       "      <th>1218</th>\n",
       "      <td>Q9ZEU2</td>\n",
       "      <td>Y147F</td>\n",
       "      <td>-0.2</td>\n",
       "    </tr>\n",
       "    <tr>\n",
       "      <th>1219</th>\n",
       "      <td>Q9ZEU2</td>\n",
       "      <td>Y147N</td>\n",
       "      <td>-1.0</td>\n",
       "    </tr>\n",
       "  </tbody>\n",
       "</table>\n",
       "<p>1220 rows × 3 columns</p>\n",
       "</div>"
      ]
     },
     "execution_count": 29,
     "metadata": {},
     "output_type": "execute_result"
    }
   ],
   "execution_count": 29
  },
  {
   "cell_type": "markdown",
   "source": [
    "### 4.4.绘制HotMusic分布图"
   ],
   "metadata": {
    "collapsed": false
   },
   "id": "c149a79bbcc88012"
  },
  {
   "cell_type": "code",
   "source": [
    "plt.figure(figsize=(15, 7.5), dpi=100)\n",
    "plt.hist(avg_HotMusic[\"ΔTm\"].astype(float).sort_values(),\n",
    "         bins=100,\n",
    "         color=\"yellowgreen\",\n",
    "         range=(-50, 50))\n",
    "plt.xlabel(\"ΔTm\", size=18)\n",
    "plt.gca().xaxis.set_major_locator(ticker.MultipleLocator(10))\n",
    "\n",
    "# 标题与坐标轴标签\n",
    "plt.title(\"ΔTm-frequency-in-MPThermDB-single-with-nothing-averaged\",\n",
    "          loc=\"center\",\n",
    "          fontdict={\"family\" : \"Times New Roman\",\n",
    "                    \"size\" : 24,\n",
    "                    \"weight\" : \"bold\"})\n",
    "plt.xlabel(\"ΔTm\", fontdict={\"family\" : \"Times New Roman\", \"size\" : 20, \"weight\" : \"normal\"})\n",
    "plt.ylabel(\"frequency\", fontdict={\"family\" : \"Times New Roman\", \"size\" : 20, \"weight\" : \"normal\"})\n",
    "\n",
    "plt.xticks(size=12)\n",
    "plt.yticks(size=12)\n",
    "plt.rcParams[\"axes.facecolor\"] = \"white\"\n",
    "plt.grid()\n",
    "plt.show()"
   ],
   "metadata": {
    "collapsed": false,
    "ExecuteTime": {
     "end_time": "2024-07-23T03:48:50.658492Z",
     "start_time": "2024-07-23T03:48:50.487714Z"
    }
   },
   "id": "76e283a052c64663",
   "outputs": [
    {
     "data": {
      "text/plain": [
       "<Figure size 1500x750 with 1 Axes>"
      ],
      "image/png": "[encoded data removed]"
     },
     "metadata": {},
     "output_type": "display_data"
    }
   ],
   "execution_count": 30
  },
  {
   "cell_type": "code",
   "source": [
    "plt.figure(figsize=(15, 7.5), dpi=100)\n",
    "plt.hist(avg_HotMusic[\"ΔTm\"].astype(float).sort_values(),\n",
    "         bins=100,\n",
    "         color=\"yellowgreen\",\n",
    "         range=(-50, 50))\n",
    "plt.xlabel(\"ΔTm\", size=18)\n",
    "plt.gca().xaxis.set_major_locator(ticker.MultipleLocator(10))\n",
    "\n",
    "# 标题与坐标轴标签\n",
    "plt.title(\"ΔTm-frequency-in-MPThermDB-single-with-nothing-averaged\",\n",
    "          loc=\"center\",\n",
    "          fontdict={\"family\" : \"Times New Roman\",\n",
    "                    \"size\" : 24,\n",
    "                    \"weight\" : \"bold\"})\n",
    "plt.xlabel(\"ΔTm\", fontdict={\"family\" : \"Times New Roman\", \"size\" : 20, \"weight\" : \"normal\"})\n",
    "plt.ylabel(\"frequency\", fontdict={\"family\" : \"Times New Roman\", \"size\" : 20, \"weight\" : \"normal\"})\n",
    "\n",
    "plt.xticks(size=12)\n",
    "plt.yticks(size=12)\n",
    "plt.rcParams[\"axes.facecolor\"] = \"white\"\n",
    "plt.grid()\n",
    "plt.show()"
   ],
   "metadata": {
    "collapsed": false,
    "ExecuteTime": {
     "end_time": "2024-07-23T03:48:50.774307Z",
     "start_time": "2024-07-23T03:48:50.658604Z"
    }
   },
   "id": "68a94a3214fd98df",
   "outputs": [
    {
     "data": {
      "text/plain": [
       "<Figure size 1500x750 with 1 Axes>"
      ],
      "image/png": "[encoded data removed]"
     },
     "metadata": {},
     "output_type": "display_data"
    }
   ],
   "execution_count": 31
  },
  {
   "cell_type": "markdown",
   "source": "## 5.各数据集之间的引用关系[以ProThermDB为基本数据集]",
   "metadata": {
    "collapsed": false
   },
   "id": "15d54aa626119cf4"
  },
  {
   "cell_type": "code",
   "source": [
    "def Check4Dup(base_df: pd.DataFrame,\n",
    "              quote_df: pd.DataFrame,\n",
    "              focus_colums: list = None) -> list:\n",
    "    if focus_colums is None:\n",
    "        focus_colums = [\"UniProt_ID\", \"Mutation\"]\n",
    "    \n",
    "    # 后一数据集出现了多少个条目组合\n",
    "    occured = set()\n",
    "    for rowIndex, row in base_df[focus_colums].iterrows():\n",
    "        occured.add(\"-\".join(map(str, row)))\n",
    "    \n",
    "    # 前一数据集中出现过多少个条目组合\n",
    "    indexs = []\n",
    "    for rowIndex, row in quote_df[focus_colums].iterrows():\n",
    "        if \"-\".join(map(str, row)) in occured:\n",
    "            indexs .append(rowIndex)\n",
    "    return indexs"
   ],
   "metadata": {
    "collapsed": false,
    "ExecuteTime": {
     "end_time": "2024-07-23T03:48:50.777838Z",
     "start_time": "2024-07-23T03:48:50.774307Z"
    }
   },
   "id": "7d83448e7f65e9ec",
   "outputs": [],
   "execution_count": 32
  },
  {
   "cell_type": "markdown",
   "source": [
    "### 5.1.MPThermDB对ProThermDB的引用关系"
   ],
   "metadata": {
    "collapsed": false
   },
   "id": "f3b5bd827c3cb811"
  },
  {
   "cell_type": "code",
   "source": [
    "MPThermDB_ProThermDb_duplicateIndex = Check4Dup(avg_ProThermDB, avg_MPThermDB)\n",
    "print(f\"MPThermDB中的{len(MPThermDB_ProThermDb_duplicateIndex)}条数据来源于ProThermDB\")\n",
    "MPThermDB_ProThermDb_duplicated = avg_MPThermDB.iloc[MPThermDB_ProThermDb_duplicateIndex, :]\n",
    "MPThermDB_ProThermDb_duplicated"
   ],
   "metadata": {
    "collapsed": false,
    "ExecuteTime": {
     "end_time": "2024-07-23T03:48:50.846630Z",
     "start_time": "2024-07-23T03:48:50.778830Z"
    }
   },
   "id": "3c929d23be03ace7",
   "outputs": [
    {
     "name": "stdout",
     "output_type": "stream",
     "text": [
      "MPThermDB中的37条数据来源于ProThermDB\n"
     ]
    },
    {
     "data": {
      "text/plain": [
       "    UniProt_ID Mutation        ΔTm\n",
       "115     P00171     F40H -12.450000\n",
       "116     P00171     F40L  -7.500000\n",
       "117     P00171     F40Y   0.550000\n",
       "121     P00171     V66E  -4.000000\n",
       "122     P00171     V66H  -5.900000\n",
       "123     P00171     V66K  -8.700000\n",
       "124     P00171     V66Y  -4.700000\n",
       "137     P02730     E40K  -0.950000\n",
       "138     P02730    G130R  -0.500000\n",
       "139     P02730     K56E  -0.500000\n",
       "140     P02730    P327R  -4.850000\n",
       "163     P04166     I48L  -1.300000\n",
       "168     P06996     R58H  -0.763333\n",
       "169     P06996     R95C  -2.583333\n",
       "170     P06996     R95G  -4.996667\n",
       "171     P06996     R95S  -4.620000\n",
       "175     P07017    S461L   9.300000\n",
       "488     P18012    A106W -23.900000\n",
       "489     P18012    F136W  -9.000000\n",
       "490     P18012    I336W  -6.860000\n",
       "491     P18012     I40W  -6.700000\n",
       "492     P18012    K326W  -7.100000\n",
       "493     P18012    L154W -22.600000\n",
       "494     P18012    N341W -11.600000\n",
       "495     P18012    R362W  -6.800000\n",
       "501     P20789     A86L   6.480000\n",
       "510     P20789    F358A   3.740000\n",
       "837     P32851    K256A  -1.700000\n",
       "838     P32851    K260A  -0.500000\n",
       "839     P32851    K264A  -0.500000\n",
       "840     P32851    K265A  -0.700000\n",
       "841     P32851    Q258A   0.200000\n",
       "842     P32851    R262A  -1.400000\n",
       "843     P32851    R263A  -0.700000\n",
       "844     P32851    Y257A  -4.300000\n",
       "962     P95467     E81Q  -2.000000\n",
       "963     P95467     W74C  -3.800000"
      ],
      "text/html": [
       "<div>\n",
       "<style scoped>\n",
       "    .dataframe tbody tr th:only-of-type {\n",
       "        vertical-align: middle;\n",
       "    }\n",
       "\n",
       "    .dataframe tbody tr th {\n",
       "        vertical-align: top;\n",
       "    }\n",
       "\n",
       "    .dataframe thead th {\n",
       "        text-align: right;\n",
       "    }\n",
       "</style>\n",
       "<table border=\"1\" class=\"dataframe\">\n",
       "  <thead>\n",
       "    <tr style=\"text-align: right;\">\n",
       "      <th></th>\n",
       "      <th>UniProt_ID</th>\n",
       "      <th>Mutation</th>\n",
       "      <th>ΔTm</th>\n",
       "    </tr>\n",
       "  </thead>\n",
       "  <tbody>\n",
       "    <tr>\n",
       "      <th>115</th>\n",
       "      <td>P00171</td>\n",
       "      <td>F40H</td>\n",
       "      <td>-12.450000</td>\n",
       "    </tr>\n",
       "    <tr>\n",
       "      <th>116</th>\n",
       "      <td>P00171</td>\n",
       "      <td>F40L</td>\n",
       "      <td>-7.500000</td>\n",
       "    </tr>\n",
       "    <tr>\n",
       "      <th>117</th>\n",
       "      <td>P00171</td>\n",
       "      <td>F40Y</td>\n",
       "      <td>0.550000</td>\n",
       "    </tr>\n",
       "    <tr>\n",
       "      <th>121</th>\n",
       "      <td>P00171</td>\n",
       "      <td>V66E</td>\n",
       "      <td>-4.000000</td>\n",
       "    </tr>\n",
       "    <tr>\n",
       "      <th>122</th>\n",
       "      <td>P00171</td>\n",
       "      <td>V66H</td>\n",
       "      <td>-5.900000</td>\n",
       "    </tr>\n",
       "    <tr>\n",
       "      <th>123</th>\n",
       "      <td>P00171</td>\n",
       "      <td>V66K</td>\n",
       "      <td>-8.700000</td>\n",
       "    </tr>\n",
       "    <tr>\n",
       "      <th>124</th>\n",
       "      <td>P00171</td>\n",
       "      <td>V66Y</td>\n",
       "      <td>-4.700000</td>\n",
       "    </tr>\n",
       "    <tr>\n",
       "      <th>137</th>\n",
       "      <td>P02730</td>\n",
       "      <td>E40K</td>\n",
       "      <td>-0.950000</td>\n",
       "    </tr>\n",
       "    <tr>\n",
       "      <th>138</th>\n",
       "      <td>P02730</td>\n",
       "      <td>G130R</td>\n",
       "      <td>-0.500000</td>\n",
       "    </tr>\n",
       "    <tr>\n",
       "      <th>139</th>\n",
       "      <td>P02730</td>\n",
       "      <td>K56E</td>\n",
       "      <td>-0.500000</td>\n",
       "    </tr>\n",
       "    <tr>\n",
       "      <th>140</th>\n",
       "      <td>P02730</td>\n",
       "      <td>P327R</td>\n",
       "      <td>-4.850000</td>\n",
       "    </tr>\n",
       "    <tr>\n",
       "      <th>163</th>\n",
       "      <td>P04166</td>\n",
       "      <td>I48L</td>\n",
       "      <td>-1.300000</td>\n",
       "    </tr>\n",
       "    <tr>\n",
       "      <th>168</th>\n",
       "      <td>P06996</td>\n",
       "      <td>R58H</td>\n",
       "      <td>-0.763333</td>\n",
       "    </tr>\n",
       "    <tr>\n",
       "      <th>169</th>\n",
       "      <td>P06996</td>\n",
       "      <td>R95C</td>\n",
       "      <td>-2.583333</td>\n",
       "    </tr>\n",
       "    <tr>\n",
       "      <th>170</th>\n",
       "      <td>P06996</td>\n",
       "      <td>R95G</td>\n",
       "      <td>-4.996667</td>\n",
       "    </tr>\n",
       "    <tr>\n",
       "      <th>171</th>\n",
       "      <td>P06996</td>\n",
       "      <td>R95S</td>\n",
       "      <td>-4.620000</td>\n",
       "    </tr>\n",
       "    <tr>\n",
       "      <th>175</th>\n",
       "      <td>P07017</td>\n",
       "      <td>S461L</td>\n",
       "      <td>9.300000</td>\n",
       "    </tr>\n",
       "    <tr>\n",
       "      <th>488</th>\n",
       "      <td>P18012</td>\n",
       "      <td>A106W</td>\n",
       "      <td>-23.900000</td>\n",
       "    </tr>\n",
       "    <tr>\n",
       "      <th>489</th>\n",
       "      <td>P18012</td>\n",
       "      <td>F136W</td>\n",
       "      <td>-9.000000</td>\n",
       "    </tr>\n",
       "    <tr>\n",
       "      <th>490</th>\n",
       "      <td>P18012</td>\n",
       "      <td>I336W</td>\n",
       "      <td>-6.860000</td>\n",
       "    </tr>\n",
       "    <tr>\n",
       "      <th>491</th>\n",
       "      <td>P18012</td>\n",
       "      <td>I40W</td>\n",
       "      <td>-6.700000</td>\n",
       "    </tr>\n",
       "    <tr>\n",
       "      <th>492</th>\n",
       "      <td>P18012</td>\n",
       "      <td>K326W</td>\n",
       "      <td>-7.100000</td>\n",
       "    </tr>\n",
       "    <tr>\n",
       "      <th>493</th>\n",
       "      <td>P18012</td>\n",
       "      <td>L154W</td>\n",
       "      <td>-22.600000</td>\n",
       "    </tr>\n",
       "    <tr>\n",
       "      <th>494</th>\n",
       "      <td>P18012</td>\n",
       "      <td>N341W</td>\n",
       "      <td>-11.600000</td>\n",
       "    </tr>\n",
       "    <tr>\n",
       "      <th>495</th>\n",
       "      <td>P18012</td>\n",
       "      <td>R362W</td>\n",
       "      <td>-6.800000</td>\n",
       "    </tr>\n",
       "    <tr>\n",
       "      <th>501</th>\n",
       "      <td>P20789</td>\n",
       "      <td>A86L</td>\n",
       "      <td>6.480000</td>\n",
       "    </tr>\n",
       "    <tr>\n",
       "      <th>510</th>\n",
       "      <td>P20789</td>\n",
       "      <td>F358A</td>\n",
       "      <td>3.740000</td>\n",
       "    </tr>\n",
       "    <tr>\n",
       "      <th>837</th>\n",
       "      <td>P32851</td>\n",
       "      <td>K256A</td>\n",
       "      <td>-1.700000</td>\n",
       "    </tr>\n",
       "    <tr>\n",
       "      <th>838</th>\n",
       "      <td>P32851</td>\n",
       "      <td>K260A</td>\n",
       "      <td>-0.500000</td>\n",
       "    </tr>\n",
       "    <tr>\n",
       "      <th>839</th>\n",
       "      <td>P32851</td>\n",
       "      <td>K264A</td>\n",
       "      <td>-0.500000</td>\n",
       "    </tr>\n",
       "    <tr>\n",
       "      <th>840</th>\n",
       "      <td>P32851</td>\n",
       "      <td>K265A</td>\n",
       "      <td>-0.700000</td>\n",
       "    </tr>\n",
       "    <tr>\n",
       "      <th>841</th>\n",
       "      <td>P32851</td>\n",
       "      <td>Q258A</td>\n",
       "      <td>0.200000</td>\n",
       "    </tr>\n",
       "    <tr>\n",
       "      <th>842</th>\n",
       "      <td>P32851</td>\n",
       "      <td>R262A</td>\n",
       "      <td>-1.400000</td>\n",
       "    </tr>\n",
       "    <tr>\n",
       "      <th>843</th>\n",
       "      <td>P32851</td>\n",
       "      <td>R263A</td>\n",
       "      <td>-0.700000</td>\n",
       "    </tr>\n",
       "    <tr>\n",
       "      <th>844</th>\n",
       "      <td>P32851</td>\n",
       "      <td>Y257A</td>\n",
       "      <td>-4.300000</td>\n",
       "    </tr>\n",
       "    <tr>\n",
       "      <th>962</th>\n",
       "      <td>P95467</td>\n",
       "      <td>E81Q</td>\n",
       "      <td>-2.000000</td>\n",
       "    </tr>\n",
       "    <tr>\n",
       "      <th>963</th>\n",
       "      <td>P95467</td>\n",
       "      <td>W74C</td>\n",
       "      <td>-3.800000</td>\n",
       "    </tr>\n",
       "  </tbody>\n",
       "</table>\n",
       "</div>"
      ]
     },
     "execution_count": 33,
     "metadata": {},
     "output_type": "execute_result"
    }
   ],
   "execution_count": 33
  },
  {
   "cell_type": "markdown",
   "source": [
    "### 5.2.MPTherm-pred对MPThermDB的引用关系"
   ],
   "metadata": {
    "collapsed": false
   },
   "id": "cdc022a8f6112a77"
  },
  {
   "cell_type": "code",
   "source": [
    "pred_MPThermDB_duplicateIndex = Check4Dup(avg_MPThermDB, MPTherm_pred)\n",
    "print(f\"MPTherm-pred中的{len(pred_MPThermDB_duplicateIndex)}来源于MPThermDB\")\n",
    "test_MPThermDB_duplicateIndex = Check4Dup(avg_MPThermDB, MPTherm_pred_Testing)\n",
    "print(f\"MPTherm-pred-Testing中的{len(test_MPThermDB_duplicateIndex)}来源于MPThermDB\")"
   ],
   "metadata": {
    "collapsed": false,
    "ExecuteTime": {
     "end_time": "2024-07-23T03:48:50.897368Z",
     "start_time": "2024-07-23T03:48:50.846630Z"
    }
   },
   "id": "81b3eca4a55f4162",
   "outputs": [
    {
     "name": "stdout",
     "output_type": "stream",
     "text": [
      "MPTherm-pred中的928来源于MPThermDB\n",
      "MPTherm-pred-Testing中的94来源于MPThermDB\n"
     ]
    }
   ],
   "execution_count": 34
  },
  {
   "cell_type": "markdown",
   "source": [
    "### 5.3.HotMusic对ProThermDB的引用关系"
   ],
   "metadata": {
    "collapsed": false
   },
   "id": "83466d6b9ffebdca"
  },
  {
   "cell_type": "code",
   "source": [
    "HotMusic_ProThermDB_duplicateIndex = Check4Dup(avg_ProThermDB, avg_HotMusic)\n",
    "print(\"HotMusic采用了ProThermDB中的{}条数据\".format(len(HotMusic_ProThermDB_duplicateIndex)))"
   ],
   "metadata": {
    "collapsed": false,
    "ExecuteTime": {
     "end_time": "2024-07-23T03:48:50.962387Z",
     "start_time": "2024-07-23T03:48:50.897368Z"
    }
   },
   "id": "27b5093e5bb84872",
   "outputs": [
    {
     "name": "stdout",
     "output_type": "stream",
     "text": [
      "HotMusic采用了ProThermDB中的544条数据\n"
     ]
    }
   ],
   "execution_count": 35
  },
  {
   "cell_type": "markdown",
   "source": [
    "### 5.4.HotMusic对MPTehrmDB的引用量"
   ],
   "metadata": {
    "collapsed": false
   },
   "id": "21d7087bb96edb59"
  },
  {
   "cell_type": "code",
   "source": [
    "HotMusic_MPThermDB_duplicateIndex = Check4Dup(avg_MPThermDB, avg_HotMusic)\n",
    "print(\"HotMusic采用了MPThermDB中的{}条数据\".format(len(HotMusic_MPThermDB_duplicateIndex)))"
   ],
   "metadata": {
    "collapsed": false,
    "ExecuteTime": {
     "end_time": "2024-07-23T03:48:50.998194Z",
     "start_time": "2024-07-23T03:48:50.963384Z"
    }
   },
   "id": "adcdd5ed765a7278",
   "outputs": [
    {
     "name": "stdout",
     "output_type": "stream",
     "text": [
      "HotMusic采用了MPThermDB中的0条数据\n"
     ]
    }
   ],
   "execution_count": 36
  },
  {
   "cell_type": "markdown",
   "source": "## 6.为研究全全体球蛋白预测-在ProthermDB数据集中分割一个测试集",
   "metadata": {
    "collapsed": false
   },
   "id": "40bfe82d5e63e615"
  },
  {
   "metadata": {},
   "cell_type": "markdown",
   "source": "### 6.2.删除对MPThermDB、MPTherm-pred、HotMusic的引用",
   "id": "82e7630f9230ca1d"
  },
  {
   "cell_type": "code",
   "source": [
    "excllent_ProThermDB = avg_ProThermDB.copy()\n",
    "excllent_ProThermDB = delete4Dup(excllent_ProThermDB, avg_MPThermDB, columns)\n",
    "excllent_ProThermDB = delete4Dup(excllent_ProThermDB, avg_HotMusic, columns)\n",
    "excllent_ProThermDB = delete4Dup(excllent_ProThermDB, MPTherm_pred, columns)\n",
    "excllent_ProThermDB"
   ],
   "metadata": {
    "collapsed": false,
    "ExecuteTime": {
     "end_time": "2024-07-23T03:48:51.176689Z",
     "start_time": "2024-07-23T03:48:50.998194Z"
    }
   },
   "id": "f6ae89de7103d7c",
   "outputs": [
    {
     "name": "stdout",
     "output_type": "stream",
     "text": [
      "-前一数据集采用了后一数据集中的37条数据，现已删除\n",
      "-前一数据集采用了后一数据集中的544条数据，现已删除\n",
      "-前一数据集采用了后一数据集中的1条数据，现已删除\n"
     ]
    },
    {
     "data": {
      "text/plain": [
       "      UniProt_ID Mutation    ΔTm\n",
       "0     A0A060GYS1     H22R    9.9\n",
       "1     A0A060GYS1    P224R    2.3\n",
       "2     A0A410ZNC6    A341S    3.6\n",
       "3     A0A410ZNC6    F184L    1.0\n",
       "4     A0A410ZNC6    P250L    4.5\n",
       "...          ...      ...    ...\n",
       "2826      R9S082     T68A   -0.5\n",
       "2827      R9S082    V115A   -2.9\n",
       "2828      R9S082     V14A   -1.3\n",
       "2829      R9S082     V67A    1.4\n",
       "2830      W0TJ64    S176A  78.74\n",
       "\n",
       "[2831 rows x 3 columns]"
      ],
      "text/html": [
       "<div>\n",
       "<style scoped>\n",
       "    .dataframe tbody tr th:only-of-type {\n",
       "        vertical-align: middle;\n",
       "    }\n",
       "\n",
       "    .dataframe tbody tr th {\n",
       "        vertical-align: top;\n",
       "    }\n",
       "\n",
       "    .dataframe thead th {\n",
       "        text-align: right;\n",
       "    }\n",
       "</style>\n",
       "<table border=\"1\" class=\"dataframe\">\n",
       "  <thead>\n",
       "    <tr style=\"text-align: right;\">\n",
       "      <th></th>\n",
       "      <th>UniProt_ID</th>\n",
       "      <th>Mutation</th>\n",
       "      <th>ΔTm</th>\n",
       "    </tr>\n",
       "  </thead>\n",
       "  <tbody>\n",
       "    <tr>\n",
       "      <th>0</th>\n",
       "      <td>A0A060GYS1</td>\n",
       "      <td>H22R</td>\n",
       "      <td>9.9</td>\n",
       "    </tr>\n",
       "    <tr>\n",
       "      <th>1</th>\n",
       "      <td>A0A060GYS1</td>\n",
       "      <td>P224R</td>\n",
       "      <td>2.3</td>\n",
       "    </tr>\n",
       "    <tr>\n",
       "      <th>2</th>\n",
       "      <td>A0A410ZNC6</td>\n",
       "      <td>A341S</td>\n",
       "      <td>3.6</td>\n",
       "    </tr>\n",
       "    <tr>\n",
       "      <th>3</th>\n",
       "      <td>A0A410ZNC6</td>\n",
       "      <td>F184L</td>\n",
       "      <td>1.0</td>\n",
       "    </tr>\n",
       "    <tr>\n",
       "      <th>4</th>\n",
       "      <td>A0A410ZNC6</td>\n",
       "      <td>P250L</td>\n",
       "      <td>4.5</td>\n",
       "    </tr>\n",
       "    <tr>\n",
       "      <th>...</th>\n",
       "      <td>...</td>\n",
       "      <td>...</td>\n",
       "      <td>...</td>\n",
       "    </tr>\n",
       "    <tr>\n",
       "      <th>2826</th>\n",
       "      <td>R9S082</td>\n",
       "      <td>T68A</td>\n",
       "      <td>-0.5</td>\n",
       "    </tr>\n",
       "    <tr>\n",
       "      <th>2827</th>\n",
       "      <td>R9S082</td>\n",
       "      <td>V115A</td>\n",
       "      <td>-2.9</td>\n",
       "    </tr>\n",
       "    <tr>\n",
       "      <th>2828</th>\n",
       "      <td>R9S082</td>\n",
       "      <td>V14A</td>\n",
       "      <td>-1.3</td>\n",
       "    </tr>\n",
       "    <tr>\n",
       "      <th>2829</th>\n",
       "      <td>R9S082</td>\n",
       "      <td>V67A</td>\n",
       "      <td>1.4</td>\n",
       "    </tr>\n",
       "    <tr>\n",
       "      <th>2830</th>\n",
       "      <td>W0TJ64</td>\n",
       "      <td>S176A</td>\n",
       "      <td>78.74</td>\n",
       "    </tr>\n",
       "  </tbody>\n",
       "</table>\n",
       "<p>2831 rows × 3 columns</p>\n",
       "</div>"
      ]
     },
     "execution_count": 37,
     "metadata": {},
     "output_type": "execute_result"
    }
   ],
   "execution_count": 37
  },
  {
   "metadata": {},
   "cell_type": "markdown",
   "source": "### 6.3.生成数据集中UniProt_ID => PDB_ID唯一映射的测试集合，大小取~300",
   "id": "452bfdd431f69993"
  },
  {
   "metadata": {
    "ExecuteTime": {
     "end_time": "2024-07-23T03:48:51.223115Z",
     "start_time": "2024-07-23T03:48:51.176689Z"
    }
   },
   "cell_type": "code",
   "source": [
    "indexs = []\n",
    "for rowIndex, row in excllent_ProThermDB.iterrows():\n",
    "    if \":\".join((row[\"UniProt_ID\"], row[\"Mutation\"])) in ProThermDB_UniPDB:\n",
    "        indexs.append(rowIndex)\n",
    "excllent_ProThermDB_for_Testing = excllent_ProThermDB.iloc[indexs, :]\n",
    "excllent_ProThermDB_for_Testing"
   ],
   "id": "1ff31242e5a3d7f9",
   "outputs": [
    {
     "data": {
      "text/plain": [
       "     UniProt_ID Mutation   ΔTm\n",
       "10       A5H7H0    D119K  0.25\n",
       "11       A5H7H0    D210A -2.17\n",
       "12       A5H7H0    D210S -1.25\n",
       "13       A5H7H0    H116A   0.4\n",
       "14       A5H7H0    H116S -0.07\n",
       "...         ...      ...   ...\n",
       "2825     R9S082     T52A  -2.8\n",
       "2826     R9S082     T68A  -0.5\n",
       "2827     R9S082    V115A  -2.9\n",
       "2828     R9S082     V14A  -1.3\n",
       "2829     R9S082     V67A   1.4\n",
       "\n",
       "[2663 rows x 3 columns]"
      ],
      "text/html": [
       "<div>\n",
       "<style scoped>\n",
       "    .dataframe tbody tr th:only-of-type {\n",
       "        vertical-align: middle;\n",
       "    }\n",
       "\n",
       "    .dataframe tbody tr th {\n",
       "        vertical-align: top;\n",
       "    }\n",
       "\n",
       "    .dataframe thead th {\n",
       "        text-align: right;\n",
       "    }\n",
       "</style>\n",
       "<table border=\"1\" class=\"dataframe\">\n",
       "  <thead>\n",
       "    <tr style=\"text-align: right;\">\n",
       "      <th></th>\n",
       "      <th>UniProt_ID</th>\n",
       "      <th>Mutation</th>\n",
       "      <th>ΔTm</th>\n",
       "    </tr>\n",
       "  </thead>\n",
       "  <tbody>\n",
       "    <tr>\n",
       "      <th>10</th>\n",
       "      <td>A5H7H0</td>\n",
       "      <td>D119K</td>\n",
       "      <td>0.25</td>\n",
       "    </tr>\n",
       "    <tr>\n",
       "      <th>11</th>\n",
       "      <td>A5H7H0</td>\n",
       "      <td>D210A</td>\n",
       "      <td>-2.17</td>\n",
       "    </tr>\n",
       "    <tr>\n",
       "      <th>12</th>\n",
       "      <td>A5H7H0</td>\n",
       "      <td>D210S</td>\n",
       "      <td>-1.25</td>\n",
       "    </tr>\n",
       "    <tr>\n",
       "      <th>13</th>\n",
       "      <td>A5H7H0</td>\n",
       "      <td>H116A</td>\n",
       "      <td>0.4</td>\n",
       "    </tr>\n",
       "    <tr>\n",
       "      <th>14</th>\n",
       "      <td>A5H7H0</td>\n",
       "      <td>H116S</td>\n",
       "      <td>-0.07</td>\n",
       "    </tr>\n",
       "    <tr>\n",
       "      <th>...</th>\n",
       "      <td>...</td>\n",
       "      <td>...</td>\n",
       "      <td>...</td>\n",
       "    </tr>\n",
       "    <tr>\n",
       "      <th>2825</th>\n",
       "      <td>R9S082</td>\n",
       "      <td>T52A</td>\n",
       "      <td>-2.8</td>\n",
       "    </tr>\n",
       "    <tr>\n",
       "      <th>2826</th>\n",
       "      <td>R9S082</td>\n",
       "      <td>T68A</td>\n",
       "      <td>-0.5</td>\n",
       "    </tr>\n",
       "    <tr>\n",
       "      <th>2827</th>\n",
       "      <td>R9S082</td>\n",
       "      <td>V115A</td>\n",
       "      <td>-2.9</td>\n",
       "    </tr>\n",
       "    <tr>\n",
       "      <th>2828</th>\n",
       "      <td>R9S082</td>\n",
       "      <td>V14A</td>\n",
       "      <td>-1.3</td>\n",
       "    </tr>\n",
       "    <tr>\n",
       "      <th>2829</th>\n",
       "      <td>R9S082</td>\n",
       "      <td>V67A</td>\n",
       "      <td>1.4</td>\n",
       "    </tr>\n",
       "  </tbody>\n",
       "</table>\n",
       "<p>2663 rows × 3 columns</p>\n",
       "</div>"
      ]
     },
     "execution_count": 38,
     "metadata": {},
     "output_type": "execute_result"
    }
   ],
   "execution_count": 38
  },
  {
   "cell_type": "code",
   "source": [
    "from sklearn.model_selection import train_test_split\n",
    "\n",
    "_, excllent_ProThermDB_Testing = train_test_split(excllent_ProThermDB_for_Testing, test_size=0.1, random_state=0)   # 从可独立映射的数据集中抽取测试集\n",
    "excllent_ProThermDB_Training = excllent_ProThermDB.drop(excllent_ProThermDB_Testing.index).reset_index(drop=True)   # 在全数据集上去除测试集即得到训练集\n",
    "excllent_ProThermDB_Testing.reset_index(drop=True, inplace=True)\n",
    "excllent_ProThermDB_Training"
   ],
   "metadata": {
    "collapsed": false,
    "ExecuteTime": {
     "end_time": "2024-07-23T03:48:51.537167Z",
     "start_time": "2024-07-23T03:48:51.223115Z"
    }
   },
   "id": "11dc09ad890aabd5",
   "outputs": [
    {
     "data": {
      "text/plain": [
       "      UniProt_ID Mutation    ΔTm\n",
       "0     A0A060GYS1     H22R    9.9\n",
       "1     A0A060GYS1    P224R    2.3\n",
       "2     A0A410ZNC6    A341S    3.6\n",
       "3     A0A410ZNC6    F184L    1.0\n",
       "4     A0A410ZNC6    P250L    4.5\n",
       "...          ...      ...    ...\n",
       "2559      R9S082     T68A   -0.5\n",
       "2560      R9S082    V115A   -2.9\n",
       "2561      R9S082     V14A   -1.3\n",
       "2562      R9S082     V67A    1.4\n",
       "2563      W0TJ64    S176A  78.74\n",
       "\n",
       "[2564 rows x 3 columns]"
      ],
      "text/html": [
       "<div>\n",
       "<style scoped>\n",
       "    .dataframe tbody tr th:only-of-type {\n",
       "        vertical-align: middle;\n",
       "    }\n",
       "\n",
       "    .dataframe tbody tr th {\n",
       "        vertical-align: top;\n",
       "    }\n",
       "\n",
       "    .dataframe thead th {\n",
       "        text-align: right;\n",
       "    }\n",
       "</style>\n",
       "<table border=\"1\" class=\"dataframe\">\n",
       "  <thead>\n",
       "    <tr style=\"text-align: right;\">\n",
       "      <th></th>\n",
       "      <th>UniProt_ID</th>\n",
       "      <th>Mutation</th>\n",
       "      <th>ΔTm</th>\n",
       "    </tr>\n",
       "  </thead>\n",
       "  <tbody>\n",
       "    <tr>\n",
       "      <th>0</th>\n",
       "      <td>A0A060GYS1</td>\n",
       "      <td>H22R</td>\n",
       "      <td>9.9</td>\n",
       "    </tr>\n",
       "    <tr>\n",
       "      <th>1</th>\n",
       "      <td>A0A060GYS1</td>\n",
       "      <td>P224R</td>\n",
       "      <td>2.3</td>\n",
       "    </tr>\n",
       "    <tr>\n",
       "      <th>2</th>\n",
       "      <td>A0A410ZNC6</td>\n",
       "      <td>A341S</td>\n",
       "      <td>3.6</td>\n",
       "    </tr>\n",
       "    <tr>\n",
       "      <th>3</th>\n",
       "      <td>A0A410ZNC6</td>\n",
       "      <td>F184L</td>\n",
       "      <td>1.0</td>\n",
       "    </tr>\n",
       "    <tr>\n",
       "      <th>4</th>\n",
       "      <td>A0A410ZNC6</td>\n",
       "      <td>P250L</td>\n",
       "      <td>4.5</td>\n",
       "    </tr>\n",
       "    <tr>\n",
       "      <th>...</th>\n",
       "      <td>...</td>\n",
       "      <td>...</td>\n",
       "      <td>...</td>\n",
       "    </tr>\n",
       "    <tr>\n",
       "      <th>2559</th>\n",
       "      <td>R9S082</td>\n",
       "      <td>T68A</td>\n",
       "      <td>-0.5</td>\n",
       "    </tr>\n",
       "    <tr>\n",
       "      <th>2560</th>\n",
       "      <td>R9S082</td>\n",
       "      <td>V115A</td>\n",
       "      <td>-2.9</td>\n",
       "    </tr>\n",
       "    <tr>\n",
       "      <th>2561</th>\n",
       "      <td>R9S082</td>\n",
       "      <td>V14A</td>\n",
       "      <td>-1.3</td>\n",
       "    </tr>\n",
       "    <tr>\n",
       "      <th>2562</th>\n",
       "      <td>R9S082</td>\n",
       "      <td>V67A</td>\n",
       "      <td>1.4</td>\n",
       "    </tr>\n",
       "    <tr>\n",
       "      <th>2563</th>\n",
       "      <td>W0TJ64</td>\n",
       "      <td>S176A</td>\n",
       "      <td>78.74</td>\n",
       "    </tr>\n",
       "  </tbody>\n",
       "</table>\n",
       "<p>2564 rows × 3 columns</p>\n",
       "</div>"
      ]
     },
     "execution_count": 39,
     "metadata": {},
     "output_type": "execute_result"
    }
   ],
   "execution_count": 39
  },
  {
   "metadata": {},
   "cell_type": "code",
   "source": "excllent_ProThermDB_Testing",
   "id": "68132af67468d41e",
   "outputs": [
    {
     "data": {
      "text/plain": [
       "    UniProt_ID Mutation    ΔTm\n",
       "0       P03050      S5A   -1.5\n",
       "1       Q13526     T29A  -14.3\n",
       "2       P07845    Y111N    0.0\n",
       "3       P00711    D106N   19.6\n",
       "4       Q15059    H395R   -2.6\n",
       "..         ...      ...    ...\n",
       "262     P61495    H179K  -1.05\n",
       "263     P00044     F16M  -15.2\n",
       "264     P00644    T144Q -12.95\n",
       "265     P05798     L21A   -1.6\n",
       "266     P00918      Y7S   -9.1\n",
       "\n",
       "[267 rows x 3 columns]"
      ],
      "text/html": [
       "<div>\n",
       "<style scoped>\n",
       "    .dataframe tbody tr th:only-of-type {\n",
       "        vertical-align: middle;\n",
       "    }\n",
       "\n",
       "    .dataframe tbody tr th {\n",
       "        vertical-align: top;\n",
       "    }\n",
       "\n",
       "    .dataframe thead th {\n",
       "        text-align: right;\n",
       "    }\n",
       "</style>\n",
       "<table border=\"1\" class=\"dataframe\">\n",
       "  <thead>\n",
       "    <tr style=\"text-align: right;\">\n",
       "      <th></th>\n",
       "      <th>UniProt_ID</th>\n",
       "      <th>Mutation</th>\n",
       "      <th>ΔTm</th>\n",
       "    </tr>\n",
       "  </thead>\n",
       "  <tbody>\n",
       "    <tr>\n",
       "      <th>0</th>\n",
       "      <td>P03050</td>\n",
       "      <td>S5A</td>\n",
       "      <td>-1.5</td>\n",
       "    </tr>\n",
       "    <tr>\n",
       "      <th>1</th>\n",
       "      <td>Q13526</td>\n",
       "      <td>T29A</td>\n",
       "      <td>-14.3</td>\n",
       "    </tr>\n",
       "    <tr>\n",
       "      <th>2</th>\n",
       "      <td>P07845</td>\n",
       "      <td>Y111N</td>\n",
       "      <td>0.0</td>\n",
       "    </tr>\n",
       "    <tr>\n",
       "      <th>3</th>\n",
       "      <td>P00711</td>\n",
       "      <td>D106N</td>\n",
       "      <td>19.6</td>\n",
       "    </tr>\n",
       "    <tr>\n",
       "      <th>4</th>\n",
       "      <td>Q15059</td>\n",
       "      <td>H395R</td>\n",
       "      <td>-2.6</td>\n",
       "    </tr>\n",
       "    <tr>\n",
       "      <th>...</th>\n",
       "      <td>...</td>\n",
       "      <td>...</td>\n",
       "      <td>...</td>\n",
       "    </tr>\n",
       "    <tr>\n",
       "      <th>262</th>\n",
       "      <td>P61495</td>\n",
       "      <td>H179K</td>\n",
       "      <td>-1.05</td>\n",
       "    </tr>\n",
       "    <tr>\n",
       "      <th>263</th>\n",
       "      <td>P00044</td>\n",
       "      <td>F16M</td>\n",
       "      <td>-15.2</td>\n",
       "    </tr>\n",
       "    <tr>\n",
       "      <th>264</th>\n",
       "      <td>P00644</td>\n",
       "      <td>T144Q</td>\n",
       "      <td>-12.95</td>\n",
       "    </tr>\n",
       "    <tr>\n",
       "      <th>265</th>\n",
       "      <td>P05798</td>\n",
       "      <td>L21A</td>\n",
       "      <td>-1.6</td>\n",
       "    </tr>\n",
       "    <tr>\n",
       "      <th>266</th>\n",
       "      <td>P00918</td>\n",
       "      <td>Y7S</td>\n",
       "      <td>-9.1</td>\n",
       "    </tr>\n",
       "  </tbody>\n",
       "</table>\n",
       "<p>267 rows × 3 columns</p>\n",
       "</div>"
      ]
     },
     "execution_count": 40,
     "metadata": {},
     "output_type": "execute_result"
    }
   ],
   "execution_count": 40
  },
  {
   "metadata": {},
   "cell_type": "markdown",
   "source": "### 6.4.生成包含(PDB_ID, PDB_Mutation, PDB_Chain)的数据集用于与之前预测器进行比较",
   "id": "5090e1b7bf6f3e50"
  },
  {
   "metadata": {
    "ExecuteTime": {
     "end_time": "2024-07-23T03:48:51.549215Z",
     "start_time": "2024-07-23T03:48:51.542212Z"
    }
   },
   "cell_type": "code",
   "source": [
    "excllent_ProThermDB_Testing4Comparison = excllent_ProThermDB_Testing.copy()\n",
    "excllent_ProThermDB_Testing4Comparison[\"PDB_Chain_Mutation\"] = excllent_ProThermDB_Testing4Comparison.apply(lambda row: ProThermDB_UniPDB[row[\"UniProt_ID\"] + \":\" + row[\"Mutation\"]], axis=1)\n",
    "excllent_ProThermDB_Testing4Comparison"
   ],
   "id": "8d1583de34f89802",
   "outputs": [
    {
     "data": {
      "text/plain": [
       "    UniProt_ID Mutation    ΔTm PDB_Chain_Mutation\n",
       "0       P03050      S5A   -1.5         1arr_A:S5A\n",
       "1       Q13526     T29A  -14.3        1pin_A:T29A\n",
       "2       P07845    Y111N    0.0       1gwy_A:Y111N\n",
       "3       P00711    D106N   19.6        1hfz_A:D87N\n",
       "4       Q15059    H395R   -2.6       3s92_A:H395R\n",
       "..         ...      ...    ...                ...\n",
       "262     P61495    H179K  -1.05       1osi_A:H179K\n",
       "263     P00044     F16M  -15.2        1ycc_A:F10M\n",
       "264     P00644    T144Q -12.95        1stn_A:T62Q\n",
       "265     P05798     L21A   -1.6        1rgg_A:L21A\n",
       "266     P00918      Y7S   -9.1         2ili_A:Y7S\n",
       "\n",
       "[267 rows x 4 columns]"
      ],
      "text/html": [
       "<div>\n",
       "<style scoped>\n",
       "    .dataframe tbody tr th:only-of-type {\n",
       "        vertical-align: middle;\n",
       "    }\n",
       "\n",
       "    .dataframe tbody tr th {\n",
       "        vertical-align: top;\n",
       "    }\n",
       "\n",
       "    .dataframe thead th {\n",
       "        text-align: right;\n",
       "    }\n",
       "</style>\n",
       "<table border=\"1\" class=\"dataframe\">\n",
       "  <thead>\n",
       "    <tr style=\"text-align: right;\">\n",
       "      <th></th>\n",
       "      <th>UniProt_ID</th>\n",
       "      <th>Mutation</th>\n",
       "      <th>ΔTm</th>\n",
       "      <th>PDB_Chain_Mutation</th>\n",
       "    </tr>\n",
       "  </thead>\n",
       "  <tbody>\n",
       "    <tr>\n",
       "      <th>0</th>\n",
       "      <td>P03050</td>\n",
       "      <td>S5A</td>\n",
       "      <td>-1.5</td>\n",
       "      <td>1arr_A:S5A</td>\n",
       "    </tr>\n",
       "    <tr>\n",
       "      <th>1</th>\n",
       "      <td>Q13526</td>\n",
       "      <td>T29A</td>\n",
       "      <td>-14.3</td>\n",
       "      <td>1pin_A:T29A</td>\n",
       "    </tr>\n",
       "    <tr>\n",
       "      <th>2</th>\n",
       "      <td>P07845</td>\n",
       "      <td>Y111N</td>\n",
       "      <td>0.0</td>\n",
       "      <td>1gwy_A:Y111N</td>\n",
       "    </tr>\n",
       "    <tr>\n",
       "      <th>3</th>\n",
       "      <td>P00711</td>\n",
       "      <td>D106N</td>\n",
       "      <td>19.6</td>\n",
       "      <td>1hfz_A:D87N</td>\n",
       "    </tr>\n",
       "    <tr>\n",
       "      <th>4</th>\n",
       "      <td>Q15059</td>\n",
       "      <td>H395R</td>\n",
       "      <td>-2.6</td>\n",
       "      <td>3s92_A:H395R</td>\n",
       "    </tr>\n",
       "    <tr>\n",
       "      <th>...</th>\n",
       "      <td>...</td>\n",
       "      <td>...</td>\n",
       "      <td>...</td>\n",
       "      <td>...</td>\n",
       "    </tr>\n",
       "    <tr>\n",
       "      <th>262</th>\n",
       "      <td>P61495</td>\n",
       "      <td>H179K</td>\n",
       "      <td>-1.05</td>\n",
       "      <td>1osi_A:H179K</td>\n",
       "    </tr>\n",
       "    <tr>\n",
       "      <th>263</th>\n",
       "      <td>P00044</td>\n",
       "      <td>F16M</td>\n",
       "      <td>-15.2</td>\n",
       "      <td>1ycc_A:F10M</td>\n",
       "    </tr>\n",
       "    <tr>\n",
       "      <th>264</th>\n",
       "      <td>P00644</td>\n",
       "      <td>T144Q</td>\n",
       "      <td>-12.95</td>\n",
       "      <td>1stn_A:T62Q</td>\n",
       "    </tr>\n",
       "    <tr>\n",
       "      <th>265</th>\n",
       "      <td>P05798</td>\n",
       "      <td>L21A</td>\n",
       "      <td>-1.6</td>\n",
       "      <td>1rgg_A:L21A</td>\n",
       "    </tr>\n",
       "    <tr>\n",
       "      <th>266</th>\n",
       "      <td>P00918</td>\n",
       "      <td>Y7S</td>\n",
       "      <td>-9.1</td>\n",
       "      <td>2ili_A:Y7S</td>\n",
       "    </tr>\n",
       "  </tbody>\n",
       "</table>\n",
       "<p>267 rows × 4 columns</p>\n",
       "</div>"
      ]
     },
     "execution_count": 41,
     "metadata": {},
     "output_type": "execute_result"
    }
   ],
   "execution_count": 41
  },
  {
   "metadata": {},
   "cell_type": "markdown",
   "source": "### 6.4.存储ProThermDB训练/测试数据集",
   "id": "e551cece521fa261"
  },
  {
   "cell_type": "code",
   "source": [
    "# excllent_ProThermDB_Training.to_csv(\"BasicData/ProThermDB/common/excllent_ProThermDB_Training.csv\", index=False)\n",
    "# excllent_ProThermDB_Testing.to_csv(\"BasicData/ProThermDB/common/excllent_ProThermDB_Testing.csv\", index=False)\n",
    "# excllent_ProThermDB_Testing4Comparison.to_csv(\"BasicData/ProThermDB/common/excllent_ProThermDB_Testing4Comparison.csv\", index=False)"
   ],
   "metadata": {
    "collapsed": false,
    "ExecuteTime": {
     "end_time": "2024-07-23T03:48:51.551621Z",
     "start_time": "2024-07-23T03:48:51.549215Z"
    }
   },
   "id": "1bd93b79d783d3f7",
   "outputs": [],
   "execution_count": 42
  },
  {
   "cell_type": "markdown",
   "source": "## 7.拼接所有可用数据为PonDB",
   "metadata": {
    "collapsed": false
   },
   "id": "38fc2561894e5faa"
  },
  {
   "cell_type": "code",
   "source": [
    "PonDB = pd.concat([avg_HotMusic, avg_MPThermDB, avg_ProThermDB, MPTherm_pred_Training], axis=0, ignore_index=True).drop_duplicates(subset=columns, keep=False).reset_index(drop=True)\n",
    "PonDB = delete4Dup(PonDB, MPTherm_pred_Testing, columns)\n",
    "PonDB = delete4Dup(PonDB, excllent_ProThermDB_Testing, columns)\n",
    "PonDB"
   ],
   "metadata": {
    "collapsed": false,
    "ExecuteTime": {
     "end_time": "2024-07-23T03:48:51.660405Z",
     "start_time": "2024-07-23T03:48:51.551621Z"
    }
   },
   "id": "3b549b1ef7feb045",
   "outputs": [
    {
     "name": "stdout",
     "output_type": "stream",
     "text": [
      "-前一数据集采用了后一数据集中的89条数据，现已删除\n",
      "-前一数据集采用了后一数据集中的267条数据，现已删除\n"
     ]
    },
    {
     "data": {
      "text/plain": [
       "     UniProt_ID Mutation    ΔTm\n",
       "0        A8PUY1    N277D    2.0\n",
       "1        A8PUY1    N277F  -16.3\n",
       "2        A8PUY1    N277L  -12.0\n",
       "3        A8PUY1    N277V  -13.5\n",
       "4        O68541    D348G   -4.5\n",
       "...         ...      ...    ...\n",
       "3434     R9S082     T68A   -0.5\n",
       "3435     R9S082    V115A   -2.9\n",
       "3436     R9S082     V14A   -1.3\n",
       "3437     R9S082     V67A    1.4\n",
       "3438     W0TJ64    S176A  78.74\n",
       "\n",
       "[3439 rows x 3 columns]"
      ],
      "text/html": [
       "<div>\n",
       "<style scoped>\n",
       "    .dataframe tbody tr th:only-of-type {\n",
       "        vertical-align: middle;\n",
       "    }\n",
       "\n",
       "    .dataframe tbody tr th {\n",
       "        vertical-align: top;\n",
       "    }\n",
       "\n",
       "    .dataframe thead th {\n",
       "        text-align: right;\n",
       "    }\n",
       "</style>\n",
       "<table border=\"1\" class=\"dataframe\">\n",
       "  <thead>\n",
       "    <tr style=\"text-align: right;\">\n",
       "      <th></th>\n",
       "      <th>UniProt_ID</th>\n",
       "      <th>Mutation</th>\n",
       "      <th>ΔTm</th>\n",
       "    </tr>\n",
       "  </thead>\n",
       "  <tbody>\n",
       "    <tr>\n",
       "      <th>0</th>\n",
       "      <td>A8PUY1</td>\n",
       "      <td>N277D</td>\n",
       "      <td>2.0</td>\n",
       "    </tr>\n",
       "    <tr>\n",
       "      <th>1</th>\n",
       "      <td>A8PUY1</td>\n",
       "      <td>N277F</td>\n",
       "      <td>-16.3</td>\n",
       "    </tr>\n",
       "    <tr>\n",
       "      <th>2</th>\n",
       "      <td>A8PUY1</td>\n",
       "      <td>N277L</td>\n",
       "      <td>-12.0</td>\n",
       "    </tr>\n",
       "    <tr>\n",
       "      <th>3</th>\n",
       "      <td>A8PUY1</td>\n",
       "      <td>N277V</td>\n",
       "      <td>-13.5</td>\n",
       "    </tr>\n",
       "    <tr>\n",
       "      <th>4</th>\n",
       "      <td>O68541</td>\n",
       "      <td>D348G</td>\n",
       "      <td>-4.5</td>\n",
       "    </tr>\n",
       "    <tr>\n",
       "      <th>...</th>\n",
       "      <td>...</td>\n",
       "      <td>...</td>\n",
       "      <td>...</td>\n",
       "    </tr>\n",
       "    <tr>\n",
       "      <th>3434</th>\n",
       "      <td>R9S082</td>\n",
       "      <td>T68A</td>\n",
       "      <td>-0.5</td>\n",
       "    </tr>\n",
       "    <tr>\n",
       "      <th>3435</th>\n",
       "      <td>R9S082</td>\n",
       "      <td>V115A</td>\n",
       "      <td>-2.9</td>\n",
       "    </tr>\n",
       "    <tr>\n",
       "      <th>3436</th>\n",
       "      <td>R9S082</td>\n",
       "      <td>V14A</td>\n",
       "      <td>-1.3</td>\n",
       "    </tr>\n",
       "    <tr>\n",
       "      <th>3437</th>\n",
       "      <td>R9S082</td>\n",
       "      <td>V67A</td>\n",
       "      <td>1.4</td>\n",
       "    </tr>\n",
       "    <tr>\n",
       "      <th>3438</th>\n",
       "      <td>W0TJ64</td>\n",
       "      <td>S176A</td>\n",
       "      <td>78.74</td>\n",
       "    </tr>\n",
       "  </tbody>\n",
       "</table>\n",
       "<p>3439 rows × 3 columns</p>\n",
       "</div>"
      ]
     },
     "execution_count": 43,
     "metadata": {},
     "output_type": "execute_result"
    }
   ],
   "execution_count": 43
  },
  {
   "cell_type": "code",
   "source": "# PonDB.to_csv(\"BasicData/PonDB/common/PonDB.csv\", index=False)",
   "metadata": {
    "collapsed": false,
    "ExecuteTime": {
     "end_time": "2024-07-23T03:48:51.662852Z",
     "start_time": "2024-07-23T03:48:51.660405Z"
    }
   },
   "id": "f21be29fd077e0fd",
   "outputs": [],
   "execution_count": 44
  },
  {
   "cell_type": "code",
   "source": [
    "plt.figure(figsize=(15, 7.5), dpi=100)\n",
    "plt.hist(PonDB[\"ΔTm\"].astype(float).sort_values(),\n",
    "         bins=100,\n",
    "         color=\"yellowgreen\",\n",
    "         range=(-50, 50))\n",
    "plt.xlabel(\"ΔTm\", size=18)\n",
    "plt.gca().xaxis.set_major_locator(ticker.MultipleLocator(10))\n",
    "\n",
    "# 标题与坐标轴标签\n",
    "plt.title(\"ΔTm-frequency-in-MPThermDB-single-with-nothing-averaged\",\n",
    "          loc=\"center\",\n",
    "          fontdict={\"family\" : \"Times New Roman\",\n",
    "                    \"size\" : 24,\n",
    "                    \"weight\" : \"bold\"})\n",
    "plt.xlabel(\"ΔTm\", fontdict={\"family\" : \"Times New Roman\", \"size\" : 20, \"weight\" : \"normal\"})\n",
    "plt.ylabel(\"frequency\", fontdict={\"family\" : \"Times New Roman\", \"size\" : 20, \"weight\" : \"normal\"})\n",
    "\n",
    "plt.xticks(size=12)\n",
    "plt.yticks(size=12)\n",
    "plt.rcParams[\"axes.facecolor\"] = \"white\"\n",
    "plt.grid()\n",
    "plt.show()"
   ],
   "metadata": {
    "collapsed": false,
    "ExecuteTime": {
     "end_time": "2024-07-23T03:48:51.836436Z",
     "start_time": "2024-07-23T03:48:51.662852Z"
    }
   },
   "id": "c3740443141ad875",
   "outputs": [
    {
     "data": {
      "text/plain": [
       "<Figure size 1500x750 with 1 Axes>"
      ],
      "image/png": "[encoded data removed]"
     },
     "metadata": {},
     "output_type": "display_data"
    }
   ],
   "execution_count": 45
  },
  {
   "cell_type": "markdown",
   "source": "## 8.数据验证",
   "metadata": {
    "collapsed": false
   },
   "id": "1ca9595a5377b66c"
  },
  {
   "cell_type": "code",
   "source": [
    "avg_ProThermDB"
   ],
   "metadata": {
    "collapsed": false,
    "ExecuteTime": {
     "end_time": "2024-07-23T03:48:51.841274Z",
     "start_time": "2024-07-23T03:48:51.836436Z"
    }
   },
   "id": "fd5306c7771971b",
   "outputs": [
    {
     "data": {
      "text/plain": [
       "      UniProt_ID Mutation    ΔTm\n",
       "0     A0A060GYS1     H22R    9.9\n",
       "1     A0A060GYS1    P224R    2.3\n",
       "2     A0A410ZNC6    A341S    3.6\n",
       "3     A0A410ZNC6    F184L    1.0\n",
       "4     A0A410ZNC6    P250L    4.5\n",
       "...          ...      ...    ...\n",
       "3408      R9S082     T68A   -0.5\n",
       "3409      R9S082    V115A   -2.9\n",
       "3410      R9S082     V14A   -1.3\n",
       "3411      R9S082     V67A    1.4\n",
       "3412      W0TJ64    S176A  78.74\n",
       "\n",
       "[3413 rows x 3 columns]"
      ],
      "text/html": [
       "<div>\n",
       "<style scoped>\n",
       "    .dataframe tbody tr th:only-of-type {\n",
       "        vertical-align: middle;\n",
       "    }\n",
       "\n",
       "    .dataframe tbody tr th {\n",
       "        vertical-align: top;\n",
       "    }\n",
       "\n",
       "    .dataframe thead th {\n",
       "        text-align: right;\n",
       "    }\n",
       "</style>\n",
       "<table border=\"1\" class=\"dataframe\">\n",
       "  <thead>\n",
       "    <tr style=\"text-align: right;\">\n",
       "      <th></th>\n",
       "      <th>UniProt_ID</th>\n",
       "      <th>Mutation</th>\n",
       "      <th>ΔTm</th>\n",
       "    </tr>\n",
       "  </thead>\n",
       "  <tbody>\n",
       "    <tr>\n",
       "      <th>0</th>\n",
       "      <td>A0A060GYS1</td>\n",
       "      <td>H22R</td>\n",
       "      <td>9.9</td>\n",
       "    </tr>\n",
       "    <tr>\n",
       "      <th>1</th>\n",
       "      <td>A0A060GYS1</td>\n",
       "      <td>P224R</td>\n",
       "      <td>2.3</td>\n",
       "    </tr>\n",
       "    <tr>\n",
       "      <th>2</th>\n",
       "      <td>A0A410ZNC6</td>\n",
       "      <td>A341S</td>\n",
       "      <td>3.6</td>\n",
       "    </tr>\n",
       "    <tr>\n",
       "      <th>3</th>\n",
       "      <td>A0A410ZNC6</td>\n",
       "      <td>F184L</td>\n",
       "      <td>1.0</td>\n",
       "    </tr>\n",
       "    <tr>\n",
       "      <th>4</th>\n",
       "      <td>A0A410ZNC6</td>\n",
       "      <td>P250L</td>\n",
       "      <td>4.5</td>\n",
       "    </tr>\n",
       "    <tr>\n",
       "      <th>...</th>\n",
       "      <td>...</td>\n",
       "      <td>...</td>\n",
       "      <td>...</td>\n",
       "    </tr>\n",
       "    <tr>\n",
       "      <th>3408</th>\n",
       "      <td>R9S082</td>\n",
       "      <td>T68A</td>\n",
       "      <td>-0.5</td>\n",
       "    </tr>\n",
       "    <tr>\n",
       "      <th>3409</th>\n",
       "      <td>R9S082</td>\n",
       "      <td>V115A</td>\n",
       "      <td>-2.9</td>\n",
       "    </tr>\n",
       "    <tr>\n",
       "      <th>3410</th>\n",
       "      <td>R9S082</td>\n",
       "      <td>V14A</td>\n",
       "      <td>-1.3</td>\n",
       "    </tr>\n",
       "    <tr>\n",
       "      <th>3411</th>\n",
       "      <td>R9S082</td>\n",
       "      <td>V67A</td>\n",
       "      <td>1.4</td>\n",
       "    </tr>\n",
       "    <tr>\n",
       "      <th>3412</th>\n",
       "      <td>W0TJ64</td>\n",
       "      <td>S176A</td>\n",
       "      <td>78.74</td>\n",
       "    </tr>\n",
       "  </tbody>\n",
       "</table>\n",
       "<p>3413 rows × 3 columns</p>\n",
       "</div>"
      ]
     },
     "execution_count": 46,
     "metadata": {},
     "output_type": "execute_result"
    }
   ],
   "execution_count": 46
  },
  {
   "cell_type": "code",
   "source": [
    "avg_HotMusic"
   ],
   "metadata": {
    "collapsed": false,
    "ExecuteTime": {
     "end_time": "2024-07-23T03:48:51.846357Z",
     "start_time": "2024-07-23T03:48:51.841274Z"
    }
   },
   "id": "8a13decc8573dc9",
   "outputs": [
    {
     "data": {
      "text/plain": [
       "     UniProt_ID Mutation   ΔTm\n",
       "0        A8PUY1    N277D   2.0\n",
       "1        A8PUY1    N277F -16.3\n",
       "2        A8PUY1    N277L -12.0\n",
       "3        A8PUY1    N277V -13.5\n",
       "4        D4Z2G1    A129V  -1.5\n",
       "...         ...      ...   ...\n",
       "1215     Q9ZEU2    R446F   0.2\n",
       "1216     Q9ZEU2    R509A   0.0\n",
       "1217     Q9ZEU2    Y147A  -1.0\n",
       "1218     Q9ZEU2    Y147F  -0.2\n",
       "1219     Q9ZEU2    Y147N  -1.0\n",
       "\n",
       "[1220 rows x 3 columns]"
      ],
      "text/html": [
       "<div>\n",
       "<style scoped>\n",
       "    .dataframe tbody tr th:only-of-type {\n",
       "        vertical-align: middle;\n",
       "    }\n",
       "\n",
       "    .dataframe tbody tr th {\n",
       "        vertical-align: top;\n",
       "    }\n",
       "\n",
       "    .dataframe thead th {\n",
       "        text-align: right;\n",
       "    }\n",
       "</style>\n",
       "<table border=\"1\" class=\"dataframe\">\n",
       "  <thead>\n",
       "    <tr style=\"text-align: right;\">\n",
       "      <th></th>\n",
       "      <th>UniProt_ID</th>\n",
       "      <th>Mutation</th>\n",
       "      <th>ΔTm</th>\n",
       "    </tr>\n",
       "  </thead>\n",
       "  <tbody>\n",
       "    <tr>\n",
       "      <th>0</th>\n",
       "      <td>A8PUY1</td>\n",
       "      <td>N277D</td>\n",
       "      <td>2.0</td>\n",
       "    </tr>\n",
       "    <tr>\n",
       "      <th>1</th>\n",
       "      <td>A8PUY1</td>\n",
       "      <td>N277F</td>\n",
       "      <td>-16.3</td>\n",
       "    </tr>\n",
       "    <tr>\n",
       "      <th>2</th>\n",
       "      <td>A8PUY1</td>\n",
       "      <td>N277L</td>\n",
       "      <td>-12.0</td>\n",
       "    </tr>\n",
       "    <tr>\n",
       "      <th>3</th>\n",
       "      <td>A8PUY1</td>\n",
       "      <td>N277V</td>\n",
       "      <td>-13.5</td>\n",
       "    </tr>\n",
       "    <tr>\n",
       "      <th>4</th>\n",
       "      <td>D4Z2G1</td>\n",
       "      <td>A129V</td>\n",
       "      <td>-1.5</td>\n",
       "    </tr>\n",
       "    <tr>\n",
       "      <th>...</th>\n",
       "      <td>...</td>\n",
       "      <td>...</td>\n",
       "      <td>...</td>\n",
       "    </tr>\n",
       "    <tr>\n",
       "      <th>1215</th>\n",
       "      <td>Q9ZEU2</td>\n",
       "      <td>R446F</td>\n",
       "      <td>0.2</td>\n",
       "    </tr>\n",
       "    <tr>\n",
       "      <th>1216</th>\n",
       "      <td>Q9ZEU2</td>\n",
       "      <td>R509A</td>\n",
       "      <td>0.0</td>\n",
       "    </tr>\n",
       "    <tr>\n",
       "      <th>1217</th>\n",
       "      <td>Q9ZEU2</td>\n",
       "      <td>Y147A</td>\n",
       "      <td>-1.0</td>\n",
       "    </tr>\n",
       "    <tr>\n",
       "      <th>1218</th>\n",
       "      <td>Q9ZEU2</td>\n",
       "      <td>Y147F</td>\n",
       "      <td>-0.2</td>\n",
       "    </tr>\n",
       "    <tr>\n",
       "      <th>1219</th>\n",
       "      <td>Q9ZEU2</td>\n",
       "      <td>Y147N</td>\n",
       "      <td>-1.0</td>\n",
       "    </tr>\n",
       "  </tbody>\n",
       "</table>\n",
       "<p>1220 rows × 3 columns</p>\n",
       "</div>"
      ]
     },
     "execution_count": 47,
     "metadata": {},
     "output_type": "execute_result"
    }
   ],
   "execution_count": 47
  },
  {
   "cell_type": "code",
   "source": [
    "PonDB"
   ],
   "metadata": {
    "collapsed": false,
    "ExecuteTime": {
     "end_time": "2024-07-23T03:48:51.851409Z",
     "start_time": "2024-07-23T03:48:51.846357Z"
    }
   },
   "id": "d01410c1f7b3c3d5",
   "outputs": [
    {
     "data": {
      "text/plain": [
       "     UniProt_ID Mutation    ΔTm\n",
       "0        A8PUY1    N277D    2.0\n",
       "1        A8PUY1    N277F  -16.3\n",
       "2        A8PUY1    N277L  -12.0\n",
       "3        A8PUY1    N277V  -13.5\n",
       "4        O68541    D348G   -4.5\n",
       "...         ...      ...    ...\n",
       "3434     R9S082     T68A   -0.5\n",
       "3435     R9S082    V115A   -2.9\n",
       "3436     R9S082     V14A   -1.3\n",
       "3437     R9S082     V67A    1.4\n",
       "3438     W0TJ64    S176A  78.74\n",
       "\n",
       "[3439 rows x 3 columns]"
      ],
      "text/html": [
       "<div>\n",
       "<style scoped>\n",
       "    .dataframe tbody tr th:only-of-type {\n",
       "        vertical-align: middle;\n",
       "    }\n",
       "\n",
       "    .dataframe tbody tr th {\n",
       "        vertical-align: top;\n",
       "    }\n",
       "\n",
       "    .dataframe thead th {\n",
       "        text-align: right;\n",
       "    }\n",
       "</style>\n",
       "<table border=\"1\" class=\"dataframe\">\n",
       "  <thead>\n",
       "    <tr style=\"text-align: right;\">\n",
       "      <th></th>\n",
       "      <th>UniProt_ID</th>\n",
       "      <th>Mutation</th>\n",
       "      <th>ΔTm</th>\n",
       "    </tr>\n",
       "  </thead>\n",
       "  <tbody>\n",
       "    <tr>\n",
       "      <th>0</th>\n",
       "      <td>A8PUY1</td>\n",
       "      <td>N277D</td>\n",
       "      <td>2.0</td>\n",
       "    </tr>\n",
       "    <tr>\n",
       "      <th>1</th>\n",
       "      <td>A8PUY1</td>\n",
       "      <td>N277F</td>\n",
       "      <td>-16.3</td>\n",
       "    </tr>\n",
       "    <tr>\n",
       "      <th>2</th>\n",
       "      <td>A8PUY1</td>\n",
       "      <td>N277L</td>\n",
       "      <td>-12.0</td>\n",
       "    </tr>\n",
       "    <tr>\n",
       "      <th>3</th>\n",
       "      <td>A8PUY1</td>\n",
       "      <td>N277V</td>\n",
       "      <td>-13.5</td>\n",
       "    </tr>\n",
       "    <tr>\n",
       "      <th>4</th>\n",
       "      <td>O68541</td>\n",
       "      <td>D348G</td>\n",
       "      <td>-4.5</td>\n",
       "    </tr>\n",
       "    <tr>\n",
       "      <th>...</th>\n",
       "      <td>...</td>\n",
       "      <td>...</td>\n",
       "      <td>...</td>\n",
       "    </tr>\n",
       "    <tr>\n",
       "      <th>3434</th>\n",
       "      <td>R9S082</td>\n",
       "      <td>T68A</td>\n",
       "      <td>-0.5</td>\n",
       "    </tr>\n",
       "    <tr>\n",
       "      <th>3435</th>\n",
       "      <td>R9S082</td>\n",
       "      <td>V115A</td>\n",
       "      <td>-2.9</td>\n",
       "    </tr>\n",
       "    <tr>\n",
       "      <th>3436</th>\n",
       "      <td>R9S082</td>\n",
       "      <td>V14A</td>\n",
       "      <td>-1.3</td>\n",
       "    </tr>\n",
       "    <tr>\n",
       "      <th>3437</th>\n",
       "      <td>R9S082</td>\n",
       "      <td>V67A</td>\n",
       "      <td>1.4</td>\n",
       "    </tr>\n",
       "    <tr>\n",
       "      <th>3438</th>\n",
       "      <td>W0TJ64</td>\n",
       "      <td>S176A</td>\n",
       "      <td>78.74</td>\n",
       "    </tr>\n",
       "  </tbody>\n",
       "</table>\n",
       "<p>3439 rows × 3 columns</p>\n",
       "</div>"
      ]
     },
     "execution_count": 48,
     "metadata": {},
     "output_type": "execute_result"
    }
   ],
   "execution_count": 48
  },
  {
   "metadata": {
    "ExecuteTime": {
     "end_time": "2024-07-23T03:49:54.937059Z",
     "start_time": "2024-07-23T03:49:54.933712Z"
    }
   },
   "cell_type": "code",
   "source": "PonDB[\"ΔTm\"].var()",
   "id": "6aa1f0f1cfa0d6f8",
   "outputs": [
    {
     "data": {
      "text/plain": [
       "84.07698553586073"
      ]
     },
     "execution_count": 50,
     "metadata": {},
     "output_type": "execute_result"
    }
   ],
   "execution_count": 50
  }
 ],
 "metadata": {
  "kernelspec": {
   "display_name": "Python 3 (ipykernel)",
   "language": "python",
   "name": "python3"
  },
  "language_info": {
   "codemirror_mode": {
    "name": "ipython",
    "version": 3
   },
   "file_extension": ".py",
   "mimetype": "text/x-python",
   "name": "python",
   "nbconvert_exporter": "python",
   "pygments_lexer": "ipython3",
   "version": "3.11.8"
  },
  "widgets": {
   "application/vnd.jupyter.widget-state+json": {
    "state": {},
    "version_major": 2,
    "version_minor": 0
   }
  }
 },
 "nbformat": 4,
 "nbformat_minor": 5
}
