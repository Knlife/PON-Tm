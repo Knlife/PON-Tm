{
 "cells": [
  {
   "cell_type": "markdown",
   "id": "aef18867b1fc9e32",
   "metadata": {
    "collapsed": false
   },
   "source": [
    "# 数据分析与作图"
   ]
  },
  {
   "cell_type": "code",
   "id": "15cf72b3-ed1c-49ae-b1f7-208774a45bbc",
   "metadata": {
    "editable": true,
    "execution": {
     "iopub.execute_input": "2024-03-15T05:18:06.747383Z",
     "iopub.status.busy": "2024-03-15T05:18:06.747383Z",
     "iopub.status.idle": "2024-03-15T05:18:06.960583Z",
     "shell.execute_reply": "2024-03-15T05:18:06.960583Z",
     "shell.execute_reply.started": "2024-03-15T05:18:06.747383Z"
    },
    "slideshow": {
     "slide_type": ""
    },
    "tags": [],
    "ExecuteTime": {
     "end_time": "2024-07-23T09:57:27.153506Z",
     "start_time": "2024-07-23T09:57:27.150505Z"
    }
   },
   "source": [
    "import pandas as pd\n",
    "import numpy as np\n",
    "import matplotlib.pyplot as plt\n",
    "import matplotlib.ticker as ticker\n",
    "import re"
   ],
   "outputs": [],
   "execution_count": 8
  },
  {
   "cell_type": "markdown",
   "id": "acfe9396bcdbb41b",
   "metadata": {
    "collapsed": false
   },
   "source": [
    "# 针对ProThermDB数据集[全变异]进行数据分析"
   ]
  },
  {
   "cell_type": "code",
   "id": "c9beee96-119e-44fd-a169-1f35f98126f0",
   "metadata": {
    "execution": {
     "iopub.execute_input": "2024-03-15T05:18:09.748296Z",
     "iopub.status.busy": "2024-03-15T05:18:09.748296Z",
     "iopub.status.idle": "2024-03-15T05:18:09.820370Z",
     "shell.execute_reply": "2024-03-15T05:18:09.820370Z",
     "shell.execute_reply.started": "2024-03-15T05:18:09.748296Z"
    },
    "ExecuteTime": {
     "end_time": "2024-07-23T09:57:27.266838Z",
     "start_time": "2024-07-23T09:57:27.194522Z"
    }
   },
   "source": [
    "protherm = pd.read_csv(\"BasicData/InitializationDataset/ProThermDB-AllMutations.tsv\", sep=\"\\t\")\n",
    "protherm.insert(protherm.columns.get_loc(\"ΔTm\") + 1, \"deltaTm\", 0.0)\n",
    "protherm"
   ],
   "outputs": [
    {
     "data": {
      "text/plain": [
       "          NO                                        Protein  UniProt_ID  \\\n",
       "0         27  NAD+ -dependent formate dehydrogenases (FDHs)  A0A1U8PF82   \n",
       "1         28  NAD+ -dependent formate dehydrogenases (FDHs)  A0A1U8PF82   \n",
       "2         29  NAD+ -dependent formate dehydrogenases (FDHs)  A0A1U8PF82   \n",
       "3         30  NAD+ -dependent formate dehydrogenases (FDHs)  A0A1U8PF82   \n",
       "4         31                            Major prion protein      P04156   \n",
       "...      ...                                            ...         ...   \n",
       "20005  32270                                      gkGBP3.14           -   \n",
       "20006  32271                                      gkGBP3.18           -   \n",
       "20007  32272                                      gkGBP3.19           -   \n",
       "20008  32273                                      gkGBP3.20           -   \n",
       "20009  32274                                      gkGBP3.21           -   \n",
       "\n",
       "                     Mutation   pH    Tm ΔTm  deltaTm              SOURCE  \\\n",
       "0                   wild-type  7.0    72   -      0.0  Gossypium hirsutum   \n",
       "1      M225L (Based on Paper)  7.0    67   -      0.0  Gossypium hirsutum   \n",
       "2      M234L (Based on Paper)  7.0    66   -      0.0  Gossypium hirsutum   \n",
       "3      M243L (Based on Paper)  7.0    77   -      0.0  Gossypium hirsutum   \n",
       "4                   wild-type  7.0  71.3   -      0.0        Homo sapiens   \n",
       "...                       ...  ...   ...  ..      ...                 ...   \n",
       "20005                       -  7.4  76.7   -      0.0           synthetic   \n",
       "20006                       -  7.4  77.3   -      0.0           synthetic   \n",
       "20007                       -  7.4  76.8   -      0.0           synthetic   \n",
       "20008                       -  7.4  76.5   -      0.0           synthetic   \n",
       "20009                       -  7.4    79   -      0.0           synthetic   \n",
       "\n",
       "      PDB_wild  ... m_(kcal/mol/M) Cm_(M)  ∆G_H2O_(kcal/mol)  \\\n",
       "0            -  ...              -      -                  -   \n",
       "1            -  ...              -      -                  -   \n",
       "2            -  ...              -      -                  -   \n",
       "3            -  ...              -      -                  -   \n",
       "4         1E1G  ...              -      -                  -   \n",
       "...        ...  ...            ...    ...                ...   \n",
       "20005        -  ...              -      -                  -   \n",
       "20006        -  ...              -      -                  -   \n",
       "20007        -  ...              -      -                  -   \n",
       "20008        -  ...              -      -                  -   \n",
       "20009        -  ...              -      -                  -   \n",
       "\n",
       "      ∆∆G_H2O_(kcal/mol) STATE REVERSIBILITY PubMed_ID  \\\n",
       "0                      -     -            No  33754169   \n",
       "1                      -     -            No  33754169   \n",
       "2                      -     -            No  33754169   \n",
       "3                      -     -            No  33754169   \n",
       "4                      -     -            No         -   \n",
       "...                  ...   ...           ...       ...   \n",
       "20005                  -     -             -         -   \n",
       "20006                  -     -             -         -   \n",
       "20007                  -     -             -         -   \n",
       "20008                  -     -             -         -   \n",
       "20009                  -     -             -         -   \n",
       "\n",
       "                                               KEY_WORDS  \\\n",
       "0      Thermal stability; Oxidative stability; Cumula...   \n",
       "1      Thermal stability; Oxidative stability; Cumula...   \n",
       "2      Thermal stability; Oxidative stability; Cumula...   \n",
       "3      Thermal stability; Oxidative stability; Cumula...   \n",
       "4      amyloid; neurodegenerative diseases; prion pro...   \n",
       "...                                                  ...   \n",
       "20005                    Thermostable; glucose biosensor   \n",
       "20006                    Thermostable; glucose biosensor   \n",
       "20007                    Thermostable; glucose biosensor   \n",
       "20008                    Thermostable; glucose biosensor   \n",
       "20009                    Thermostable; glucose biosensor   \n",
       "\n",
       "                                               REFERENCE  \\\n",
       "0      Appl Microbiol Biotechnol. 105(7):2787-2798 (2...   \n",
       "1      Appl Microbiol Biotechnol. 105(7):2787-2798 (2...   \n",
       "2      Appl Microbiol Biotechnol. 105(7):2787-2798 (2...   \n",
       "3      Appl Microbiol Biotechnol. 105(7):2787-2798 (2...   \n",
       "4      Proc Natl Acad Sci U S A. 118(12):e2019631118 ...   \n",
       "...                                                  ...   \n",
       "20005  Biochemistry, 61(4), 276–293 (2022) PMID: 3508...   \n",
       "20006  Biochemistry, 61(4), 276–293 (2022) PMID: 3508...   \n",
       "20007  Biochemistry, 61(4), 276–293 (2022) PMID: 3508...   \n",
       "20008  Biochemistry, 61(4), 276–293 (2022) PMID: 3508...   \n",
       "20009  Biochemistry, 61(4), 276–293 (2022) PMID: 3508...   \n",
       "\n",
       "                                                  AUTHOR  \n",
       "0                                         Kurt S, Ordu E  \n",
       "1                                         Kurt S, Ordu E  \n",
       "2                                         Kurt S, Ordu E  \n",
       "3                                         Kurt S, Ordu E  \n",
       "4      Sanz-Hernández M, Barritt JD, Sobek J, Hornema...  \n",
       "...                                                  ...  \n",
       "20005                   Allert, M. J., & Hellinga, H. W.  \n",
       "20006                   Allert, M. J., & Hellinga, H. W.  \n",
       "20007                   Allert, M. J., & Hellinga, H. W.  \n",
       "20008                   Allert, M. J., & Hellinga, H. W.  \n",
       "20009                   Allert, M. J., & Hellinga, H. W.  \n",
       "\n",
       "[20010 rows x 36 columns]"
      ],
      "text/html": [
       "<div>\n",
       "<style scoped>\n",
       "    .dataframe tbody tr th:only-of-type {\n",
       "        vertical-align: middle;\n",
       "    }\n",
       "\n",
       "    .dataframe tbody tr th {\n",
       "        vertical-align: top;\n",
       "    }\n",
       "\n",
       "    .dataframe thead th {\n",
       "        text-align: right;\n",
       "    }\n",
       "</style>\n",
       "<table border=\"1\" class=\"dataframe\">\n",
       "  <thead>\n",
       "    <tr style=\"text-align: right;\">\n",
       "      <th></th>\n",
       "      <th>NO</th>\n",
       "      <th>Protein</th>\n",
       "      <th>UniProt_ID</th>\n",
       "      <th>Mutation</th>\n",
       "      <th>pH</th>\n",
       "      <th>Tm</th>\n",
       "      <th>ΔTm</th>\n",
       "      <th>deltaTm</th>\n",
       "      <th>SOURCE</th>\n",
       "      <th>PDB_wild</th>\n",
       "      <th>...</th>\n",
       "      <th>m_(kcal/mol/M)</th>\n",
       "      <th>Cm_(M)</th>\n",
       "      <th>∆G_H2O_(kcal/mol)</th>\n",
       "      <th>∆∆G_H2O_(kcal/mol)</th>\n",
       "      <th>STATE</th>\n",
       "      <th>REVERSIBILITY</th>\n",
       "      <th>PubMed_ID</th>\n",
       "      <th>KEY_WORDS</th>\n",
       "      <th>REFERENCE</th>\n",
       "      <th>AUTHOR</th>\n",
       "    </tr>\n",
       "  </thead>\n",
       "  <tbody>\n",
       "    <tr>\n",
       "      <th>0</th>\n",
       "      <td>27</td>\n",
       "      <td>NAD+ -dependent formate dehydrogenases (FDHs)</td>\n",
       "      <td>A0A1U8PF82</td>\n",
       "      <td>wild-type</td>\n",
       "      <td>7.0</td>\n",
       "      <td>72</td>\n",
       "      <td>-</td>\n",
       "      <td>0.0</td>\n",
       "      <td>Gossypium hirsutum</td>\n",
       "      <td>-</td>\n",
       "      <td>...</td>\n",
       "      <td>-</td>\n",
       "      <td>-</td>\n",
       "      <td>-</td>\n",
       "      <td>-</td>\n",
       "      <td>-</td>\n",
       "      <td>No</td>\n",
       "      <td>33754169</td>\n",
       "      <td>Thermal stability; Oxidative stability; Cumula...</td>\n",
       "      <td>Appl Microbiol Biotechnol. 105(7):2787-2798 (2...</td>\n",
       "      <td>Kurt S, Ordu E</td>\n",
       "    </tr>\n",
       "    <tr>\n",
       "      <th>1</th>\n",
       "      <td>28</td>\n",
       "      <td>NAD+ -dependent formate dehydrogenases (FDHs)</td>\n",
       "      <td>A0A1U8PF82</td>\n",
       "      <td>M225L (Based on Paper)</td>\n",
       "      <td>7.0</td>\n",
       "      <td>67</td>\n",
       "      <td>-</td>\n",
       "      <td>0.0</td>\n",
       "      <td>Gossypium hirsutum</td>\n",
       "      <td>-</td>\n",
       "      <td>...</td>\n",
       "      <td>-</td>\n",
       "      <td>-</td>\n",
       "      <td>-</td>\n",
       "      <td>-</td>\n",
       "      <td>-</td>\n",
       "      <td>No</td>\n",
       "      <td>33754169</td>\n",
       "      <td>Thermal stability; Oxidative stability; Cumula...</td>\n",
       "      <td>Appl Microbiol Biotechnol. 105(7):2787-2798 (2...</td>\n",
       "      <td>Kurt S, Ordu E</td>\n",
       "    </tr>\n",
       "    <tr>\n",
       "      <th>2</th>\n",
       "      <td>29</td>\n",
       "      <td>NAD+ -dependent formate dehydrogenases (FDHs)</td>\n",
       "      <td>A0A1U8PF82</td>\n",
       "      <td>M234L (Based on Paper)</td>\n",
       "      <td>7.0</td>\n",
       "      <td>66</td>\n",
       "      <td>-</td>\n",
       "      <td>0.0</td>\n",
       "      <td>Gossypium hirsutum</td>\n",
       "      <td>-</td>\n",
       "      <td>...</td>\n",
       "      <td>-</td>\n",
       "      <td>-</td>\n",
       "      <td>-</td>\n",
       "      <td>-</td>\n",
       "      <td>-</td>\n",
       "      <td>No</td>\n",
       "      <td>33754169</td>\n",
       "      <td>Thermal stability; Oxidative stability; Cumula...</td>\n",
       "      <td>Appl Microbiol Biotechnol. 105(7):2787-2798 (2...</td>\n",
       "      <td>Kurt S, Ordu E</td>\n",
       "    </tr>\n",
       "    <tr>\n",
       "      <th>3</th>\n",
       "      <td>30</td>\n",
       "      <td>NAD+ -dependent formate dehydrogenases (FDHs)</td>\n",
       "      <td>A0A1U8PF82</td>\n",
       "      <td>M243L (Based on Paper)</td>\n",
       "      <td>7.0</td>\n",
       "      <td>77</td>\n",
       "      <td>-</td>\n",
       "      <td>0.0</td>\n",
       "      <td>Gossypium hirsutum</td>\n",
       "      <td>-</td>\n",
       "      <td>...</td>\n",
       "      <td>-</td>\n",
       "      <td>-</td>\n",
       "      <td>-</td>\n",
       "      <td>-</td>\n",
       "      <td>-</td>\n",
       "      <td>No</td>\n",
       "      <td>33754169</td>\n",
       "      <td>Thermal stability; Oxidative stability; Cumula...</td>\n",
       "      <td>Appl Microbiol Biotechnol. 105(7):2787-2798 (2...</td>\n",
       "      <td>Kurt S, Ordu E</td>\n",
       "    </tr>\n",
       "    <tr>\n",
       "      <th>4</th>\n",
       "      <td>31</td>\n",
       "      <td>Major prion protein</td>\n",
       "      <td>P04156</td>\n",
       "      <td>wild-type</td>\n",
       "      <td>7.0</td>\n",
       "      <td>71.3</td>\n",
       "      <td>-</td>\n",
       "      <td>0.0</td>\n",
       "      <td>Homo sapiens</td>\n",
       "      <td>1E1G</td>\n",
       "      <td>...</td>\n",
       "      <td>-</td>\n",
       "      <td>-</td>\n",
       "      <td>-</td>\n",
       "      <td>-</td>\n",
       "      <td>-</td>\n",
       "      <td>No</td>\n",
       "      <td>-</td>\n",
       "      <td>amyloid; neurodegenerative diseases; prion pro...</td>\n",
       "      <td>Proc Natl Acad Sci U S A. 118(12):e2019631118 ...</td>\n",
       "      <td>Sanz-Hernández M, Barritt JD, Sobek J, Hornema...</td>\n",
       "    </tr>\n",
       "    <tr>\n",
       "      <th>...</th>\n",
       "      <td>...</td>\n",
       "      <td>...</td>\n",
       "      <td>...</td>\n",
       "      <td>...</td>\n",
       "      <td>...</td>\n",
       "      <td>...</td>\n",
       "      <td>...</td>\n",
       "      <td>...</td>\n",
       "      <td>...</td>\n",
       "      <td>...</td>\n",
       "      <td>...</td>\n",
       "      <td>...</td>\n",
       "      <td>...</td>\n",
       "      <td>...</td>\n",
       "      <td>...</td>\n",
       "      <td>...</td>\n",
       "      <td>...</td>\n",
       "      <td>...</td>\n",
       "      <td>...</td>\n",
       "      <td>...</td>\n",
       "      <td>...</td>\n",
       "    </tr>\n",
       "    <tr>\n",
       "      <th>20005</th>\n",
       "      <td>32270</td>\n",
       "      <td>gkGBP3.14</td>\n",
       "      <td>-</td>\n",
       "      <td>-</td>\n",
       "      <td>7.4</td>\n",
       "      <td>76.7</td>\n",
       "      <td>-</td>\n",
       "      <td>0.0</td>\n",
       "      <td>synthetic</td>\n",
       "      <td>-</td>\n",
       "      <td>...</td>\n",
       "      <td>-</td>\n",
       "      <td>-</td>\n",
       "      <td>-</td>\n",
       "      <td>-</td>\n",
       "      <td>-</td>\n",
       "      <td>-</td>\n",
       "      <td>-</td>\n",
       "      <td>Thermostable; glucose biosensor</td>\n",
       "      <td>Biochemistry, 61(4), 276–293 (2022) PMID: 3508...</td>\n",
       "      <td>Allert, M. J., &amp; Hellinga, H. W.</td>\n",
       "    </tr>\n",
       "    <tr>\n",
       "      <th>20006</th>\n",
       "      <td>32271</td>\n",
       "      <td>gkGBP3.18</td>\n",
       "      <td>-</td>\n",
       "      <td>-</td>\n",
       "      <td>7.4</td>\n",
       "      <td>77.3</td>\n",
       "      <td>-</td>\n",
       "      <td>0.0</td>\n",
       "      <td>synthetic</td>\n",
       "      <td>-</td>\n",
       "      <td>...</td>\n",
       "      <td>-</td>\n",
       "      <td>-</td>\n",
       "      <td>-</td>\n",
       "      <td>-</td>\n",
       "      <td>-</td>\n",
       "      <td>-</td>\n",
       "      <td>-</td>\n",
       "      <td>Thermostable; glucose biosensor</td>\n",
       "      <td>Biochemistry, 61(4), 276–293 (2022) PMID: 3508...</td>\n",
       "      <td>Allert, M. J., &amp; Hellinga, H. W.</td>\n",
       "    </tr>\n",
       "    <tr>\n",
       "      <th>20007</th>\n",
       "      <td>32272</td>\n",
       "      <td>gkGBP3.19</td>\n",
       "      <td>-</td>\n",
       "      <td>-</td>\n",
       "      <td>7.4</td>\n",
       "      <td>76.8</td>\n",
       "      <td>-</td>\n",
       "      <td>0.0</td>\n",
       "      <td>synthetic</td>\n",
       "      <td>-</td>\n",
       "      <td>...</td>\n",
       "      <td>-</td>\n",
       "      <td>-</td>\n",
       "      <td>-</td>\n",
       "      <td>-</td>\n",
       "      <td>-</td>\n",
       "      <td>-</td>\n",
       "      <td>-</td>\n",
       "      <td>Thermostable; glucose biosensor</td>\n",
       "      <td>Biochemistry, 61(4), 276–293 (2022) PMID: 3508...</td>\n",
       "      <td>Allert, M. J., &amp; Hellinga, H. W.</td>\n",
       "    </tr>\n",
       "    <tr>\n",
       "      <th>20008</th>\n",
       "      <td>32273</td>\n",
       "      <td>gkGBP3.20</td>\n",
       "      <td>-</td>\n",
       "      <td>-</td>\n",
       "      <td>7.4</td>\n",
       "      <td>76.5</td>\n",
       "      <td>-</td>\n",
       "      <td>0.0</td>\n",
       "      <td>synthetic</td>\n",
       "      <td>-</td>\n",
       "      <td>...</td>\n",
       "      <td>-</td>\n",
       "      <td>-</td>\n",
       "      <td>-</td>\n",
       "      <td>-</td>\n",
       "      <td>-</td>\n",
       "      <td>-</td>\n",
       "      <td>-</td>\n",
       "      <td>Thermostable; glucose biosensor</td>\n",
       "      <td>Biochemistry, 61(4), 276–293 (2022) PMID: 3508...</td>\n",
       "      <td>Allert, M. J., &amp; Hellinga, H. W.</td>\n",
       "    </tr>\n",
       "    <tr>\n",
       "      <th>20009</th>\n",
       "      <td>32274</td>\n",
       "      <td>gkGBP3.21</td>\n",
       "      <td>-</td>\n",
       "      <td>-</td>\n",
       "      <td>7.4</td>\n",
       "      <td>79</td>\n",
       "      <td>-</td>\n",
       "      <td>0.0</td>\n",
       "      <td>synthetic</td>\n",
       "      <td>-</td>\n",
       "      <td>...</td>\n",
       "      <td>-</td>\n",
       "      <td>-</td>\n",
       "      <td>-</td>\n",
       "      <td>-</td>\n",
       "      <td>-</td>\n",
       "      <td>-</td>\n",
       "      <td>-</td>\n",
       "      <td>Thermostable; glucose biosensor</td>\n",
       "      <td>Biochemistry, 61(4), 276–293 (2022) PMID: 3508...</td>\n",
       "      <td>Allert, M. J., &amp; Hellinga, H. W.</td>\n",
       "    </tr>\n",
       "  </tbody>\n",
       "</table>\n",
       "<p>20010 rows × 36 columns</p>\n",
       "</div>"
      ]
     },
     "execution_count": 9,
     "metadata": {},
     "output_type": "execute_result"
    }
   ],
   "execution_count": 9
  },
  {
   "cell_type": "code",
   "id": "f339b951-b511-46a5-b738-cb7d2b7192dc",
   "metadata": {
    "editable": true,
    "execution": {
     "iopub.execute_input": "2024-03-13T18:33:10.578379Z",
     "iopub.status.busy": "2024-03-13T18:33:10.578379Z",
     "iopub.status.idle": "2024-03-13T18:33:10.612796Z",
     "shell.execute_reply": "2024-03-13T18:33:10.612796Z",
     "shell.execute_reply.started": "2024-03-13T18:33:10.578379Z"
    },
    "slideshow": {
     "slide_type": ""
    },
    "tags": [],
    "ExecuteTime": {
     "end_time": "2024-07-23T09:57:29.068153Z",
     "start_time": "2024-07-23T09:57:27.267835Z"
    }
   },
   "source": [
    "single = []                 # 单点变异\n",
    "double = []                 # 双点变异\n",
    "multiple = []               # 多点变异\n",
    "wild = []                   # 野生变异\n",
    "illegal_mutations = []      # 非法变异\n",
    "illegal_delatatms = []      # 非法标签\n",
    "illegal_uniprotid = []      # 非法ID\n",
    "mutation_lengths = {}       # 变异强度\n",
    "for rowIndex, row in protherm.iterrows():\n",
    "    mutation = row[\"Mutation\"]\n",
    "    deltaTm = row[\"ΔTm\"]\n",
    "\n",
    "    flag = True\n",
    "    # 野生蛋白\n",
    "    if \"wild-type\" in mutation:\n",
    "        wild.append(rowIndex)\n",
    "        flag = False\n",
    "    # UniProtID缺失\n",
    "    if pd.isna(row[\"UniProt_ID\"]) or row[\"UniProt_ID\"] == \"-\":\n",
    "        illegal_uniprotid.append(rowIndex)\n",
    "        flag = False\n",
    "        \n",
    "    # 非法变异\n",
    "    if pd.isna(mutation):\n",
    "        illegal_mutations.append(rowIndex)\n",
    "        flag = False\n",
    "    # 非法标签\n",
    "    if deltaTm == \"-\":\n",
    "        illegal_delatatms.append(rowIndex)\n",
    "        flag = False\n",
    "    elif \"(\" in deltaTm:\n",
    "        protherm.loc[rowIndex, \"deltaTm\"] = eval(deltaTm[:deltaTm.index(\"(\")])\n",
    "    elif isinstance(eval(deltaTm), float):\n",
    "        protherm.loc[rowIndex, \"deltaTm\"] = eval(deltaTm)\n",
    "        \n",
    "    # 处理变异数据\n",
    "    if \"(\" in mutation:\n",
    "        protherm.loc[rowIndex, \"Mutation\"] = mutation[:mutation.index(\"(\")]\n",
    "    # 当前数据是否合法\n",
    "    if not flag:\n",
    "        continue\n",
    "        \n",
    "    # 合法情况:抽取变异强度\n",
    "    mutation_length = len(re.findall(\"([A-Z]{1}[0-9]+[A-Z]{1})\", mutation))\n",
    "    mutation_lengths[mutation_length] = mutation_lengths.setdefault(mutation_length, 0) + 1\n",
    "    if mutation_length == 1:\n",
    "        single.append(rowIndex)\n",
    "    elif mutation_length == 2:\n",
    "        double.append(rowIndex)\n",
    "    elif mutation_length > 2:\n",
    "        multiple.append(rowIndex)\n",
    "    else:\n",
    "        illegal_mutations.append(rowIndex)"
   ],
   "outputs": [],
   "execution_count": 10
  },
  {
   "cell_type": "markdown",
   "id": "b9b445c2e5b01f1f",
   "metadata": {
    "collapsed": false
   },
   "source": [
    "### 提取野生型和非法数据"
   ]
  },
  {
   "cell_type": "code",
   "id": "f251692da0b9e1ae",
   "metadata": {
    "collapsed": false,
    "ExecuteTime": {
     "end_time": "2024-07-23T09:57:34.579266Z",
     "start_time": "2024-07-23T09:57:34.570919Z"
    }
   },
   "source": [
    "wild_diagram = protherm.loc[wild, :]\n",
    "illegal_mutations_diagram = protherm.loc[illegal_mutations, :]\n",
    "illegal_delatatms_diagram = protherm.loc[illegal_delatatms, :]\n",
    "illegal_uniprotid_diagram = protherm.loc[illegal_uniprotid, :]"
   ],
   "outputs": [],
   "execution_count": 11
  },
  {
   "cell_type": "markdown",
   "id": "80ba5ab5ccf0728",
   "metadata": {
    "collapsed": false
   },
   "source": [
    "### 突变强度统计"
   ]
  },
  {
   "cell_type": "code",
   "id": "7dd12318d95ed351",
   "metadata": {
    "collapsed": false,
    "ExecuteTime": {
     "end_time": "2024-07-23T09:57:36.762327Z",
     "start_time": "2024-07-23T09:57:36.580487Z"
    }
   },
   "source": [
    "# 提取字典的键和值\n",
    "x = list(mutation_lengths.keys())\n",
    "y = list(mutation_lengths.values())\n",
    "\n",
    "\n",
    "# 设置画布大小\n",
    "plt.figure(figsize=(15, 7.5), dpi=100)\n",
    "# 绘制柱状图\n",
    "plt.bar(x, y)\n",
    "\n",
    "# 添加数据标签\n",
    "for i in range(len(x)):\n",
    "    plt.text(x[i], y[i], str(y[i]), ha='center', va='bottom')\n",
    "\n",
    "# 添加标题和标签\n",
    "plt.title(\"Mutation-frequency-in-ProThermDB\",\n",
    "          loc=\"center\",\n",
    "          fontdict={\"family\" : \"Times New Roman\",\n",
    "                    \"size\" : 24,\n",
    "                    \"weight\" : \"bold\"})\n",
    "plt.xlabel(\"Mutation strength\", fontdict={\"family\" : \"Times New Roman\", \"size\" : 20, \"weight\" : \"normal\"})\n",
    "plt.ylabel(\"frequency\", fontdict={\"family\" : \"Times New Roman\", \"size\" : 20, \"weight\" : \"normal\"})\n",
    "\n",
    "# 设置坐标轴范围\n",
    "plt.xlim(min(x)-1, max(x)+1)\n",
    "plt.ylim(0, max(y)+1000)  # 根据数据范围调整纵坐标轴的长度\n",
    "\n",
    "# 设置刻度\n",
    "plt.xticks(range(min(x), max(x)+1), size=12)\n",
    "plt.yticks(size=12)\n",
    "\n",
    "# 设置网格线\n",
    "plt.grid()\n",
    "\n",
    "# 保存图片\n",
    "plt.savefig(\"SavedPicture/Mutation-frequency-in-ProThermDB.png\", dpi=100)\n",
    "\n",
    "# 显示图形\n",
    "plt.show()"
   ],
   "outputs": [
    {
     "data": {
      "text/plain": [
       "<Figure size 1500x750 with 1 Axes>"
      ],
      "image/png": "[encoded data removed]"
     },
     "metadata": {},
     "output_type": "display_data"
    }
   ],
   "execution_count": 12
  },
  {
   "cell_type": "markdown",
   "id": "ca39e7d99780ad1a",
   "metadata": {
    "collapsed": false
   },
   "source": [
    "### 单点、双点以及多点突变的数据"
   ]
  },
  {
   "cell_type": "code",
   "id": "89356d3b3698c9b3",
   "metadata": {
    "collapsed": false,
    "ExecuteTime": {
     "end_time": "2024-07-23T09:57:40.140899Z",
     "start_time": "2024-07-23T09:57:40.135693Z"
    }
   },
   "source": [
    "single = protherm.loc[single, :]            # 提取单突变数据\n",
    "double = protherm.loc[double, :]            # 提取单突变数据\n",
    "multiple = protherm.loc[multiple, :]        # 提取多突变数据"
   ],
   "outputs": [],
   "execution_count": 13
  },
  {
   "cell_type": "markdown",
   "id": "da930bb57167c025",
   "metadata": {
    "collapsed": false
   },
   "source": [
    "### 清理非法数据"
   ]
  },
  {
   "cell_type": "code",
   "id": "fbd38314faa92a2a",
   "metadata": {
    "collapsed": false,
    "ExecuteTime": {
     "end_time": "2024-07-23T03:43:14.014871Z",
     "start_time": "2024-07-23T03:43:13.575324Z"
    }
   },
   "source": [
    "protherm.drop(index=list(set(wild + illegal_mutations + illegal_delatatms + illegal_uniprotid)), inplace=True)  \n",
    "protherm.reset_index(drop=True, inplace=True) "
   ],
   "outputs": [
    {
     "ename": "AttributeError",
     "evalue": "'NoneType' object has no attribute 'reset_index'",
     "output_type": "error",
     "traceback": [
      "\u001B[1;31m---------------------------------------------------------------------------\u001B[0m",
      "\u001B[1;31mAttributeError\u001B[0m                            Traceback (most recent call last)",
      "Cell \u001B[1;32mIn[7], line 2\u001B[0m\n\u001B[0;32m      1\u001B[0m protherm \u001B[38;5;241m=\u001B[39m protherm\u001B[38;5;241m.\u001B[39mdrop(index\u001B[38;5;241m=\u001B[39m\u001B[38;5;28mlist\u001B[39m(\u001B[38;5;28mset\u001B[39m(wild \u001B[38;5;241m+\u001B[39m illegal_mutations \u001B[38;5;241m+\u001B[39m illegal_delatatms \u001B[38;5;241m+\u001B[39m illegal_uniprotid)), inplace\u001B[38;5;241m=\u001B[39m\u001B[38;5;28;01mTrue\u001B[39;00m)  \n\u001B[1;32m----> 2\u001B[0m protherm\u001B[38;5;241m.\u001B[39mreset_index(drop\u001B[38;5;241m=\u001B[39m\u001B[38;5;28;01mTrue\u001B[39;00m, inplace\u001B[38;5;241m=\u001B[39m\u001B[38;5;28;01mTrue\u001B[39;00m)\n",
      "\u001B[1;31mAttributeError\u001B[0m: 'NoneType' object has no attribute 'reset_index'"
     ]
    }
   ],
   "execution_count": 7
  },
  {
   "cell_type": "markdown",
   "source": [
    "### 检测是否存在多测量值数据"
   ],
   "metadata": {
    "collapsed": false
   },
   "id": "6d85c1a00571a701"
  },
  {
   "cell_type": "code",
   "source": [
    "def check4mult(df: pd.DataFrame) -> (int, list):\n",
    "    def pattern(s: pd.Series) -> str:\n",
    "        path = []\n",
    "        for subS in s:\n",
    "            if not isinstance(subS, str):\n",
    "                path.append(str(subS))\n",
    "            else:\n",
    "                path.append(subS)\n",
    "        return \"@\".join(path)\n",
    "    \n",
    "    select_colmns = [\"UniProt_ID\", \"Mutation\"]\n",
    "    indexs = []\n",
    "    cnt = 0\n",
    "    left, right = 0, 1  # 左、右指针\n",
    "    while right < df.shape[0]:\n",
    "        # 如果遇到了多测量值\n",
    "        if pattern(df.loc[left, select_colmns]) == pattern(df.loc[right, select_colmns]):\n",
    "            while right < df.shape[0] and pattern(df.loc[left, select_colmns]) == pattern(df.loc[right, select_colmns]):\n",
    "                indexs.append(right)\n",
    "                right += 1\n",
    "            cnt += 1\n",
    "            # 左指针指向下一个可能的重复位点\n",
    "            left = right\n",
    "            # 右指针指向下一个可能和左指针相同的位点\n",
    "            right += 1\n",
    "        # 没遇到就两个指针往前走\n",
    "        else:\n",
    "            left += 1\n",
    "            right += 1\n",
    "\n",
    "    return cnt, indexs\n",
    "\n",
    "\n",
    "cnt, deleteIndex = check4mult(protherm)\n",
    "multiple_deltaTm = protherm.iloc[deleteIndex, :]\n",
    "cnt"
   ],
   "metadata": {
    "collapsed": false,
    "ExecuteTime": {
     "end_time": "2024-07-23T10:03:20.842987Z",
     "start_time": "2024-07-23T10:03:19.259621Z"
    }
   },
   "id": "43424739219e237d",
   "outputs": [
    {
     "data": {
      "text/plain": [
       "180"
      ]
     },
     "execution_count": 16,
     "metadata": {},
     "output_type": "execute_result"
    }
   ],
   "execution_count": 16
  },
  {
   "cell_type": "markdown",
   "source": [
    "### 对多测量值进行处理"
   ],
   "metadata": {
    "collapsed": false
   },
   "id": "9dc4e51ae27f50da"
  },
  {
   "cell_type": "code",
   "source": [
    "protherm_deleted = protherm[[\"UniProt_ID\", \"Mutation\", \"deltaTm\"]].groupby([\"UniProt_ID\", \"Mutation\"]).mean().reset_index()\n",
    "protherm_deleted"
   ],
   "metadata": {
    "collapsed": false,
    "ExecuteTime": {
     "end_time": "2024-07-23T10:03:21.278713Z",
     "start_time": "2024-07-23T10:03:21.268930Z"
    }
   },
   "id": "6cdc80a74779fdef",
   "outputs": [
    {
     "data": {
      "text/plain": [
       "      UniProt_ID               Mutation  deltaTm\n",
       "0     A0A060GYS1                  H22R      9.90\n",
       "1     A0A060GYS1                 P224R      2.30\n",
       "2     A0A410ZNC6                 A341S      3.60\n",
       "3     A0A410ZNC6                 F184L      0.00\n",
       "4     A0A410ZNC6     F184L P250L A341S      5.60\n",
       "...          ...                    ...      ...\n",
       "4292      R9S082  V67A V115A V14A G24A      2.70\n",
       "4293      R9S082             V67A V14A      1.60\n",
       "4294      W0TJ64           D250C E296C     82.41\n",
       "4295      W0TJ64                 S176A     78.74\n",
       "4296      W0TJ64           S226P R228S     63.50\n",
       "\n",
       "[4297 rows x 3 columns]"
      ],
      "text/html": [
       "<div>\n",
       "<style scoped>\n",
       "    .dataframe tbody tr th:only-of-type {\n",
       "        vertical-align: middle;\n",
       "    }\n",
       "\n",
       "    .dataframe tbody tr th {\n",
       "        vertical-align: top;\n",
       "    }\n",
       "\n",
       "    .dataframe thead th {\n",
       "        text-align: right;\n",
       "    }\n",
       "</style>\n",
       "<table border=\"1\" class=\"dataframe\">\n",
       "  <thead>\n",
       "    <tr style=\"text-align: right;\">\n",
       "      <th></th>\n",
       "      <th>UniProt_ID</th>\n",
       "      <th>Mutation</th>\n",
       "      <th>deltaTm</th>\n",
       "    </tr>\n",
       "  </thead>\n",
       "  <tbody>\n",
       "    <tr>\n",
       "      <th>0</th>\n",
       "      <td>A0A060GYS1</td>\n",
       "      <td>H22R</td>\n",
       "      <td>9.90</td>\n",
       "    </tr>\n",
       "    <tr>\n",
       "      <th>1</th>\n",
       "      <td>A0A060GYS1</td>\n",
       "      <td>P224R</td>\n",
       "      <td>2.30</td>\n",
       "    </tr>\n",
       "    <tr>\n",
       "      <th>2</th>\n",
       "      <td>A0A410ZNC6</td>\n",
       "      <td>A341S</td>\n",
       "      <td>3.60</td>\n",
       "    </tr>\n",
       "    <tr>\n",
       "      <th>3</th>\n",
       "      <td>A0A410ZNC6</td>\n",
       "      <td>F184L</td>\n",
       "      <td>0.00</td>\n",
       "    </tr>\n",
       "    <tr>\n",
       "      <th>4</th>\n",
       "      <td>A0A410ZNC6</td>\n",
       "      <td>F184L P250L A341S</td>\n",
       "      <td>5.60</td>\n",
       "    </tr>\n",
       "    <tr>\n",
       "      <th>...</th>\n",
       "      <td>...</td>\n",
       "      <td>...</td>\n",
       "      <td>...</td>\n",
       "    </tr>\n",
       "    <tr>\n",
       "      <th>4292</th>\n",
       "      <td>R9S082</td>\n",
       "      <td>V67A V115A V14A G24A</td>\n",
       "      <td>2.70</td>\n",
       "    </tr>\n",
       "    <tr>\n",
       "      <th>4293</th>\n",
       "      <td>R9S082</td>\n",
       "      <td>V67A V14A</td>\n",
       "      <td>1.60</td>\n",
       "    </tr>\n",
       "    <tr>\n",
       "      <th>4294</th>\n",
       "      <td>W0TJ64</td>\n",
       "      <td>D250C E296C</td>\n",
       "      <td>82.41</td>\n",
       "    </tr>\n",
       "    <tr>\n",
       "      <th>4295</th>\n",
       "      <td>W0TJ64</td>\n",
       "      <td>S176A</td>\n",
       "      <td>78.74</td>\n",
       "    </tr>\n",
       "    <tr>\n",
       "      <th>4296</th>\n",
       "      <td>W0TJ64</td>\n",
       "      <td>S226P R228S</td>\n",
       "      <td>63.50</td>\n",
       "    </tr>\n",
       "  </tbody>\n",
       "</table>\n",
       "<p>4297 rows × 3 columns</p>\n",
       "</div>"
      ]
     },
     "execution_count": 17,
     "metadata": {},
     "output_type": "execute_result"
    }
   ],
   "execution_count": 17
  },
  {
   "cell_type": "markdown",
   "source": [
    "### 针对∆Tm进行作图"
   ],
   "metadata": {
    "collapsed": false
   },
   "id": "edba5d00249d7aef"
  },
  {
   "cell_type": "code",
   "source": [
    "plt.figure(figsize=(15, 7.5), dpi=100)\n",
    "plt.hist(protherm[\"deltaTm\"].astype(float).sort_values(),\n",
    "         bins=100,\n",
    "         color=\"yellowgreen\",\n",
    "         range=(-50, 50))\n",
    "plt.xlabel(\"ΔTm\", size=18)\n",
    "plt.gca().xaxis.set_major_locator(ticker.MultipleLocator(10))\n",
    "\n",
    "# 标题与坐标轴标签\n",
    "plt.title(\"ΔTm-frequency-in-ProThermDB\",\n",
    "          loc=\"center\",\n",
    "          fontdict={\"family\" : \"Times New Roman\",\n",
    "                    \"size\" : 24,\n",
    "                    \"weight\" : \"bold\"})\n",
    "plt.xlabel(\"ΔTm\", fontdict={\"family\" : \"Times New Roman\", \"size\" : 20, \"weight\" : \"normal\"})\n",
    "plt.ylabel(\"frequency\", fontdict={\"family\" : \"Times New Roman\", \"size\" : 20, \"weight\" : \"normal\"})\n",
    "\n",
    "plt.xticks(size=12)\n",
    "plt.yticks(size=12)\n",
    "plt.rcParams[\"axes.facecolor\"] = \"white\"\n",
    "plt.grid()\n",
    "plt.savefig(\"SavedPicture/ΔTm-frequency-in-ProThermDB.png\", dpi=100)\n",
    "plt.show()"
   ],
   "metadata": {
    "ExecuteTime": {
     "end_time": "2024-07-23T10:03:23.758782Z",
     "start_time": "2024-07-23T10:03:23.576032Z"
    }
   },
   "id": "a963db6a-25f1-4095-a4c9-4f26c0564db2",
   "outputs": [
    {
     "data": {
      "text/plain": [
       "<Figure size 1500x750 with 1 Axes>"
      ],
      "image/png": "[encoded data removed]"
     },
     "metadata": {},
     "output_type": "display_data"
    }
   ],
   "execution_count": 18
  }
 ],
 "metadata": {
  "kernelspec": {
   "display_name": "Python 3 (ipykernel)",
   "language": "python",
   "name": "python3"
  },
  "language_info": {
   "codemirror_mode": {
    "name": "ipython",
    "version": 3
   },
   "file_extension": ".py",
   "mimetype": "text/x-python",
   "name": "python",
   "nbconvert_exporter": "python",
   "pygments_lexer": "ipython3",
   "version": "3.11.8"
  },
  "widgets": {
   "application/vnd.jupyter.widget-state+json": {
    "state": {},
    "version_major": 2,
    "version_minor": 0
   }
  }
 },
 "nbformat": 4,
 "nbformat_minor": 5
}
