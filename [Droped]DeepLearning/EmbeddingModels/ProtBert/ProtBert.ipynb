{
 "cells": [
  {
   "cell_type": "markdown",
   "source": [
    "## Change the directory"
   ],
   "metadata": {
    "collapsed": false
   },
   "id": "26378417e2d762f6"
  },
  {
   "cell_type": "code",
   "source": [
    "import os\n",
    "import torch\n",
    "os.chdir(\"D:/WorkPath/PycharmProjects/MutTm-pred\")\n",
    "device = torch.device('cuda') if torch.cuda.is_available() else torch.device('cpu')"
   ],
   "metadata": {
    "collapsed": false,
    "ExecuteTime": {
     "end_time": "2024-04-28T05:10:40.697753Z",
     "start_time": "2024-04-28T05:10:39.559911Z"
    }
   },
   "id": "7aa2da73ea6e119e",
   "outputs": [],
   "execution_count": 1
  },
  {
   "cell_type": "markdown",
   "source": [
    "## Import the tokenizer and model"
   ],
   "metadata": {
    "collapsed": false
   },
   "id": "dfd184642e3eb794"
  },
  {
   "cell_type": "code",
   "id": "initial_id",
   "metadata": {
    "collapsed": true,
    "ExecuteTime": {
     "end_time": "2024-04-28T05:10:43.862478Z",
     "start_time": "2024-04-28T05:10:40.698748Z"
    }
   },
   "source": [
    "from transformers import BertModel, BertTokenizer\n",
    "tokenizer = BertTokenizer.from_pretrained(\"DeepLearning/EmbeddingModels/ProtBert/ProtBert\", do_lower_case=False, legacy=True)\n",
    "model = BertModel.from_pretrained(\"DeepLearning/EmbeddingModels/ProtBert/ProtBert\")\n",
    "model = model.to(device).eval()"
   ],
   "outputs": [],
   "execution_count": 2
  },
  {
   "cell_type": "markdown",
   "source": [
    "## Test the model in feature extraction mode"
   ],
   "metadata": {
    "collapsed": false
   },
   "id": "f761fe42f38c1582"
  },
  {
   "cell_type": "code",
   "outputs": [
    {
     "data": {
      "text/plain": "torch.Size([1, 56, 1024])"
     },
     "execution_count": 6,
     "metadata": {},
     "output_type": "execute_result"
    }
   ],
   "source": [
    "import torch\n",
    "future_extracted_encoded_input = tokenizer(\" \".join(\"MGDRINTVRGPITISEAGFTLTHEHICGSSAGFLRAWPEFFGSRKALAEKAVRG\"), return_tensors='pt', padding=False)\n",
    "future_extracted_encoded_input = {k: v.to(device) for k, v in future_extracted_encoded_input.items()}\n",
    "with torch.no_grad():\n",
    "    future_extracted_output = model(**future_extracted_encoded_input).last_hidden_state\n",
    "future_extracted_output.shape"
   ],
   "metadata": {
    "collapsed": false,
    "ExecuteTime": {
     "end_time": "2024-04-05T07:06:24.967185Z",
     "start_time": "2024-04-05T07:06:24.945346Z"
    }
   },
   "id": "ebeacd6540d25578",
   "execution_count": 6
  },
  {
   "cell_type": "markdown",
   "source": [
    "## Test the model in fine-tuning mode"
   ],
   "metadata": {
    "collapsed": false
   },
   "id": "754f901460cfebbd"
  },
  {
   "cell_type": "code",
   "outputs": [
    {
     "data": {
      "text/plain": "torch.Size([1, 56, 1024])"
     },
     "execution_count": 7,
     "metadata": {},
     "output_type": "execute_result"
    }
   ],
   "source": [
    "fine_tune_encoded_input = tokenizer(\" \".join(\"MGDRINTVRGPITISEAGFTLTHEHICGSSAGFLRAWPEFFGSRKALAEKAVRG\"), return_tensors='pt', padding=False)\n",
    "fine_tune_encoded_input = {k: v.to(device) for k, v in fine_tune_encoded_input.items()}\n",
    "fine_tune_output = model(**fine_tune_encoded_input).last_hidden_state\n",
    "fine_tune_output.shape"
   ],
   "metadata": {
    "collapsed": false,
    "ExecuteTime": {
     "end_time": "2024-04-05T07:06:25.005427Z",
     "start_time": "2024-04-05T07:06:24.968179Z"
    }
   },
   "id": "3c363b98a7840f7",
   "execution_count": 7
  }
 ],
 "metadata": {
  "kernelspec": {
   "display_name": "Python 3",
   "language": "python",
   "name": "python3"
  },
  "language_info": {
   "codemirror_mode": {
    "name": "ipython",
    "version": 2
   },
   "file_extension": ".py",
   "mimetype": "text/x-python",
   "name": "python",
   "nbconvert_exporter": "python",
   "pygments_lexer": "ipython2",
   "version": "2.7.6"
  }
 },
 "nbformat": 4,
 "nbformat_minor": 5
}
