{
 "cells": [
  {
   "metadata": {
    "ExecuteTime": {
     "end_time": "2024-04-28T07:14:50.717204Z",
     "start_time": "2024-04-28T07:14:48.144310Z"
    }
   },
   "cell_type": "code",
   "source": [
    "import pandas as pd\n",
    "import os\n",
    "import numpy as np\n",
    "\n",
    "from sklearn.feature_selection import RFECV, RFE\n",
    "from sklearn.model_selection import KFold\n",
    "\n",
    "from lightgbm import LGBMRegressor\n",
    "from xgboost import XGBRegressor\n",
    "\n",
    "os.chdir(\"D:/WorkPath/PycharmProjects/MutTm-pred\")\n",
    "from Dataset.Process4Dataset.DatasetCeator4PonDT import Dataset4MutTm\n",
    "from MachineLearning.Util import train_validation_test"
   ],
   "id": "ddce028401f68057",
   "outputs": [],
   "execution_count": 1
  },
  {
   "cell_type": "code",
   "id": "initial_id",
   "metadata": {
    "collapsed": true,
    "ExecuteTime": {
     "end_time": "2024-04-28T07:16:32.743878Z",
     "start_time": "2024-04-28T07:15:06.210641Z"
    }
   },
   "source": [
    "dataset = Dataset4MutTm(package_path=r\"D:\\WorkPath\\PycharmProjects\\MutTm-pred\\Dataset\\Process4Dataset\",\n",
    "                          train_dataset_path=r\"D:\\WorkPath\\PycharmProjects\\MutTm-pred\\Dataset\\BasicData\\PonDB\\pH-Tm\\PonDB.csv\",\n",
    "                          test_dataset_path=r\"D:\\WorkPath\\PycharmProjects\\MutTm-pred\\Dataset\\BasicData\\ProThermDB\\pH-Tm\\excllent_ProThermDB_Testing.csv\",\n",
    "                          training_version=\"PonDB_withpHTm\",\n",
    "                          testing_version=\"ProThermDBTest_withpHTm\",\n",
    "                          selected_columns=[\"UniProt_ID\", \"Mutation\", \"pH\", \"Tm\", \"ΔTm\"],\n",
    "                          features=[\"neighbor\", \"aaindex\", \"group\", \"param\", \"rpm\", \"hydrop\", \"GO\", \"context_embedding\"],\n",
    "                          context_length=200,\n",
    "                          embedding_model_path=\"DeepLearning/EmbeddingModels/ESM-2/esm2_t33_650M_UR50D\",\n",
    "                          embedding_model_name=\"ESM-2-650M\",\n",
    "                          embedding_method=\"add\")\n",
    "\n",
    "train_feature = np.array(dataset.train_feature_set)\n",
    "train_label = np.array(dataset.train_label_set).ravel()\n",
    "test_feature = np.array(dataset.test_feature_set)\n",
    "test_leabel = np.array(dataset.test_label_set).ravel()"
   ],
   "outputs": [
    {
     "name": "stdout",
     "output_type": "stream",
     "text": [
      "当前使用设备：  NVIDIA GeForce RTX 4070 Ti SUPER\n",
      "===正在从训练集版本为PonDB_withpHTm、训练集版本为ProThermDBTest_withpHTm的原始数据集中进行数据清洗和生物特征提取工作===\n",
      "1.预处理训练集数据...\n",
      "-删除数据缺失行及非法行共计0行\n",
      "-丢弃pH/Tm的缺失值\n",
      "-前一数据集采用了后一数据集中的0条数据，现已删除\n",
      "-获取[序列]信息.....该数据集已经经过处理，直接使用缓存文件\n",
      "-删除了49个UniProtID无法获取序列的数据\n",
      "-删除了2989条非法长度的数据，当前蛋白质长度被限制在(200, 5000)\n",
      "-删除条379个突变位点对应错误的数据\n",
      "2.预处理测试集数据...\n",
      "-删除数据缺失行及非法行共计0行\n",
      "-丢弃pH/Tm的缺失值\n",
      "-获取[序列]信息.....该数据集已经经过处理，直接使用缓存文件\n",
      "-删除了0个UniProtID无法获取序列的数据\n",
      "-删除了137条非法长度的数据，当前蛋白质长度被限制在(200, 5000)\n",
      "-删除条10个突变位点对应错误的数据\n",
      "3.为训练集数据提取生物特征...\n",
      "-获取[neighbor特征].....该数据集已经经过处理，直接使用缓存文件\n",
      "-获取[aaindex特征].....该数据集已经经过处理，直接使用缓存文件\n",
      "-获取[group特征].....该数据集已经经过处理，直接使用缓存文件\n",
      "-获取[param]特征.....该数据集已经经过处理，直接使用缓存文件\n",
      "-获取[pssm]特征.....该数据集已经经过处理，直接使用缓存文件\n",
      "-获取[hydrop]特征.....该数据集已经经过处理，直接使用缓存文件\n",
      "-获取[context_embedding]特征,该特征没有缓存文件，直接生成...\n"
     ]
    },
    {
     "name": "stderr",
     "output_type": "stream",
     "text": [
      "Some weights of EsmModel were not initialized from the model checkpoint at DeepLearning/EmbeddingModels/ESM-2/esm2_t33_650M_UR50D and are newly initialized: ['esm.pooler.dense.bias', 'esm.pooler.dense.weight']\n",
      "You should probably TRAIN this model on a down-stream task to be able to use it for predictions and inference.\n"
     ]
    },
    {
     "name": "stdout",
     "output_type": "stream",
     "text": [
      "嵌入模型后显存使用量:  2.494685649871826\n",
      "-释放模型后显存用量: 0.011113166809082031\n",
      "4.为测试集数据提取生物特征...\n",
      "-获取[neighbor特征].....该数据集已经经过处理，直接使用缓存文件\n",
      "-获取[aaindex特征].....该数据集已经经过处理，直接使用缓存文件\n",
      "-获取[group特征].....该数据集已经经过处理，直接使用缓存文件\n",
      "-获取[param]特征.....该数据集已经经过处理，直接使用缓存文件\n",
      "-获取[pssm]特征.....该数据集已经经过处理，直接使用缓存文件\n",
      "-获取[hydrop]特征.....该数据集已经经过处理，直接使用缓存文件\n",
      "-获取[context_embedding]特征,该特征没有缓存文件，直接生成...\n"
     ]
    },
    {
     "name": "stderr",
     "output_type": "stream",
     "text": [
      "Some weights of EsmModel were not initialized from the model checkpoint at DeepLearning/EmbeddingModels/ESM-2/esm2_t33_650M_UR50D and are newly initialized: ['esm.pooler.dense.bias', 'esm.pooler.dense.weight']\n",
      "You should probably TRAIN this model on a down-stream task to be able to use it for predictions and inference.\n"
     ]
    },
    {
     "name": "stdout",
     "output_type": "stream",
     "text": [
      "嵌入模型后显存使用量:  2.503221035003662\n",
      "-释放模型后显存用量: 0.011113166809082031\n",
      "5.利用GO富集分析从训练集和测试集中提取LR与PA值\n",
      "-获取[GO]特征....."
     ]
    },
    {
     "name": "stderr",
     "output_type": "stream",
     "text": [
      "100%|██████████| 3659/3659 [00:00<00:00, 26765.12it/s]\n",
      "100%|██████████| 213/213 [00:00<00:00, 26627.72it/s]\n",
      "100%|██████████| 3659/3659 [00:00<00:00, 9790.40it/s] \n",
      "100%|██████████| 213/213 [00:00<00:00, 9772.23it/s]\n"
     ]
    },
    {
     "name": "stdout",
     "output_type": "stream",
     "text": [
      "6.从全数据集中提取生物特征集、标签集和基本信息集...\n",
      "7.数据清洗和生物特征提取工作完成==>当前显存用量:0.0079345703125\n"
     ]
    }
   ],
   "execution_count": 2
  },
  {
   "metadata": {
    "ExecuteTime": {
     "end_time": "2024-04-28T07:20:40.307821Z",
     "start_time": "2024-04-28T07:20:11.482314Z"
    }
   },
   "cell_type": "code",
   "source": [
    "xgb_rfe_200 = RFE(XGBRegressor(),\n",
    "                 n_features_to_select=200,\n",
    "                 step=50,\n",
    "                 verbose=False)\n",
    "xgb_rfe_200.fit(train_feature, train_label)\n",
    "train_validation_test(xgb_rfe_200,\n",
    "                      xgb_rfe_200.transform(train_feature),\n",
    "                      train_label,\n",
    "                      xgb_rfe_200.transform(test_feature),\n",
    "                      test_leabel)"
   ],
   "id": "e92dd8c4f4b9a08b",
   "outputs": [
    {
     "name": "stdout",
     "output_type": "stream",
     "text": [
      "Starting Training...\n",
      "Time for Training: 0.3236119747161865\n",
      "The Result for CV:\n",
      "MAE:1.9302\n",
      "PCC:0.8932\n",
      "R2:0.7965\n",
      "RMSE:3.4200\n",
      "Time for CV:1.5840864181518555\n",
      "Starting Testing...\n",
      "The Result for Testing:MAE:4.5015\n",
      "PCC:0.6979\n",
      "R2:0.3654\n",
      "RMSE:5.7689\n",
      "Time for Testing:0.0019996166229248047\n"
     ]
    },
    {
     "data": {
      "text/plain": [
       "<Figure size 500x300 with 1 Axes>"
      ],
      "image/png": "[encoded data removed]"
     },
     "metadata": {},
     "output_type": "display_data"
    }
   ],
   "execution_count": 4
  },
  {
   "metadata": {},
   "cell_type": "markdown",
   "source": "### ProThermDB",
   "id": "72dcff8691f0fc5b"
  },
  {
   "metadata": {
    "ExecuteTime": {
     "end_time": "2024-04-28T07:21:33.649503Z",
     "start_time": "2024-04-28T07:20:40.308825Z"
    }
   },
   "cell_type": "code",
   "source": [
    "dataset = Dataset4MutTm(package_path=r\"D:\\WorkPath\\PycharmProjects\\MutTm-pred\\Dataset\\Process4Dataset\",\n",
    "                          train_dataset_path=r\"D:\\WorkPath\\PycharmProjects\\MutTm-pred\\Dataset\\BasicData\\ProThermDB\\pH-Tm\\excllent_ProThermDB_Training.csv\",\n",
    "                          test_dataset_path=r\"D:\\WorkPath\\PycharmProjects\\MutTm-pred\\Dataset\\BasicData\\ProThermDB\\pH-Tm\\excllent_ProThermDB_Testing.csv\",\n",
    "                          training_version=\"ProThermDB_withpHTm\",\n",
    "                          testing_version=\"ProThermDBTest_withpHTm\",\n",
    "                          selected_columns=[\"UniProt_ID\", \"Mutation\", \"pH\", \"Tm\", \"ΔTm\"],\n",
    "                          features=[\"neighbor\", \"aaindex\", \"group\", \"param\", \"rpm\", \"hydrop\", \"GO\", \"context_embedding\"],\n",
    "                          context_length=200,\n",
    "                          embedding_model_path=\"DeepLearning/EmbeddingModels/ESM-2/esm2_t33_650M_UR50D\",\n",
    "                          embedding_model_name=\"ESM-2-650M\",\n",
    "                          embedding_method=\"add\")\n",
    "\n",
    "train_feature = np.array(dataset.train_feature_set)\n",
    "train_label = np.array(dataset.train_label_set).ravel()\n",
    "test_feature = np.array(dataset.test_feature_set)\n",
    "test_leabel = np.array(dataset.test_label_set).ravel()"
   ],
   "id": "afb2456257a66ccc",
   "outputs": [
    {
     "name": "stdout",
     "output_type": "stream",
     "text": [
      "当前使用设备：  NVIDIA GeForce RTX 4070 Ti SUPER\n",
      "===正在从训练集版本为ProThermDB_withpHTm、训练集版本为ProThermDBTest_withpHTm的原始数据集中进行数据清洗和生物特征提取工作===\n",
      "1.预处理训练集数据...\n",
      "-删除数据缺失行及非法行共计0行\n",
      "-丢弃pH/Tm的缺失值\n",
      "-前一数据集采用了后一数据集中的0条数据，现已删除\n",
      "-获取[序列]信息.....该数据集已经经过处理，直接使用缓存文件\n",
      "-删除了42个UniProtID无法获取序列的数据\n",
      "-删除了2004条非法长度的数据，当前蛋白质长度被限制在(200, 5000)\n",
      "-删除条91个突变位点对应错误的数据\n",
      "2.预处理测试集数据...\n",
      "-删除数据缺失行及非法行共计0行\n",
      "-丢弃pH/Tm的缺失值\n",
      "-获取[序列]信息.....该数据集已经经过处理，直接使用缓存文件\n",
      "-删除了0个UniProtID无法获取序列的数据\n",
      "-删除了137条非法长度的数据，当前蛋白质长度被限制在(200, 5000)\n",
      "-删除条10个突变位点对应错误的数据\n",
      "3.为训练集数据提取生物特征...\n",
      "-获取[neighbor特征].....该数据集已经经过处理，直接使用缓存文件\n",
      "-获取[aaindex特征].....该数据集已经经过处理，直接使用缓存文件\n",
      "-获取[group特征].....该数据集已经经过处理，直接使用缓存文件\n",
      "-获取[param]特征.....该数据集已经经过处理，直接使用缓存文件\n",
      "-获取[pssm]特征.....该数据集已经经过处理，直接使用缓存文件\n",
      "-获取[hydrop]特征.....该数据集已经经过处理，直接使用缓存文件\n",
      "-获取[context_embedding]特征,该特征没有缓存文件，直接生成...\n"
     ]
    },
    {
     "name": "stderr",
     "output_type": "stream",
     "text": [
      "Some weights of EsmModel were not initialized from the model checkpoint at DeepLearning/EmbeddingModels/ESM-2/esm2_t33_650M_UR50D and are newly initialized: ['esm.pooler.dense.bias', 'esm.pooler.dense.weight']\n",
      "You should probably TRAIN this model on a down-stream task to be able to use it for predictions and inference.\n"
     ]
    },
    {
     "name": "stdout",
     "output_type": "stream",
     "text": [
      "嵌入模型后显存使用量:  2.503221035003662\n",
      "-释放模型后显存用量: 0.011113166809082031\n",
      "4.为测试集数据提取生物特征...\n",
      "-获取[neighbor特征].....该数据集已经经过处理，直接使用缓存文件\n",
      "-获取[aaindex特征].....该数据集已经经过处理，直接使用缓存文件\n",
      "-获取[group特征].....该数据集已经经过处理，直接使用缓存文件\n",
      "-获取[param]特征.....该数据集已经经过处理，直接使用缓存文件\n",
      "-获取[pssm]特征.....该数据集已经经过处理，直接使用缓存文件\n",
      "-获取[hydrop]特征.....该数据集已经经过处理，直接使用缓存文件\n",
      "-获取[context_embedding]特征,该特征没有缓存文件，直接生成...\n"
     ]
    },
    {
     "name": "stderr",
     "output_type": "stream",
     "text": [
      "Some weights of EsmModel were not initialized from the model checkpoint at DeepLearning/EmbeddingModels/ESM-2/esm2_t33_650M_UR50D and are newly initialized: ['esm.pooler.dense.bias', 'esm.pooler.dense.weight']\n",
      "You should probably TRAIN this model on a down-stream task to be able to use it for predictions and inference.\n"
     ]
    },
    {
     "name": "stdout",
     "output_type": "stream",
     "text": [
      "嵌入模型后显存使用量:  2.503221035003662\n",
      "-释放模型后显存用量: 0.011113166809082031\n",
      "5.利用GO富集分析从训练集和测试集中提取LR与PA值\n",
      "-获取[GO]特征....."
     ]
    },
    {
     "name": "stderr",
     "output_type": "stream",
     "text": [
      "100%|██████████| 2213/2213 [00:00<00:00, 27003.89it/s]\n",
      "100%|██████████| 213/213 [00:00<00:00, 26625.34it/s]\n",
      "100%|██████████| 2213/2213 [00:00<00:00, 10145.65it/s]\n",
      "100%|██████████| 213/213 [00:00<00:00, 10142.79it/s]\n"
     ]
    },
    {
     "name": "stdout",
     "output_type": "stream",
     "text": [
      "6.从全数据集中提取生物特征集、标签集和基本信息集...\n",
      "7.数据清洗和生物特征提取工作完成==>当前显存用量:0.0079345703125\n"
     ]
    }
   ],
   "execution_count": 5
  },
  {
   "metadata": {
    "ExecuteTime": {
     "end_time": "2024-04-28T07:21:55.499546Z",
     "start_time": "2024-04-28T07:21:33.650508Z"
    }
   },
   "cell_type": "code",
   "source": [
    "xgb_rfe_200 = RFE(XGBRegressor(),\n",
    "                 n_features_to_select=200,\n",
    "                 step=50,\n",
    "                 verbose=False)\n",
    "xgb_rfe_200.fit(train_feature, train_label)\n",
    "train_validation_test(xgb_rfe_200,\n",
    "                      xgb_rfe_200.transform(train_feature),\n",
    "                      train_label,\n",
    "                      xgb_rfe_200.transform(test_feature),\n",
    "                      test_leabel)"
   ],
   "id": "6b4eedb5f3544821",
   "outputs": [
    {
     "name": "stdout",
     "output_type": "stream",
     "text": [
      "Starting Training...\n",
      "Time for Training: 0.2370007038116455\n",
      "The Result for CV:\n",
      "MAE:1.6987\n",
      "PCC:0.9146\n",
      "R2:0.8358\n",
      "RMSE:3.3580\n",
      "Time for CV:1.231468677520752\n",
      "Starting Testing...\n",
      "The Result for Testing:MAE:2.8221\n",
      "PCC:0.7766\n",
      "R2:0.5951\n",
      "RMSE:4.6083\n",
      "Time for Testing:0.0019991397857666016\n"
     ]
    },
    {
     "data": {
      "text/plain": [
       "<Figure size 500x300 with 1 Axes>"
      ],
      "image/png": "[encoded data removed]"
     },
     "metadata": {},
     "output_type": "display_data"
    }
   ],
   "execution_count": 6
  }
 ],
 "metadata": {
  "kernelspec": {
   "display_name": "Python 3",
   "language": "python",
   "name": "python3"
  },
  "language_info": {
   "codemirror_mode": {
    "name": "ipython",
    "version": 2
   },
   "file_extension": ".py",
   "mimetype": "text/x-python",
   "name": "python",
   "nbconvert_exporter": "python",
   "pygments_lexer": "ipython2",
   "version": "2.7.6"
  }
 },
 "nbformat": 4,
 "nbformat_minor": 5
}
